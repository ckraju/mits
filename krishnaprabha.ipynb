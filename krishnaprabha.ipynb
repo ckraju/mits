{
  "nbformat": 4,
  "nbformat_minor": 0,
  "metadata": {
    "colab": {
      "name": "diabetes-pandas.ipynb",
      "provenance": [],
      "collapsed_sections": [],
      "include_colab_link": true
    },
    "kernelspec": {
      "name": "python3",
      "display_name": "Python 3"
    }
  },
  "cells": [
    {
      "cell_type": "markdown",
      "metadata": {
        "id": "view-in-github",
        "colab_type": "text"
      },
      "source": [
        "<a href=\"https://colab.research.google.com/github/ckraju/mits/blob/master/krishnaprabha.ipynb\" target=\"_parent\"><img src=\"https://colab.research.google.com/assets/colab-badge.svg\" alt=\"Open In Colab\"/></a>"
      ]
    },
    {
      "cell_type": "code",
      "metadata": {
        "id": "ZYUuODpIbHpu",
        "colab_type": "code",
        "outputId": "ff6225ab-468b-4474-948a-3411b3c8f10c",
        "colab": {
          "resources": {
            "http://localhost:8080/nbextensions/google.colab/files.js": {
              "data": "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",
              "ok": true,
              "headers": [
                [
                  "content-type",
                  "application/javascript"
                ]
              ],
              "status": 200,
              "status_text": "OK"
            }
          },
          "base_uri": "https://localhost:8080/",
          "height": 389
        }
      },
      "source": [
        "from google.colab import files\n",
        "uploaded = files.upload()"
      ],
      "execution_count": 40,
      "outputs": [
        {
          "output_type": "display_data",
          "data": {
            "text/html": [
              "\n",
              "     <input type=\"file\" id=\"files-b3bc8602-5793-4f0e-8580-26d23bfdde0d\" name=\"files[]\" multiple disabled />\n",
              "     <output id=\"result-b3bc8602-5793-4f0e-8580-26d23bfdde0d\">\n",
              "      Upload widget is only available when the cell has been executed in the\n",
              "      current browser session. Please rerun this cell to enable.\n",
              "      </output>\n",
              "      <script src=\"/nbextensions/google.colab/files.js\"></script> "
            ],
            "text/plain": [
              "<IPython.core.display.HTML object>"
            ]
          },
          "metadata": {
            "tags": []
          }
        },
        {
          "output_type": "stream",
          "text": [
            "Saving sample640.csv to sample640 (1).csv\n"
          ],
          "name": "stdout"
        },
        {
          "output_type": "error",
          "ename": "KeyboardInterrupt",
          "evalue": "ignored",
          "traceback": [
            "\u001b[0;31m---------------------------------------------------------------------------\u001b[0m",
            "\u001b[0;31mKeyboardInterrupt\u001b[0m                         Traceback (most recent call last)",
            "\u001b[0;32m<ipython-input-40-21dc3c638f66>\u001b[0m in \u001b[0;36m<module>\u001b[0;34m()\u001b[0m\n\u001b[1;32m      1\u001b[0m \u001b[0;32mfrom\u001b[0m \u001b[0mgoogle\u001b[0m\u001b[0;34m.\u001b[0m\u001b[0mcolab\u001b[0m \u001b[0;32mimport\u001b[0m \u001b[0mfiles\u001b[0m\u001b[0;34m\u001b[0m\u001b[0;34m\u001b[0m\u001b[0m\n\u001b[0;32m----> 2\u001b[0;31m \u001b[0muploaded\u001b[0m \u001b[0;34m=\u001b[0m \u001b[0mfiles\u001b[0m\u001b[0;34m.\u001b[0m\u001b[0mupload\u001b[0m\u001b[0;34m(\u001b[0m\u001b[0;34m)\u001b[0m\u001b[0;34m\u001b[0m\u001b[0;34m\u001b[0m\u001b[0m\n\u001b[0m",
            "\u001b[0;32m/usr/local/lib/python3.6/dist-packages/google/colab/files.py\u001b[0m in \u001b[0;36mupload\u001b[0;34m()\u001b[0m\n\u001b[1;32m     70\u001b[0m     result = _output.eval_js(\n\u001b[1;32m     71\u001b[0m         'google.colab._files._uploadFilesContinue(\"{output_id}\")'.format(\n\u001b[0;32m---> 72\u001b[0;31m             output_id=output_id))\n\u001b[0m\u001b[1;32m     73\u001b[0m     \u001b[0;32mif\u001b[0m \u001b[0mresult\u001b[0m\u001b[0;34m[\u001b[0m\u001b[0;34m'action'\u001b[0m\u001b[0;34m]\u001b[0m \u001b[0;34m!=\u001b[0m \u001b[0;34m'append'\u001b[0m\u001b[0;34m:\u001b[0m\u001b[0;34m\u001b[0m\u001b[0;34m\u001b[0m\u001b[0m\n\u001b[1;32m     74\u001b[0m       \u001b[0;31m# JS side uses a generator of promises to process all of the files- some\u001b[0m\u001b[0;34m\u001b[0m\u001b[0;34m\u001b[0m\u001b[0;34m\u001b[0m\u001b[0m\n",
            "\u001b[0;32m/usr/local/lib/python3.6/dist-packages/google/colab/output/_js.py\u001b[0m in \u001b[0;36meval_js\u001b[0;34m(script, ignore_result)\u001b[0m\n\u001b[1;32m     37\u001b[0m   \u001b[0;32mif\u001b[0m \u001b[0mignore_result\u001b[0m\u001b[0;34m:\u001b[0m\u001b[0;34m\u001b[0m\u001b[0;34m\u001b[0m\u001b[0m\n\u001b[1;32m     38\u001b[0m     \u001b[0;32mreturn\u001b[0m\u001b[0;34m\u001b[0m\u001b[0;34m\u001b[0m\u001b[0m\n\u001b[0;32m---> 39\u001b[0;31m   \u001b[0;32mreturn\u001b[0m \u001b[0m_message\u001b[0m\u001b[0;34m.\u001b[0m\u001b[0mread_reply_from_input\u001b[0m\u001b[0;34m(\u001b[0m\u001b[0mrequest_id\u001b[0m\u001b[0;34m)\u001b[0m\u001b[0;34m\u001b[0m\u001b[0;34m\u001b[0m\u001b[0m\n\u001b[0m\u001b[1;32m     40\u001b[0m \u001b[0;34m\u001b[0m\u001b[0m\n\u001b[1;32m     41\u001b[0m \u001b[0;34m\u001b[0m\u001b[0m\n",
            "\u001b[0;32m/usr/local/lib/python3.6/dist-packages/google/colab/_message.py\u001b[0m in \u001b[0;36mread_reply_from_input\u001b[0;34m(message_id, timeout_sec)\u001b[0m\n\u001b[1;32m     99\u001b[0m     \u001b[0mreply\u001b[0m \u001b[0;34m=\u001b[0m \u001b[0m_read_next_input_message\u001b[0m\u001b[0;34m(\u001b[0m\u001b[0;34m)\u001b[0m\u001b[0;34m\u001b[0m\u001b[0;34m\u001b[0m\u001b[0m\n\u001b[1;32m    100\u001b[0m     \u001b[0;32mif\u001b[0m \u001b[0mreply\u001b[0m \u001b[0;34m==\u001b[0m \u001b[0m_NOT_READY\u001b[0m \u001b[0;32mor\u001b[0m \u001b[0;32mnot\u001b[0m \u001b[0misinstance\u001b[0m\u001b[0;34m(\u001b[0m\u001b[0mreply\u001b[0m\u001b[0;34m,\u001b[0m \u001b[0mdict\u001b[0m\u001b[0;34m)\u001b[0m\u001b[0;34m:\u001b[0m\u001b[0;34m\u001b[0m\u001b[0;34m\u001b[0m\u001b[0m\n\u001b[0;32m--> 101\u001b[0;31m       \u001b[0mtime\u001b[0m\u001b[0;34m.\u001b[0m\u001b[0msleep\u001b[0m\u001b[0;34m(\u001b[0m\u001b[0;36m0.025\u001b[0m\u001b[0;34m)\u001b[0m\u001b[0;34m\u001b[0m\u001b[0;34m\u001b[0m\u001b[0m\n\u001b[0m\u001b[1;32m    102\u001b[0m       \u001b[0;32mcontinue\u001b[0m\u001b[0;34m\u001b[0m\u001b[0;34m\u001b[0m\u001b[0m\n\u001b[1;32m    103\u001b[0m     if (reply.get('type') == 'colab_reply' and\n",
            "\u001b[0;31mKeyboardInterrupt\u001b[0m: "
          ]
        }
      ]
    },
    {
      "cell_type": "code",
      "metadata": {
        "id": "vZbF5toObZ4t",
        "colab_type": "code",
        "colab": {}
      },
      "source": [
        "import pandas as pd\n"
      ],
      "execution_count": 0,
      "outputs": []
    },
    {
      "cell_type": "code",
      "metadata": {
        "id": "DAIabSxIbcrT",
        "colab_type": "code",
        "colab": {}
      },
      "source": [
        "import io\n",
        "\n",
        "df2 = pd.read_csv(io.BytesIO(uploaded['sample640.csv']))\n",
        "\n",
        "# Dataset is now stored in a Pandas Dataframe"
      ],
      "execution_count": 0,
      "outputs": []
    },
    {
      "cell_type": "markdown",
      "metadata": {
        "id": "UtpPyoEKch6B",
        "colab_type": "text"
      },
      "source": [
        ""
      ]
    },
    {
      "cell_type": "code",
      "metadata": {
        "id": "Ai24xiVNelLZ",
        "colab_type": "code",
        "colab": {}
      },
      "source": [
        "# Visualize training history\n",
        "from keras.models import Sequential\n",
        "from keras.layers import Dense\n",
        "import matplotlib.pyplot as plt\n",
        "import numpy\n",
        "from keras.utils import to_categorical"
      ],
      "execution_count": 0,
      "outputs": []
    },
    {
      "cell_type": "code",
      "metadata": {
        "id": "HKPD3qUQeoDe",
        "colab_type": "code",
        "colab": {}
      },
      "source": [
        "# fix random seed for reproducibility\n",
        "#seed = 5\n",
        "#numpy.random.seed(seed)\n",
        "# load pima indians dataset\n",
        "dataset = numpy.loadtxt(\"sample640.csv\", delimiter=\",\")\n",
        "# split into input (X) and output (Y) variables\n",
        "X = dataset[:,0:640]\n",
        "Y = dataset[:,640]"
      ],
      "execution_count": 0,
      "outputs": []
    },
    {
      "cell_type": "code",
      "metadata": {
        "id": "JVlDc58yfOId",
        "colab_type": "code",
        "outputId": "a03c84c8-3626-4fb8-ff58-c0d81ddb0fb5",
        "colab": {
          "base_uri": "https://localhost:8080/",
          "height": 243
        }
      },
      "source": [
        "X"
      ],
      "execution_count": 113,
      "outputs": [
        {
          "output_type": "execute_result",
          "data": {
            "text/plain": [
              "array([[ 2.01216985e-03,  4.30685562e-04,  4.44108667e-03, ...,\n",
              "         1.52887931e-01,  1.69216859e+00,  1.47828408e+00],\n",
              "       [-7.13038377e-04, -3.09778156e-03,  8.22632253e-04, ...,\n",
              "         1.49532349e-01,  1.68735175e+00,  1.47754839e+00],\n",
              "       [-3.00873506e-04,  4.02494276e-03, -4.27990370e-03, ...,\n",
              "         1.57004038e-01,  1.69615790e+00,  1.47676952e+00],\n",
              "       ...,\n",
              "       [ 2.26422377e-03,  1.91372754e-03, -4.72440731e-03, ...,\n",
              "         1.49547676e+00,  2.03379548e+00,  4.70046831e-01],\n",
              "       [-1.84641610e-03,  9.81615310e-04,  2.07430737e-03, ...,\n",
              "         1.49652694e+00,  2.03244357e+00,  4.68514815e-01],\n",
              "       [ 4.36300324e-04, -2.92414153e-03,  1.97867842e-03, ...,\n",
              "         1.49461981e+00,  2.03294508e+00,  4.69365605e-01]])"
            ]
          },
          "metadata": {
            "tags": []
          },
          "execution_count": 113
        }
      ]
    },
    {
      "cell_type": "code",
      "metadata": {
        "id": "eKIfHEqOfTzR",
        "colab_type": "code",
        "outputId": "0fbde5e7-4b24-4f26-f003-90381de33f0b",
        "colab": {
          "base_uri": "https://localhost:8080/",
          "height": 34
        }
      },
      "source": [
        "Y"
      ],
      "execution_count": 114,
      "outputs": [
        {
          "output_type": "execute_result",
          "data": {
            "text/plain": [
              "array([5., 5., 5., ..., 6., 6., 6.])"
            ]
          },
          "metadata": {
            "tags": []
          },
          "execution_count": 114
        }
      ]
    },
    {
      "cell_type": "code",
      "metadata": {
        "id": "AKyDFB9OoYAD",
        "colab_type": "code",
        "colab": {
          "base_uri": "https://localhost:8080/",
          "height": 34
        },
        "outputId": "bccdc5ff-b76f-4ba0-bc7d-d57d9cf3b8db"
      },
      "source": [
        "Y.shape"
      ],
      "execution_count": 102,
      "outputs": [
        {
          "output_type": "execute_result",
          "data": {
            "text/plain": [
              "(5001, 7)"
            ]
          },
          "metadata": {
            "tags": []
          },
          "execution_count": 102
        }
      ]
    },
    {
      "cell_type": "code",
      "metadata": {
        "id": "TU0Q5A5oodtV",
        "colab_type": "code",
        "colab": {
          "base_uri": "https://localhost:8080/",
          "height": 34
        },
        "outputId": "8e2348a4-4dbd-4074-8408-23a495cdc92a"
      },
      "source": [
        "X.shape"
      ],
      "execution_count": 103,
      "outputs": [
        {
          "output_type": "execute_result",
          "data": {
            "text/plain": [
              "(5001, 640)"
            ]
          },
          "metadata": {
            "tags": []
          },
          "execution_count": 103
        }
      ]
    },
    {
      "cell_type": "code",
      "metadata": {
        "id": "ydsfY1E2eqoy",
        "colab_type": "code",
        "colab": {}
      },
      "source": [
        "# create model\n",
        "model = Sequential()\n",
        "model.add(Dense(640, input_dim=640, activation='relu'))\n",
        "model.add(Dense(300, activation='relu'))\n",
        "model.add(Dense(300, activation='relu'))\n",
        "model.add(Dense(7, activation='softmax'))"
      ],
      "execution_count": 0,
      "outputs": []
    },
    {
      "cell_type": "code",
      "metadata": {
        "id": "CNSU3u6OmWHX",
        "colab_type": "code",
        "colab": {
          "base_uri": "https://localhost:8080/",
          "height": 295
        },
        "outputId": "93a04304-dc3a-46ff-d65f-41fcf21473a4"
      },
      "source": [
        "model.summary()"
      ],
      "execution_count": 116,
      "outputs": [
        {
          "output_type": "stream",
          "text": [
            "Model: \"sequential_15\"\n",
            "_________________________________________________________________\n",
            "Layer (type)                 Output Shape              Param #   \n",
            "=================================================================\n",
            "dense_57 (Dense)             (None, 640)               410240    \n",
            "_________________________________________________________________\n",
            "dense_58 (Dense)             (None, 300)               192300    \n",
            "_________________________________________________________________\n",
            "dense_59 (Dense)             (None, 300)               90300     \n",
            "_________________________________________________________________\n",
            "dense_60 (Dense)             (None, 7)                 2107      \n",
            "=================================================================\n",
            "Total params: 694,947\n",
            "Trainable params: 694,947\n",
            "Non-trainable params: 0\n",
            "_________________________________________________________________\n"
          ],
          "name": "stdout"
        }
      ]
    },
    {
      "cell_type": "code",
      "metadata": {
        "id": "ftQMCmNrmvnX",
        "colab_type": "code",
        "colab": {}
      },
      "source": [
        "model.compile(loss='categorical_crossentropy', optimizer='adam', metrics=['accuracy'])"
      ],
      "execution_count": 0,
      "outputs": []
    },
    {
      "cell_type": "code",
      "metadata": {
        "id": "MOUiHiQ3mzEm",
        "colab_type": "code",
        "colab": {}
      },
      "source": [
        "from keras.utils import to_categorical\n",
        "\n",
        "Y = to_categorical(Y)\n",
        "\n",
        "\n"
      ],
      "execution_count": 0,
      "outputs": []
    },
    {
      "cell_type": "code",
      "metadata": {
        "id": "4RB2e-3bnhjK",
        "colab_type": "code",
        "colab": {
          "base_uri": "https://localhost:8080/",
          "height": 34
        },
        "outputId": "d3d8a368-7bf1-48b1-841e-b45df8d3191d"
      },
      "source": [
        "Y.shape"
      ],
      "execution_count": 119,
      "outputs": [
        {
          "output_type": "execute_result",
          "data": {
            "text/plain": [
              "(5001, 7)"
            ]
          },
          "metadata": {
            "tags": []
          },
          "execution_count": 119
        }
      ]
    },
    {
      "cell_type": "code",
      "metadata": {
        "id": "-CuyVa1SqCdz",
        "colab_type": "code",
        "colab": {
          "base_uri": "https://localhost:8080/",
          "height": 139
        },
        "outputId": "f699204a-40f3-4704-8f81-51d60ca97b85"
      },
      "source": [
        "Y"
      ],
      "execution_count": 120,
      "outputs": [
        {
          "output_type": "execute_result",
          "data": {
            "text/plain": [
              "array([[0., 0., 0., ..., 0., 1., 0.],\n",
              "       [0., 0., 0., ..., 0., 1., 0.],\n",
              "       [0., 0., 0., ..., 0., 1., 0.],\n",
              "       ...,\n",
              "       [0., 0., 0., ..., 0., 0., 1.],\n",
              "       [0., 0., 0., ..., 0., 0., 1.],\n",
              "       [0., 0., 0., ..., 0., 0., 1.]], dtype=float32)"
            ]
          },
          "metadata": {
            "tags": []
          },
          "execution_count": 120
        }
      ]
    },
    {
      "cell_type": "code",
      "metadata": {
        "id": "mzgAC0seeu19",
        "colab_type": "code",
        "outputId": "d57d696b-60b0-4d1f-86fd-481e44de9ae7",
        "colab": {
          "base_uri": "https://localhost:8080/",
          "height": 1000
        }
      },
      "source": [
        "# Fit the model\n",
        "history = model.fit(X, Y, validation_split=0.25, epochs=100)\n",
        "# list all data in history\n",
        "print(history.history.keys())"
      ],
      "execution_count": 121,
      "outputs": [
        {
          "output_type": "stream",
          "text": [
            "Train on 3750 samples, validate on 1251 samples\n",
            "Epoch 1/100\n",
            "3750/3750 [==============================] - 2s 475us/step - loss: 13.2425 - acc: 0.1771 - val_loss: 13.2192 - val_acc: 0.1799\n",
            "Epoch 2/100\n",
            "3750/3750 [==============================] - 1s 328us/step - loss: 13.2985 - acc: 0.1749 - val_loss: 13.2192 - val_acc: 0.1799\n",
            "Epoch 3/100\n",
            "3750/3750 [==============================] - 1s 340us/step - loss: 13.2985 - acc: 0.1749 - val_loss: 13.2192 - val_acc: 0.1799\n",
            "Epoch 4/100\n",
            "3750/3750 [==============================] - 1s 334us/step - loss: 13.2985 - acc: 0.1749 - val_loss: 13.2192 - val_acc: 0.1799\n",
            "Epoch 5/100\n",
            "3750/3750 [==============================] - 1s 333us/step - loss: 13.2985 - acc: 0.1749 - val_loss: 13.2192 - val_acc: 0.1799\n",
            "Epoch 6/100\n",
            "3750/3750 [==============================] - 1s 336us/step - loss: 13.2985 - acc: 0.1749 - val_loss: 13.2192 - val_acc: 0.1799\n",
            "Epoch 7/100\n",
            "3750/3750 [==============================] - 1s 329us/step - loss: 13.2985 - acc: 0.1749 - val_loss: 13.2192 - val_acc: 0.1799\n",
            "Epoch 8/100\n",
            "3750/3750 [==============================] - 1s 342us/step - loss: 13.2985 - acc: 0.1749 - val_loss: 13.2192 - val_acc: 0.1799\n",
            "Epoch 9/100\n",
            "3750/3750 [==============================] - 1s 331us/step - loss: 13.2985 - acc: 0.1749 - val_loss: 13.2192 - val_acc: 0.1799\n",
            "Epoch 10/100\n",
            "3750/3750 [==============================] - 1s 330us/step - loss: 13.2985 - acc: 0.1749 - val_loss: 13.2192 - val_acc: 0.1799\n",
            "Epoch 11/100\n",
            "3750/3750 [==============================] - 1s 366us/step - loss: 13.2985 - acc: 0.1749 - val_loss: 13.2192 - val_acc: 0.1799\n",
            "Epoch 12/100\n",
            "3750/3750 [==============================] - 1s 338us/step - loss: 13.2985 - acc: 0.1749 - val_loss: 13.2192 - val_acc: 0.1799\n",
            "Epoch 13/100\n",
            "3750/3750 [==============================] - 1s 334us/step - loss: 13.2985 - acc: 0.1749 - val_loss: 13.2192 - val_acc: 0.1799\n",
            "Epoch 14/100\n",
            "3750/3750 [==============================] - 1s 332us/step - loss: 13.2985 - acc: 0.1749 - val_loss: 13.2192 - val_acc: 0.1799\n",
            "Epoch 15/100\n",
            "3750/3750 [==============================] - 1s 332us/step - loss: 13.2985 - acc: 0.1749 - val_loss: 13.2192 - val_acc: 0.1799\n",
            "Epoch 16/100\n",
            "3750/3750 [==============================] - 1s 336us/step - loss: 13.2985 - acc: 0.1749 - val_loss: 13.2192 - val_acc: 0.1799\n",
            "Epoch 17/100\n",
            "3750/3750 [==============================] - 1s 335us/step - loss: 13.2985 - acc: 0.1749 - val_loss: 13.2192 - val_acc: 0.1799\n",
            "Epoch 18/100\n",
            "3750/3750 [==============================] - 1s 332us/step - loss: 13.2985 - acc: 0.1749 - val_loss: 13.2192 - val_acc: 0.1799\n",
            "Epoch 19/100\n",
            "3750/3750 [==============================] - 1s 344us/step - loss: 13.2985 - acc: 0.1749 - val_loss: 13.2192 - val_acc: 0.1799\n",
            "Epoch 20/100\n",
            "3750/3750 [==============================] - 1s 333us/step - loss: 13.2985 - acc: 0.1749 - val_loss: 13.2192 - val_acc: 0.1799\n",
            "Epoch 21/100\n",
            "3750/3750 [==============================] - 1s 327us/step - loss: 13.2985 - acc: 0.1749 - val_loss: 13.2192 - val_acc: 0.1799\n",
            "Epoch 22/100\n",
            "3750/3750 [==============================] - 1s 330us/step - loss: 13.2985 - acc: 0.1749 - val_loss: 13.2192 - val_acc: 0.1799\n",
            "Epoch 23/100\n",
            "3750/3750 [==============================] - 1s 327us/step - loss: 13.2985 - acc: 0.1749 - val_loss: 13.2192 - val_acc: 0.1799\n",
            "Epoch 24/100\n",
            "3750/3750 [==============================] - 1s 328us/step - loss: 13.2985 - acc: 0.1749 - val_loss: 13.2192 - val_acc: 0.1799\n",
            "Epoch 25/100\n",
            "3750/3750 [==============================] - 1s 324us/step - loss: 13.2985 - acc: 0.1749 - val_loss: 13.2192 - val_acc: 0.1799\n",
            "Epoch 26/100\n",
            "3750/3750 [==============================] - 1s 327us/step - loss: 13.2985 - acc: 0.1749 - val_loss: 13.2192 - val_acc: 0.1799\n",
            "Epoch 27/100\n",
            "3750/3750 [==============================] - 1s 335us/step - loss: 13.2985 - acc: 0.1749 - val_loss: 13.2192 - val_acc: 0.1799\n",
            "Epoch 28/100\n",
            "3750/3750 [==============================] - 1s 334us/step - loss: 13.2985 - acc: 0.1749 - val_loss: 13.2192 - val_acc: 0.1799\n",
            "Epoch 29/100\n",
            "3750/3750 [==============================] - 1s 329us/step - loss: 13.2985 - acc: 0.1749 - val_loss: 13.2192 - val_acc: 0.1799\n",
            "Epoch 30/100\n",
            "3750/3750 [==============================] - 1s 331us/step - loss: 13.2985 - acc: 0.1749 - val_loss: 13.2192 - val_acc: 0.1799\n",
            "Epoch 31/100\n",
            "3750/3750 [==============================] - 1s 329us/step - loss: 13.2985 - acc: 0.1749 - val_loss: 13.2192 - val_acc: 0.1799\n",
            "Epoch 32/100\n",
            "3750/3750 [==============================] - 1s 328us/step - loss: 13.2985 - acc: 0.1749 - val_loss: 13.2192 - val_acc: 0.1799\n",
            "Epoch 33/100\n",
            "3750/3750 [==============================] - 1s 332us/step - loss: 13.2985 - acc: 0.1749 - val_loss: 13.2192 - val_acc: 0.1799\n",
            "Epoch 34/100\n",
            "3750/3750 [==============================] - 1s 334us/step - loss: 13.2985 - acc: 0.1749 - val_loss: 13.2192 - val_acc: 0.1799\n",
            "Epoch 35/100\n",
            "3750/3750 [==============================] - 1s 330us/step - loss: 13.2985 - acc: 0.1749 - val_loss: 13.2192 - val_acc: 0.1799\n",
            "Epoch 36/100\n",
            "3750/3750 [==============================] - 1s 343us/step - loss: 13.2985 - acc: 0.1749 - val_loss: 13.2192 - val_acc: 0.1799\n",
            "Epoch 37/100\n",
            "3750/3750 [==============================] - 1s 329us/step - loss: 13.2985 - acc: 0.1749 - val_loss: 13.2192 - val_acc: 0.1799\n",
            "Epoch 38/100\n",
            "3750/3750 [==============================] - 1s 343us/step - loss: 13.2985 - acc: 0.1749 - val_loss: 13.2192 - val_acc: 0.1799\n",
            "Epoch 39/100\n",
            "3750/3750 [==============================] - 1s 323us/step - loss: 13.2985 - acc: 0.1749 - val_loss: 13.2192 - val_acc: 0.1799\n",
            "Epoch 40/100\n",
            "3750/3750 [==============================] - 1s 337us/step - loss: 13.2985 - acc: 0.1749 - val_loss: 13.2192 - val_acc: 0.1799\n",
            "Epoch 41/100\n",
            "3750/3750 [==============================] - 1s 334us/step - loss: 13.2985 - acc: 0.1749 - val_loss: 13.2192 - val_acc: 0.1799\n",
            "Epoch 42/100\n",
            "3750/3750 [==============================] - 1s 330us/step - loss: 13.2985 - acc: 0.1749 - val_loss: 13.2192 - val_acc: 0.1799\n",
            "Epoch 43/100\n",
            "3750/3750 [==============================] - 1s 339us/step - loss: 13.2985 - acc: 0.1749 - val_loss: 13.2192 - val_acc: 0.1799\n",
            "Epoch 44/100\n",
            "3750/3750 [==============================] - 1s 333us/step - loss: 13.2985 - acc: 0.1749 - val_loss: 13.2192 - val_acc: 0.1799\n",
            "Epoch 45/100\n",
            "3750/3750 [==============================] - 1s 337us/step - loss: 13.2985 - acc: 0.1749 - val_loss: 13.2192 - val_acc: 0.1799\n",
            "Epoch 46/100\n",
            "3750/3750 [==============================] - 1s 327us/step - loss: 13.2985 - acc: 0.1749 - val_loss: 13.2192 - val_acc: 0.1799\n",
            "Epoch 47/100\n",
            "3750/3750 [==============================] - 1s 329us/step - loss: 13.2985 - acc: 0.1749 - val_loss: 13.2192 - val_acc: 0.1799\n",
            "Epoch 48/100\n",
            "3750/3750 [==============================] - 1s 334us/step - loss: 13.2985 - acc: 0.1749 - val_loss: 13.2192 - val_acc: 0.1799\n",
            "Epoch 49/100\n",
            "3750/3750 [==============================] - 1s 332us/step - loss: 13.2985 - acc: 0.1749 - val_loss: 13.2192 - val_acc: 0.1799\n",
            "Epoch 50/100\n",
            "3750/3750 [==============================] - 1s 331us/step - loss: 13.2985 - acc: 0.1749 - val_loss: 13.2192 - val_acc: 0.1799\n",
            "Epoch 51/100\n",
            "3750/3750 [==============================] - 1s 331us/step - loss: 13.2985 - acc: 0.1749 - val_loss: 13.2192 - val_acc: 0.1799\n",
            "Epoch 52/100\n",
            "3750/3750 [==============================] - 1s 326us/step - loss: 13.2985 - acc: 0.1749 - val_loss: 13.2192 - val_acc: 0.1799\n",
            "Epoch 53/100\n",
            "3750/3750 [==============================] - 1s 332us/step - loss: 13.2985 - acc: 0.1749 - val_loss: 13.2192 - val_acc: 0.1799\n",
            "Epoch 54/100\n",
            "3750/3750 [==============================] - 1s 338us/step - loss: 13.2985 - acc: 0.1749 - val_loss: 13.2192 - val_acc: 0.1799\n",
            "Epoch 55/100\n",
            "3750/3750 [==============================] - 1s 331us/step - loss: 13.2985 - acc: 0.1749 - val_loss: 13.2192 - val_acc: 0.1799\n",
            "Epoch 56/100\n",
            "3750/3750 [==============================] - 1s 338us/step - loss: 13.2985 - acc: 0.1749 - val_loss: 13.2192 - val_acc: 0.1799\n",
            "Epoch 57/100\n",
            "3750/3750 [==============================] - 1s 329us/step - loss: 13.2985 - acc: 0.1749 - val_loss: 13.2192 - val_acc: 0.1799\n",
            "Epoch 58/100\n",
            "3750/3750 [==============================] - 1s 323us/step - loss: 13.2985 - acc: 0.1749 - val_loss: 13.2192 - val_acc: 0.1799\n",
            "Epoch 59/100\n",
            "3750/3750 [==============================] - 1s 349us/step - loss: 13.2985 - acc: 0.1749 - val_loss: 13.2192 - val_acc: 0.1799\n",
            "Epoch 60/100\n",
            "3750/3750 [==============================] - 1s 350us/step - loss: 13.2985 - acc: 0.1749 - val_loss: 13.2192 - val_acc: 0.1799\n",
            "Epoch 61/100\n",
            "3750/3750 [==============================] - 1s 333us/step - loss: 13.2985 - acc: 0.1749 - val_loss: 13.2192 - val_acc: 0.1799\n",
            "Epoch 62/100\n",
            "3750/3750 [==============================] - 1s 332us/step - loss: 13.2985 - acc: 0.1749 - val_loss: 13.2192 - val_acc: 0.1799\n",
            "Epoch 63/100\n",
            "3750/3750 [==============================] - 1s 336us/step - loss: 13.2985 - acc: 0.1749 - val_loss: 13.2192 - val_acc: 0.1799\n",
            "Epoch 64/100\n",
            "3750/3750 [==============================] - 1s 330us/step - loss: 13.2985 - acc: 0.1749 - val_loss: 13.2192 - val_acc: 0.1799\n",
            "Epoch 65/100\n",
            "3750/3750 [==============================] - 1s 330us/step - loss: 13.2985 - acc: 0.1749 - val_loss: 13.2192 - val_acc: 0.1799\n",
            "Epoch 66/100\n",
            "3750/3750 [==============================] - 1s 330us/step - loss: 13.2985 - acc: 0.1749 - val_loss: 13.2192 - val_acc: 0.1799\n",
            "Epoch 67/100\n",
            "3750/3750 [==============================] - 1s 334us/step - loss: 13.2985 - acc: 0.1749 - val_loss: 13.2192 - val_acc: 0.1799\n",
            "Epoch 68/100\n",
            "3750/3750 [==============================] - 1s 325us/step - loss: 13.2985 - acc: 0.1749 - val_loss: 13.2192 - val_acc: 0.1799\n",
            "Epoch 69/100\n",
            "3750/3750 [==============================] - 1s 329us/step - loss: 13.2985 - acc: 0.1749 - val_loss: 13.2192 - val_acc: 0.1799\n",
            "Epoch 70/100\n",
            "3750/3750 [==============================] - 1s 335us/step - loss: 13.2985 - acc: 0.1749 - val_loss: 13.2192 - val_acc: 0.1799\n",
            "Epoch 71/100\n",
            "3750/3750 [==============================] - 1s 330us/step - loss: 13.2985 - acc: 0.1749 - val_loss: 13.2192 - val_acc: 0.1799\n",
            "Epoch 72/100\n",
            "3750/3750 [==============================] - 1s 324us/step - loss: 13.2985 - acc: 0.1749 - val_loss: 13.2192 - val_acc: 0.1799\n",
            "Epoch 73/100\n",
            "3750/3750 [==============================] - 1s 332us/step - loss: 13.2985 - acc: 0.1749 - val_loss: 13.2192 - val_acc: 0.1799\n",
            "Epoch 74/100\n",
            "3750/3750 [==============================] - 1s 321us/step - loss: 13.2985 - acc: 0.1749 - val_loss: 13.2192 - val_acc: 0.1799\n",
            "Epoch 75/100\n",
            "3750/3750 [==============================] - 1s 326us/step - loss: 13.2985 - acc: 0.1749 - val_loss: 13.2192 - val_acc: 0.1799\n",
            "Epoch 76/100\n",
            "3750/3750 [==============================] - 1s 324us/step - loss: 13.2985 - acc: 0.1749 - val_loss: 13.2192 - val_acc: 0.1799\n",
            "Epoch 77/100\n",
            "3750/3750 [==============================] - 1s 332us/step - loss: 13.2985 - acc: 0.1749 - val_loss: 13.2192 - val_acc: 0.1799\n",
            "Epoch 78/100\n",
            "3750/3750 [==============================] - 1s 335us/step - loss: 13.2985 - acc: 0.1749 - val_loss: 13.2192 - val_acc: 0.1799\n",
            "Epoch 79/100\n",
            "3750/3750 [==============================] - 1s 353us/step - loss: 13.2985 - acc: 0.1749 - val_loss: 13.2192 - val_acc: 0.1799\n",
            "Epoch 80/100\n",
            "3750/3750 [==============================] - 1s 355us/step - loss: 13.2985 - acc: 0.1749 - val_loss: 13.2192 - val_acc: 0.1799\n",
            "Epoch 81/100\n",
            "3750/3750 [==============================] - 1s 341us/step - loss: 13.2985 - acc: 0.1749 - val_loss: 13.2192 - val_acc: 0.1799\n",
            "Epoch 82/100\n",
            "3750/3750 [==============================] - 1s 320us/step - loss: 13.2985 - acc: 0.1749 - val_loss: 13.2192 - val_acc: 0.1799\n",
            "Epoch 83/100\n",
            "3750/3750 [==============================] - 1s 329us/step - loss: 13.2985 - acc: 0.1749 - val_loss: 13.2192 - val_acc: 0.1799\n",
            "Epoch 84/100\n",
            "3750/3750 [==============================] - 1s 330us/step - loss: 13.2985 - acc: 0.1749 - val_loss: 13.2192 - val_acc: 0.1799\n",
            "Epoch 85/100\n",
            "3750/3750 [==============================] - 1s 323us/step - loss: 13.2985 - acc: 0.1749 - val_loss: 13.2192 - val_acc: 0.1799\n",
            "Epoch 86/100\n",
            "3750/3750 [==============================] - 1s 332us/step - loss: 13.2985 - acc: 0.1749 - val_loss: 13.2192 - val_acc: 0.1799\n",
            "Epoch 87/100\n",
            "3750/3750 [==============================] - 1s 331us/step - loss: 13.2985 - acc: 0.1749 - val_loss: 13.2192 - val_acc: 0.1799\n",
            "Epoch 88/100\n",
            "3750/3750 [==============================] - 1s 331us/step - loss: 13.2985 - acc: 0.1749 - val_loss: 13.2192 - val_acc: 0.1799\n",
            "Epoch 89/100\n",
            "3750/3750 [==============================] - 1s 326us/step - loss: 13.2985 - acc: 0.1749 - val_loss: 13.2192 - val_acc: 0.1799\n",
            "Epoch 90/100\n",
            "3750/3750 [==============================] - 1s 327us/step - loss: 13.2985 - acc: 0.1749 - val_loss: 13.2192 - val_acc: 0.1799\n",
            "Epoch 91/100\n",
            "3750/3750 [==============================] - 1s 332us/step - loss: 13.2985 - acc: 0.1749 - val_loss: 13.2192 - val_acc: 0.1799\n",
            "Epoch 92/100\n",
            "3750/3750 [==============================] - 1s 324us/step - loss: 13.2985 - acc: 0.1749 - val_loss: 13.2192 - val_acc: 0.1799\n",
            "Epoch 93/100\n",
            "3750/3750 [==============================] - 1s 322us/step - loss: 13.2985 - acc: 0.1749 - val_loss: 13.2192 - val_acc: 0.1799\n",
            "Epoch 94/100\n",
            "3750/3750 [==============================] - 1s 326us/step - loss: 13.2985 - acc: 0.1749 - val_loss: 13.2192 - val_acc: 0.1799\n",
            "Epoch 95/100\n",
            "3750/3750 [==============================] - 1s 329us/step - loss: 13.2985 - acc: 0.1749 - val_loss: 13.2192 - val_acc: 0.1799\n",
            "Epoch 96/100\n",
            "3750/3750 [==============================] - 1s 328us/step - loss: 13.2985 - acc: 0.1749 - val_loss: 13.2192 - val_acc: 0.1799\n",
            "Epoch 97/100\n",
            "3750/3750 [==============================] - 1s 328us/step - loss: 13.2985 - acc: 0.1749 - val_loss: 13.2192 - val_acc: 0.1799\n",
            "Epoch 98/100\n",
            "3750/3750 [==============================] - 1s 318us/step - loss: 13.2985 - acc: 0.1749 - val_loss: 13.2192 - val_acc: 0.1799\n",
            "Epoch 99/100\n",
            "3750/3750 [==============================] - 1s 323us/step - loss: 13.2985 - acc: 0.1749 - val_loss: 13.2192 - val_acc: 0.1799\n",
            "Epoch 100/100\n",
            "3750/3750 [==============================] - 1s 325us/step - loss: 13.2985 - acc: 0.1749 - val_loss: 13.2192 - val_acc: 0.1799\n",
            "dict_keys(['val_loss', 'val_acc', 'loss', 'acc'])\n"
          ],
          "name": "stdout"
        }
      ]
    },
    {
      "cell_type": "code",
      "metadata": {
        "id": "xA0cQQd8cOs6",
        "colab_type": "code",
        "outputId": "bc28de98-5f50-447b-89a8-ee227824913a",
        "colab": {
          "base_uri": "https://localhost:8080/",
          "height": 573
        }
      },
      "source": [
        "# summarize history for accuracy\n",
        "plt.plot(history.history['acc'])\n",
        "plt.plot(history.history['val_acc'])\n",
        "plt.title('model accuracy')\n",
        "plt.ylabel('accuracy')\n",
        "plt.xlabel('epoch')\n",
        "plt.legend(['train', 'test'], loc='upper left')\n",
        "plt.show()\n",
        "# summarize history for loss\n",
        "plt.plot(history.history['loss'])\n",
        "plt.plot(history.history['val_loss'])\n",
        "plt.title('model loss')\n",
        "plt.ylabel('loss')\n",
        "plt.xlabel('epoch')\n",
        "plt.legend(['train', 'test'], loc='upper left')\n",
        "plt.show()"
      ],
      "execution_count": 122,
      "outputs": [
        {
          "output_type": "display_data",
          "data": {
            "image/png": "[encoded data removed]",
            "text/plain": [
              "<Figure size 432x288 with 1 Axes>"
            ]
          },
          "metadata": {
            "tags": []
          }
        },
        {
          "output_type": "display_data",
          "data": {
            "image/png": "[encoded data removed]",
            "text/plain": [
              "<Figure size 432x288 with 1 Axes>"
            ]
          },
          "metadata": {
            "tags": []
          }
        }
      ]
    }
  ]
}