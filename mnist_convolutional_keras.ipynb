{
  "nbformat": 4,
  "nbformat_minor": 0,
  "metadata": {
    "colab": {
      "name": "mnist-convolutional-keras.ipynb",
      "provenance": [],
      "collapsed_sections": [],
      "include_colab_link": true
    },
    "kernelspec": {
      "name": "python3",
      "display_name": "Python 3"
    },
    "accelerator": "GPU"
  },
  "cells": [
    {
      "cell_type": "markdown",
      "metadata": {
        "id": "view-in-github",
        "colab_type": "text"
      },
      "source": [
        "<a href=\"https://colab.research.google.com/github/ckraju/mits/blob/master/mnist_convolutional_keras.ipynb\" target=\"_parent\"><img src=\"https://colab.research.google.com/assets/colab-badge.svg\" alt=\"Open In Colab\"/></a>"
      ]
    },
    {
      "cell_type": "code",
      "metadata": {
        "id": "oFGgFuOYm0FL",
        "colab": {
          "base_uri": "https://localhost:8080/",
          "height": 36
        },
        "outputId": "1e8fdb8b-2198-4ec5-c0f8-3bf3b0704603"
      },
      "source": [
        "import keras\n",
        "keras.__version__\n"
      ],
      "execution_count": 1,
      "outputs": [
        {
          "output_type": "execute_result",
          "data": {
            "application/vnd.google.colaboratory.intrinsic+json": {
              "type": "string"
            },
            "text/plain": [
              "'2.5.0'"
            ]
          },
          "metadata": {
            "tags": []
          },
          "execution_count": 1
        }
      ]
    },
    {
      "cell_type": "code",
      "metadata": {
        "id": "PQnc_nMZo8NA",
        "colab": {
          "base_uri": "https://localhost:8080/",
          "height": 317
        },
        "outputId": "82c67a25-e039-4522-d4f1-83d9d9a529e4"
      },
      "source": [
        "from keras.datasets import mnist\n",
        "from tensorflow.keras.utils import to_categorical\n",
        "import matplotlib.pyplot as plt\n",
        "\n",
        "\n",
        "#download mnist data and split into train and test sets\n",
        "(X_train, y_train), (X_test, y_test) = mnist.load_data()\n",
        "\n",
        "#plot the first image in the dataset\n",
        "plt.imshow(X_train[1])\n",
        "\n",
        "X_train = X_train.reshape((60000, 28, 28, 1))\n",
        "X_train = X_train.astype('float32') / 255\n",
        "\n",
        "X_test = X_test.reshape((10000, 28, 28, 1))\n",
        "X_test = X_test.astype('float32') / 255\n",
        "\n",
        "y_train = to_categorical(y_train)\n",
        "y_test = to_categorical(y_test)"
      ],
      "execution_count": 3,
      "outputs": [
        {
          "output_type": "stream",
          "text": [
            "Downloading data from https://storage.googleapis.com/tensorflow/tf-keras-datasets/mnist.npz\n",
            "11493376/11490434 [==============================] - 0s 0us/step\n",
            "11501568/11490434 [==============================] - 0s 0us/step\n"
          ],
          "name": "stdout"
        },
        {
          "output_type": "display_data",
          "data": {
            "image/png": "[encoded data removed]",
            "text/plain": [
              "<Figure size 432x288 with 1 Axes>"
            ]
          },
          "metadata": {
            "tags": [],
            "needs_background": "light"
          }
        }
      ]
    },
    {
      "cell_type": "markdown",
      "metadata": {
        "id": "RlehBbQE7nyd"
      },
      "source": [
        "![Design layout of our experiment](https://drive.google.com/uc?id=1_HKSTo1I2S7I3c_A8K7TMCZFP38DpJP0)"
      ]
    },
    {
      "cell_type": "markdown",
      "metadata": {
        "id": "-X80LeSgqEF1"
      },
      "source": [
        "![Design](https://drive.google.com/uc?id=18n4Pqqjt6bWNjUJU9utqaX52W2cfpcXk)"
      ]
    },
    {
      "cell_type": "code",
      "metadata": {
        "id": "7PfJ6jKunD7c",
        "colab": {
          "base_uri": "https://localhost:8080/"
        },
        "outputId": "51e87e69-0ac5-4462-9c8b-4401b14ed9e8"
      },
      "source": [
        "#check image shape\n",
        "print (\"Dimensions of X_train: \", X_train.shape)\n",
        "\n",
        "print (\"Dimension of the second element in X_train: \", X_train[1].shape)"
      ],
      "execution_count": 4,
      "outputs": [
        {
          "output_type": "stream",
          "text": [
            "Dimensions of X_train:  (60000, 28, 28, 1)\n",
            "Dimension of the second element in X_train:  (28, 28, 1)\n"
          ],
          "name": "stdout"
        }
      ]
    },
    {
      "cell_type": "code",
      "metadata": {
        "id": "aNn5u5DMnmQp"
      },
      "source": [
        "from keras import models\n",
        "from keras import layers\n",
        "from keras.models import Sequential\n",
        "from keras.layers import Dense, Conv2D, Flatten\n",
        "\n",
        "#create model\n",
        "model = Sequential()\n",
        "\n",
        "#add model layers\n",
        "model = models.Sequential()\n",
        "model.add(layers.Conv2D(32, (5, 5), activation='relu', input_shape=(28, 28, 1)))\n",
        "model.add(layers.MaxPooling2D((2, 2)))\n",
        "model.add(layers.Conv2D(64, (5, 5), activation='relu'))\n",
        "model.add(layers.MaxPooling2D((2, 2)))\n",
        "model.add(Flatten())\n",
        "model.add(layers.Dense(64, activation='relu'))\n",
        "model.add(Dense(10, activation=\"softmax\"))"
      ],
      "execution_count": 5,
      "outputs": []
    },
    {
      "cell_type": "code",
      "metadata": {
        "id": "n6ur7SDuonJw"
      },
      "source": [
        "#compile model using accuracy to measure model performance\n",
        "model.compile(optimizer='adam', loss='binary_crossentropy', metrics=['accuracy'])\n",
        "#model.compile(optimzer='adam', loss='categorical_crossentropy', metrics=['accuracy'])"
      ],
      "execution_count": 6,
      "outputs": []
    },
    {
      "cell_type": "code",
      "metadata": {
        "id": "ioe8SppuX7QX"
      },
      "source": [
        "import numpy as np\n",
        "trainingset = np.vstack ((X_train, X_test))\n",
        "traininglabels = np.vstack ((y_train, y_test))"
      ],
      "execution_count": 7,
      "outputs": []
    },
    {
      "cell_type": "code",
      "metadata": {
        "id": "MtL5ehiUotLS",
        "colab": {
          "base_uri": "https://localhost:8080/"
        },
        "outputId": "520f9987-4ab2-4ab1-b6c3-211afa9c0545"
      },
      "source": [
        "#train the model\n",
        "history = model.fit(trainingset, traininglabels, validation_split=0.2, epochs=3, batch_size=32)"
      ],
      "execution_count": 8,
      "outputs": [
        {
          "output_type": "stream",
          "text": [
            "Epoch 1/3\n",
            "1750/1750 [==============================] - 50s 4ms/step - loss: 0.0813 - accuracy: 0.8602 - val_loss: 0.0118 - val_accuracy: 0.9835\n",
            "Epoch 2/3\n",
            "1750/1750 [==============================] - 6s 3ms/step - loss: 0.0096 - accuracy: 0.9873 - val_loss: 0.0066 - val_accuracy: 0.9910\n",
            "Epoch 3/3\n",
            "1750/1750 [==============================] - 6s 3ms/step - loss: 0.0068 - accuracy: 0.9906 - val_loss: 0.0067 - val_accuracy: 0.9912\n"
          ],
          "name": "stdout"
        }
      ]
    },
    {
      "cell_type": "code",
      "metadata": {
        "id": "pvUtYYvS6Rf2",
        "colab": {
          "base_uri": "https://localhost:8080/",
          "height": 573
        },
        "outputId": "1d0b58fc-f7b7-48ef-9a96-9515be02fc68"
      },
      "source": [
        "import matplotlib.pyplot as plt\n",
        "plt.plot(history.history['accuracy'])\n",
        "plt.plot(history.history['val_accuracy'])\n",
        "plt.title('model accuracy')\n",
        "plt.ylabel('accuracy')\n",
        "plt.xlabel('epoch')\n",
        "plt.legend(['train', 'validate'], loc='upper left')\n",
        "plt.show()\n",
        "# summarize history for loss\n",
        "plt.plot(history.history['loss'])\n",
        "plt.plot(history.history['val_loss'])\n",
        "plt.title('model loss')\n",
        "plt.ylabel('loss')\n",
        "plt.xlabel('epoch')\n",
        "plt.legend(['train', 'validate'], loc='lower left')\n",
        "plt.show()"
      ],
      "execution_count": 11,
      "outputs": [
        {
          "output_type": "display_data",
          "data": {
            "image/png": "[encoded data removed]",
            "text/plain": [
              "<Figure size 432x288 with 1 Axes>"
            ]
          },
          "metadata": {
            "tags": [],
            "needs_background": "light"
          }
        },
        {
          "output_type": "display_data",
          "data": {
            "image/png": "[encoded data removed]",
            "text/plain": [
              "<Figure size 432x288 with 1 Axes>"
            ]
          },
          "metadata": {
            "tags": [],
            "needs_background": "light"
          }
        }
      ]
    },
    {
      "cell_type": "code",
      "metadata": {
        "id": "iMl-F_Mb3y3u",
        "colab": {
          "base_uri": "https://localhost:8080/"
        },
        "outputId": "7b82db84-bf25-4f22-efa8-61ce3f01b9e3"
      },
      "source": [
        "test_loss, test_acc = model.evaluate(X_test, y_test)"
      ],
      "execution_count": 12,
      "outputs": [
        {
          "output_type": "stream",
          "text": [
            "313/313 [==============================] - 1s 2ms/step - loss: 0.0061 - accuracy: 0.9914\n"
          ],
          "name": "stdout"
        }
      ]
    },
    {
      "cell_type": "code",
      "metadata": {
        "id": "a0B4QhPb31UT",
        "colab": {
          "base_uri": "https://localhost:8080/"
        },
        "outputId": "eae56e2b-2442-44d5-9ec3-4b2139ccb661"
      },
      "source": [
        "test_acc"
      ],
      "execution_count": 13,
      "outputs": [
        {
          "output_type": "execute_result",
          "data": {
            "text/plain": [
              "0.9914000034332275"
            ]
          },
          "metadata": {
            "tags": []
          },
          "execution_count": 13
        }
      ]
    },
    {
      "cell_type": "code",
      "metadata": {
        "id": "gfcDNdoZ4Rh1",
        "colab": {
          "base_uri": "https://localhost:8080/"
        },
        "outputId": "d4c2e9a2-5719-483d-e30e-6f88dec92272"
      },
      "source": [
        "import matplotlib.pyplot as plt\n",
        "print (history.history.keys())"
      ],
      "execution_count": 14,
      "outputs": [
        {
          "output_type": "stream",
          "text": [
            "dict_keys(['loss', 'accuracy', 'val_loss', 'val_accuracy'])\n"
          ],
          "name": "stdout"
        }
      ]
    },
    {
      "cell_type": "code",
      "metadata": {
        "id": "yf4GAwANrQD9",
        "colab": {
          "base_uri": "https://localhost:8080/"
        },
        "outputId": "6f5d907c-15e5-4c9c-cfe0-f30a4eeaafb6"
      },
      "source": [
        "#predict first 4 images in the test set\n",
        "model.predict(X_test[:4])"
      ],
      "execution_count": 15,
      "outputs": [
        {
          "output_type": "execute_result",
          "data": {
            "text/plain": [
              "array([[2.9248203e-18, 2.7757495e-13, 5.5948369e-14, 5.0978921e-13,\n",
              "        2.0904297e-15, 9.2411079e-18, 1.1433412e-19, 1.0000000e+00,\n",
              "        6.3657987e-17, 4.6386634e-14],\n",
              "       [5.1347403e-13, 4.2861756e-11, 1.0000000e+00, 6.7329504e-14,\n",
              "        3.3639236e-15, 1.1125530e-18, 9.6647412e-11, 3.5892344e-15,\n",
              "        2.0298756e-13, 4.4989162e-17],\n",
              "       [4.5467580e-10, 1.0000000e+00, 1.1861228e-09, 9.0920891e-12,\n",
              "        8.0324003e-10, 1.2615757e-10, 5.2096039e-10, 1.9175235e-09,\n",
              "        2.8133886e-11, 1.8230861e-11],\n",
              "       [9.9999261e-01, 3.1813438e-10, 2.2114106e-08, 6.3102384e-10,\n",
              "        7.0534267e-09, 2.7166480e-09, 6.0522170e-06, 3.4319027e-07,\n",
              "        7.4113538e-09, 9.0430137e-07]], dtype=float32)"
            ]
          },
          "metadata": {
            "tags": []
          },
          "execution_count": 15
        }
      ]
    },
    {
      "cell_type": "code",
      "metadata": {
        "id": "0ox-a_BhrZMK",
        "colab": {
          "base_uri": "https://localhost:8080/"
        },
        "outputId": "7133e40b-6972-45f3-abc0-1d19956f6c64"
      },
      "source": [
        "#actual results for first 4 images in test set\n",
        "y_test[:4]"
      ],
      "execution_count": 16,
      "outputs": [
        {
          "output_type": "execute_result",
          "data": {
            "text/plain": [
              "array([[0., 0., 0., 0., 0., 0., 0., 1., 0., 0.],\n",
              "       [0., 0., 1., 0., 0., 0., 0., 0., 0., 0.],\n",
              "       [0., 1., 0., 0., 0., 0., 0., 0., 0., 0.],\n",
              "       [1., 0., 0., 0., 0., 0., 0., 0., 0., 0.]], dtype=float32)"
            ]
          },
          "metadata": {
            "tags": []
          },
          "execution_count": 16
        }
      ]
    },
    {
      "cell_type": "markdown",
      "metadata": {
        "id": "1WC9I1TW7qCv"
      },
      "source": [
        "[Source for the experiment](https://towardsdatascience.com/building-a-convolutional-neural-network-cnn-in-keras-329fbbadc5f5)\n",
        "[Optimizer](https://emiliendupont.github.io/2018/01/24/optimization-visualization/)\n"
      ]
    },
    {
      "cell_type": "code",
      "metadata": {
        "id": "wD27BUw8x0nK"
      },
      "source": [
        ""
      ],
      "execution_count": null,
      "outputs": []
    }
  ]
}