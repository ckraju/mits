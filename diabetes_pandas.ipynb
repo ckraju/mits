{
  "nbformat": 4,
  "nbformat_minor": 0,
  "metadata": {
    "colab": {
      "name": "diabetes-pandas.ipynb",
      "provenance": [],
      "collapsed_sections": [],
      "include_colab_link": true
    },
    "kernelspec": {
      "name": "python3",
      "display_name": "Python 3"
    }
  },
  "cells": [
    {
      "cell_type": "markdown",
      "metadata": {
        "id": "view-in-github",
        "colab_type": "text"
      },
      "source": [
        "<a href=\"https://colab.research.google.com/github/ckraju/mits/blob/master/diabetes_pandas.ipynb\" target=\"_parent\"><img src=\"https://colab.research.google.com/assets/colab-badge.svg\" alt=\"Open In Colab\"/></a>"
      ]
    },
    {
      "cell_type": "code",
      "metadata": {
        "id": "ZYUuODpIbHpu",
        "colab": {
          "resources": {
            "http://localhost:8080/nbextensions/google.colab/files.js": {
              "data": "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",
              "ok": true,
              "headers": [
                [
                  "content-type",
                  "application/javascript"
                ]
              ],
              "status": 200,
              "status_text": "OK"
            }
          },
          "base_uri": "https://localhost:8080/",
          "height": 79
        },
        "outputId": "4c005e1c-daae-4013-fdd3-3365751f6b02"
      },
      "source": [
        "from google.colab import files\n",
        "uploaded = files.upload()"
      ],
      "execution_count": 1,
      "outputs": [
        {
          "output_type": "display_data",
          "data": {
            "text/html": [
              "\n",
              "     <input type=\"file\" id=\"files-85295ea9-c081-438a-bfcb-03f21bb0fd48\" name=\"files[]\" multiple disabled\n",
              "        style=\"border:none\" />\n",
              "     <output id=\"result-85295ea9-c081-438a-bfcb-03f21bb0fd48\">\n",
              "      Upload widget is only available when the cell has been executed in the\n",
              "      current browser session. Please rerun this cell to enable.\n",
              "      </output>\n",
              "      <script src=\"/nbextensions/google.colab/files.js\"></script> "
            ],
            "text/plain": [
              "<IPython.core.display.HTML object>"
            ]
          },
          "metadata": {
            "tags": []
          }
        },
        {
          "output_type": "stream",
          "text": [
            "Saving pima-indian-diabetes.csv to pima-indian-diabetes.csv\n"
          ],
          "name": "stdout"
        }
      ]
    },
    {
      "cell_type": "code",
      "metadata": {
        "id": "vZbF5toObZ4t"
      },
      "source": [
        "import pandas as pd\n"
      ],
      "execution_count": 2,
      "outputs": []
    },
    {
      "cell_type": "code",
      "metadata": {
        "id": "DAIabSxIbcrT"
      },
      "source": [
        "import io\n",
        "\n",
        "df2 = pd.read_csv(io.BytesIO(uploaded['pima-indian-diabetes.csv']))\n",
        "\n",
        "# Dataset is now stored in a Pandas Dataframe"
      ],
      "execution_count": 4,
      "outputs": []
    },
    {
      "cell_type": "markdown",
      "metadata": {
        "id": "UtpPyoEKch6B"
      },
      "source": [
        ""
      ]
    },
    {
      "cell_type": "code",
      "metadata": {
        "id": "Ai24xiVNelLZ"
      },
      "source": [
        "# Visualize training history\n",
        "from keras.models import Sequential\n",
        "from keras.layers import Dense\n",
        "import matplotlib.pyplot as plt\n",
        "import numpy\n",
        "from keras.utils import to_categorical"
      ],
      "execution_count": 5,
      "outputs": []
    },
    {
      "cell_type": "code",
      "metadata": {
        "id": "HKPD3qUQeoDe"
      },
      "source": [
        "# fix random seed for reproducibility\n",
        "seed = 7\n",
        "numpy.random.seed(seed)\n",
        "# load pima indians dataset\n",
        "dataset = numpy.loadtxt(\"pima-indian-diabetes.csv\", delimiter=\",\")\n",
        "# split into input (X) and output (Y) variables\n",
        "X = dataset[:,0:8]\n",
        "Y = dataset[:,8]"
      ],
      "execution_count": 7,
      "outputs": []
    },
    {
      "cell_type": "code",
      "metadata": {
        "id": "JVlDc58yfOId",
        "colab": {
          "base_uri": "https://localhost:8080/"
        },
        "outputId": "b94d8f4e-edfc-4991-9904-28508e7e30fe"
      },
      "source": [
        "X"
      ],
      "execution_count": 8,
      "outputs": [
        {
          "output_type": "execute_result",
          "data": {
            "text/plain": [
              "array([[  6.   , 148.   ,  72.   , ...,  33.6  ,   0.627,  50.   ],\n",
              "       [  1.   ,  85.   ,  66.   , ...,  26.6  ,   0.351,  31.   ],\n",
              "       [  8.   , 183.   ,  64.   , ...,  23.3  ,   0.672,  32.   ],\n",
              "       ...,\n",
              "       [  1.   , 126.   ,  60.   , ...,  30.1  ,   0.349,  47.   ],\n",
              "       [  1.   ,  93.   ,  70.   , ...,  30.4  ,   0.315,  23.   ],\n",
              "       [  5.   , 120.   ,  70.   , ...,  25.   ,   0.25 ,  29.   ]])"
            ]
          },
          "metadata": {
            "tags": []
          },
          "execution_count": 8
        }
      ]
    },
    {
      "cell_type": "code",
      "metadata": {
        "id": "eKIfHEqOfTzR",
        "colab": {
          "base_uri": "https://localhost:8080/"
        },
        "outputId": "7b6ab724-01ab-4e6c-d5d1-77e8d6594ca8"
      },
      "source": [
        "Y"
      ],
      "execution_count": 9,
      "outputs": [
        {
          "output_type": "execute_result",
          "data": {
            "text/plain": [
              "array([1., 0., 1., 0., 1., 0., 1., 0., 1., 1., 0., 1., 0., 1., 1., 1., 1.,\n",
              "       1., 0., 1., 0., 0., 1., 1., 1., 1., 1., 0., 0., 0., 0., 1., 0., 0.,\n",
              "       0., 0., 0., 1., 1., 1., 0., 0., 0., 1., 0., 1., 0., 0., 1., 0., 0.,\n",
              "       0., 0., 1., 0., 0., 1., 0., 0., 0., 0., 1., 0., 0., 1., 0., 1., 0.,\n",
              "       0., 0., 1., 0., 1., 0., 0., 0., 0., 0., 1., 0., 0., 0., 0., 0., 1.,\n",
              "       0., 0., 0., 1., 0., 0., 0., 0., 1., 0., 0., 0., 0., 0., 1., 1., 0.,\n",
              "       0., 0., 0., 0., 0., 0., 0., 1., 1., 1., 0., 0., 1., 1., 1., 0., 0.,\n",
              "       0., 1., 0., 0., 0., 1., 1., 0., 0., 1., 1., 1., 1., 1., 0., 0., 0.,\n",
              "       0., 0., 0., 0., 0., 0., 0., 1., 0., 0., 0., 0., 0., 0., 0., 0., 1.,\n",
              "       0., 1., 1., 0., 0., 0., 1., 0., 0., 0., 0., 1., 1., 0., 0., 0., 0.,\n",
              "       1., 1., 0., 0., 0., 1., 0., 1., 0., 1., 0., 0., 0., 0., 0., 1., 1.,\n",
              "       1., 1., 1., 0., 0., 1., 1., 0., 1., 0., 1., 1., 1., 0., 0., 0., 0.,\n",
              "       0., 0., 1., 1., 0., 1., 0., 0., 0., 1., 1., 1., 1., 0., 1., 1., 1.,\n",
              "       1., 0., 0., 0., 0., 0., 1., 0., 0., 1., 1., 0., 0., 0., 1., 1., 1.,\n",
              "       1., 0., 0., 0., 1., 1., 0., 1., 0., 0., 0., 0., 0., 0., 0., 0., 1.,\n",
              "       1., 0., 0., 0., 1., 0., 1., 0., 0., 1., 0., 1., 0., 0., 1., 1., 0.,\n",
              "       0., 0., 0., 0., 1., 0., 0., 0., 1., 0., 0., 1., 1., 0., 0., 1., 0.,\n",
              "       0., 0., 1., 1., 1., 0., 0., 1., 0., 1., 0., 1., 1., 0., 1., 0., 0.,\n",
              "       1., 0., 1., 1., 0., 0., 1., 0., 1., 0., 0., 1., 0., 1., 0., 1., 1.,\n",
              "       1., 0., 0., 1., 0., 1., 0., 0., 0., 1., 0., 0., 0., 0., 1., 1., 1.,\n",
              "       0., 0., 0., 0., 0., 0., 0., 0., 0., 1., 0., 0., 0., 0., 0., 1., 1.,\n",
              "       1., 0., 1., 1., 0., 0., 1., 0., 0., 1., 0., 0., 1., 1., 0., 0., 0.,\n",
              "       0., 1., 0., 0., 1., 0., 0., 0., 0., 0., 0., 0., 1., 1., 1., 0., 0.,\n",
              "       1., 0., 0., 1., 0., 0., 1., 0., 1., 1., 0., 1., 0., 1., 0., 1., 0.,\n",
              "       1., 1., 0., 0., 0., 0., 1., 1., 0., 1., 0., 1., 0., 0., 0., 0., 1.,\n",
              "       1., 0., 1., 0., 1., 0., 0., 0., 0., 0., 1., 0., 0., 0., 0., 1., 0.,\n",
              "       0., 1., 1., 1., 0., 0., 1., 0., 0., 1., 0., 0., 0., 1., 0., 0., 1.,\n",
              "       0., 0., 0., 0., 0., 0., 0., 0., 0., 1., 0., 0., 0., 0., 0., 0., 0.,\n",
              "       1., 0., 0., 0., 1., 0., 0., 0., 1., 1., 0., 0., 0., 0., 0., 0., 0.,\n",
              "       1., 0., 0., 0., 0., 1., 0., 0., 0., 1., 0., 0., 0., 1., 0., 0., 0.,\n",
              "       1., 0., 0., 0., 0., 1., 1., 0., 0., 0., 0., 0., 0., 1., 0., 0., 0.,\n",
              "       0., 0., 0., 0., 0., 0., 0., 0., 1., 0., 0., 0., 1., 1., 1., 1., 0.,\n",
              "       0., 1., 1., 0., 0., 0., 0., 0., 0., 0., 0., 0., 0., 0., 0., 0., 1.,\n",
              "       1., 0., 0., 0., 0., 0., 0., 0., 1., 0., 0., 0., 0., 0., 0., 0., 1.,\n",
              "       0., 1., 1., 0., 0., 0., 1., 0., 1., 0., 1., 0., 1., 0., 1., 0., 0.,\n",
              "       1., 0., 0., 1., 0., 0., 0., 0., 1., 1., 0., 1., 0., 0., 0., 0., 1.,\n",
              "       1., 0., 1., 0., 0., 0., 1., 1., 0., 0., 0., 0., 0., 0., 0., 0., 0.,\n",
              "       0., 1., 0., 0., 0., 0., 1., 0., 0., 1., 0., 0., 0., 1., 0., 0., 0.,\n",
              "       1., 1., 1., 0., 0., 0., 0., 0., 0., 1., 0., 0., 0., 1., 0., 1., 1.,\n",
              "       1., 1., 0., 1., 1., 0., 0., 0., 0., 0., 0., 0., 1., 1., 0., 1., 0.,\n",
              "       0., 1., 0., 1., 0., 0., 0., 0., 0., 1., 0., 1., 0., 1., 0., 1., 1.,\n",
              "       0., 0., 0., 0., 1., 1., 0., 0., 0., 1., 0., 1., 1., 0., 0., 1., 0.,\n",
              "       0., 1., 1., 0., 0., 1., 0., 0., 1., 0., 0., 0., 0., 0., 0., 0., 1.,\n",
              "       1., 1., 0., 0., 0., 0., 0., 0., 1., 1., 0., 0., 1., 0., 0., 1., 0.,\n",
              "       1., 1., 1., 0., 0., 1., 1., 1., 0., 1., 0., 1., 0., 1., 0., 0., 0.,\n",
              "       0., 1., 0., 0.])"
            ]
          },
          "metadata": {
            "tags": []
          },
          "execution_count": 9
        }
      ]
    },
    {
      "cell_type": "code",
      "metadata": {
        "id": "ydsfY1E2eqoy"
      },
      "source": [
        "# create model\n",
        "model = Sequential()\n",
        "model.add(Dense(12, input_dim=8, kernel_initializer='uniform', activation='relu'))\n",
        "model.add(Dense(8, kernel_initializer='uniform', activation='relu'))\n",
        "model.add(Dense(1, kernel_initializer='uniform', activation='sigmoid'))"
      ],
      "execution_count": 10,
      "outputs": []
    },
    {
      "cell_type": "code",
      "metadata": {
        "id": "mzgAC0seeu19",
        "colab": {
          "base_uri": "https://localhost:8080/"
        },
        "outputId": "0049db73-8454-452f-c6e2-a70fadfceccb"
      },
      "source": [
        "# Compile model\n",
        "model.compile(loss='binary_crossentropy', optimizer='adam', metrics=['accuracy'])\n",
        "# Fit the model\n",
        "history = model.fit(X, Y, validation_split=0.33, epochs=150, batch_size=10)\n",
        "# list all data in history\n",
        "print(history.history.keys())"
      ],
      "execution_count": 11,
      "outputs": [
        {
          "output_type": "stream",
          "text": [
            "Epoch 1/150\n",
            "52/52 [==============================] - 1s 6ms/step - loss: 0.6929 - accuracy: 0.5204 - val_loss: 0.6824 - val_accuracy: 0.6732\n",
            "Epoch 2/150\n",
            "52/52 [==============================] - 0s 2ms/step - loss: 0.6828 - accuracy: 0.6241 - val_loss: 0.6617 - val_accuracy: 0.6732\n",
            "Epoch 3/150\n",
            "52/52 [==============================] - 0s 2ms/step - loss: 0.6655 - accuracy: 0.6550 - val_loss: 0.6528 - val_accuracy: 0.6732\n",
            "Epoch 4/150\n",
            "52/52 [==============================] - 0s 2ms/step - loss: 0.6599 - accuracy: 0.6400 - val_loss: 0.6488 - val_accuracy: 0.6732\n",
            "Epoch 5/150\n",
            "52/52 [==============================] - 0s 2ms/step - loss: 0.6699 - accuracy: 0.6100 - val_loss: 0.6440 - val_accuracy: 0.6732\n",
            "Epoch 6/150\n",
            "52/52 [==============================] - 0s 2ms/step - loss: 0.6493 - accuracy: 0.6570 - val_loss: 0.6464 - val_accuracy: 0.6732\n",
            "Epoch 7/150\n",
            "52/52 [==============================] - 0s 2ms/step - loss: 0.6333 - accuracy: 0.6771 - val_loss: 0.6414 - val_accuracy: 0.6732\n",
            "Epoch 8/150\n",
            "52/52 [==============================] - 0s 2ms/step - loss: 0.6351 - accuracy: 0.6549 - val_loss: 0.6375 - val_accuracy: 0.6654\n",
            "Epoch 9/150\n",
            "52/52 [==============================] - 0s 2ms/step - loss: 0.6335 - accuracy: 0.6313 - val_loss: 0.6291 - val_accuracy: 0.6732\n",
            "Epoch 10/150\n",
            "52/52 [==============================] - 0s 2ms/step - loss: 0.6406 - accuracy: 0.6374 - val_loss: 0.6268 - val_accuracy: 0.6850\n",
            "Epoch 11/150\n",
            "52/52 [==============================] - 0s 2ms/step - loss: 0.6167 - accuracy: 0.6754 - val_loss: 0.6268 - val_accuracy: 0.6693\n",
            "Epoch 12/150\n",
            "52/52 [==============================] - 0s 2ms/step - loss: 0.6440 - accuracy: 0.6246 - val_loss: 0.6152 - val_accuracy: 0.6890\n",
            "Epoch 13/150\n",
            "52/52 [==============================] - 0s 2ms/step - loss: 0.6224 - accuracy: 0.6435 - val_loss: 0.6098 - val_accuracy: 0.6850\n",
            "Epoch 14/150\n",
            "52/52 [==============================] - 0s 2ms/step - loss: 0.6150 - accuracy: 0.6678 - val_loss: 0.6056 - val_accuracy: 0.6811\n",
            "Epoch 15/150\n",
            "52/52 [==============================] - 0s 2ms/step - loss: 0.6342 - accuracy: 0.6685 - val_loss: 0.6047 - val_accuracy: 0.6811\n",
            "Epoch 16/150\n",
            "52/52 [==============================] - 0s 2ms/step - loss: 0.6335 - accuracy: 0.6475 - val_loss: 0.5928 - val_accuracy: 0.6850\n",
            "Epoch 17/150\n",
            "52/52 [==============================] - 0s 2ms/step - loss: 0.6113 - accuracy: 0.6928 - val_loss: 0.5902 - val_accuracy: 0.6929\n",
            "Epoch 18/150\n",
            "52/52 [==============================] - 0s 2ms/step - loss: 0.5937 - accuracy: 0.7192 - val_loss: 0.5943 - val_accuracy: 0.6811\n",
            "Epoch 19/150\n",
            "52/52 [==============================] - 0s 2ms/step - loss: 0.6238 - accuracy: 0.6477 - val_loss: 0.5780 - val_accuracy: 0.7283\n",
            "Epoch 20/150\n",
            "52/52 [==============================] - 0s 2ms/step - loss: 0.6040 - accuracy: 0.6989 - val_loss: 0.5919 - val_accuracy: 0.7283\n",
            "Epoch 21/150\n",
            "52/52 [==============================] - 0s 2ms/step - loss: 0.6166 - accuracy: 0.6917 - val_loss: 0.5799 - val_accuracy: 0.7008\n",
            "Epoch 22/150\n",
            "52/52 [==============================] - 0s 2ms/step - loss: 0.6201 - accuracy: 0.6554 - val_loss: 0.5834 - val_accuracy: 0.7087\n",
            "Epoch 23/150\n",
            "52/52 [==============================] - 0s 2ms/step - loss: 0.5843 - accuracy: 0.7097 - val_loss: 0.5714 - val_accuracy: 0.7008\n",
            "Epoch 24/150\n",
            "52/52 [==============================] - 0s 2ms/step - loss: 0.6013 - accuracy: 0.6860 - val_loss: 0.5711 - val_accuracy: 0.6929\n",
            "Epoch 25/150\n",
            "52/52 [==============================] - 0s 2ms/step - loss: 0.5787 - accuracy: 0.7284 - val_loss: 0.5664 - val_accuracy: 0.7205\n",
            "Epoch 26/150\n",
            "52/52 [==============================] - 0s 2ms/step - loss: 0.5910 - accuracy: 0.6985 - val_loss: 0.5692 - val_accuracy: 0.6969\n",
            "Epoch 27/150\n",
            "52/52 [==============================] - 0s 2ms/step - loss: 0.6163 - accuracy: 0.6812 - val_loss: 0.5762 - val_accuracy: 0.7205\n",
            "Epoch 28/150\n",
            "52/52 [==============================] - 0s 2ms/step - loss: 0.5758 - accuracy: 0.6910 - val_loss: 0.5684 - val_accuracy: 0.7047\n",
            "Epoch 29/150\n",
            "52/52 [==============================] - 0s 2ms/step - loss: 0.5521 - accuracy: 0.7268 - val_loss: 0.5891 - val_accuracy: 0.6654\n",
            "Epoch 30/150\n",
            "52/52 [==============================] - 0s 2ms/step - loss: 0.5969 - accuracy: 0.7082 - val_loss: 0.5644 - val_accuracy: 0.7047\n",
            "Epoch 31/150\n",
            "52/52 [==============================] - 0s 2ms/step - loss: 0.5718 - accuracy: 0.7171 - val_loss: 0.5622 - val_accuracy: 0.7008\n",
            "Epoch 32/150\n",
            "52/52 [==============================] - 0s 2ms/step - loss: 0.5606 - accuracy: 0.7314 - val_loss: 0.5666 - val_accuracy: 0.7047\n",
            "Epoch 33/150\n",
            "52/52 [==============================] - 0s 2ms/step - loss: 0.5647 - accuracy: 0.7275 - val_loss: 0.5622 - val_accuracy: 0.7008\n",
            "Epoch 34/150\n",
            "52/52 [==============================] - 0s 2ms/step - loss: 0.5968 - accuracy: 0.6883 - val_loss: 0.5615 - val_accuracy: 0.6969\n",
            "Epoch 35/150\n",
            "52/52 [==============================] - 0s 2ms/step - loss: 0.5827 - accuracy: 0.6952 - val_loss: 0.5814 - val_accuracy: 0.7047\n",
            "Epoch 36/150\n",
            "52/52 [==============================] - 0s 2ms/step - loss: 0.5673 - accuracy: 0.6930 - val_loss: 0.5718 - val_accuracy: 0.7126\n",
            "Epoch 37/150\n",
            "52/52 [==============================] - 0s 2ms/step - loss: 0.5512 - accuracy: 0.7479 - val_loss: 0.5626 - val_accuracy: 0.7047\n",
            "Epoch 38/150\n",
            "52/52 [==============================] - 0s 2ms/step - loss: 0.5491 - accuracy: 0.7263 - val_loss: 0.5615 - val_accuracy: 0.7087\n",
            "Epoch 39/150\n",
            "52/52 [==============================] - 0s 2ms/step - loss: 0.5854 - accuracy: 0.7140 - val_loss: 0.5624 - val_accuracy: 0.7087\n",
            "Epoch 40/150\n",
            "52/52 [==============================] - 0s 2ms/step - loss: 0.5876 - accuracy: 0.7082 - val_loss: 0.5637 - val_accuracy: 0.7047\n",
            "Epoch 41/150\n",
            "52/52 [==============================] - 0s 2ms/step - loss: 0.5732 - accuracy: 0.6912 - val_loss: 0.5826 - val_accuracy: 0.7047\n",
            "Epoch 42/150\n",
            "52/52 [==============================] - 0s 2ms/step - loss: 0.5943 - accuracy: 0.6981 - val_loss: 0.5614 - val_accuracy: 0.7087\n",
            "Epoch 43/150\n",
            "52/52 [==============================] - 0s 2ms/step - loss: 0.5681 - accuracy: 0.7281 - val_loss: 0.5623 - val_accuracy: 0.7087\n",
            "Epoch 44/150\n",
            "52/52 [==============================] - 0s 2ms/step - loss: 0.5625 - accuracy: 0.7176 - val_loss: 0.5739 - val_accuracy: 0.6850\n",
            "Epoch 45/150\n",
            "52/52 [==============================] - 0s 2ms/step - loss: 0.5715 - accuracy: 0.7271 - val_loss: 0.5588 - val_accuracy: 0.7087\n",
            "Epoch 46/150\n",
            "52/52 [==============================] - 0s 2ms/step - loss: 0.5772 - accuracy: 0.7044 - val_loss: 0.5677 - val_accuracy: 0.6969\n",
            "Epoch 47/150\n",
            "52/52 [==============================] - 0s 2ms/step - loss: 0.5893 - accuracy: 0.6965 - val_loss: 0.5629 - val_accuracy: 0.7087\n",
            "Epoch 48/150\n",
            "52/52 [==============================] - 0s 2ms/step - loss: 0.5455 - accuracy: 0.7258 - val_loss: 0.5643 - val_accuracy: 0.7205\n",
            "Epoch 49/150\n",
            "52/52 [==============================] - 0s 2ms/step - loss: 0.5756 - accuracy: 0.7045 - val_loss: 0.5572 - val_accuracy: 0.7244\n",
            "Epoch 50/150\n",
            "52/52 [==============================] - 0s 2ms/step - loss: 0.5447 - accuracy: 0.7280 - val_loss: 0.5560 - val_accuracy: 0.6969\n",
            "Epoch 51/150\n",
            "52/52 [==============================] - 0s 2ms/step - loss: 0.5719 - accuracy: 0.6943 - val_loss: 0.5594 - val_accuracy: 0.7126\n",
            "Epoch 52/150\n",
            "52/52 [==============================] - 0s 2ms/step - loss: 0.5551 - accuracy: 0.7222 - val_loss: 0.5576 - val_accuracy: 0.7008\n",
            "Epoch 53/150\n",
            "52/52 [==============================] - 0s 2ms/step - loss: 0.5401 - accuracy: 0.7499 - val_loss: 0.5653 - val_accuracy: 0.6890\n",
            "Epoch 54/150\n",
            "52/52 [==============================] - 0s 2ms/step - loss: 0.5598 - accuracy: 0.7245 - val_loss: 0.5538 - val_accuracy: 0.7126\n",
            "Epoch 55/150\n",
            "52/52 [==============================] - 0s 2ms/step - loss: 0.5571 - accuracy: 0.7358 - val_loss: 0.5530 - val_accuracy: 0.7126\n",
            "Epoch 56/150\n",
            "52/52 [==============================] - 0s 2ms/step - loss: 0.5564 - accuracy: 0.7305 - val_loss: 0.5606 - val_accuracy: 0.6969\n",
            "Epoch 57/150\n",
            "52/52 [==============================] - 0s 2ms/step - loss: 0.5623 - accuracy: 0.7261 - val_loss: 0.5559 - val_accuracy: 0.7047\n",
            "Epoch 58/150\n",
            "52/52 [==============================] - 0s 2ms/step - loss: 0.5434 - accuracy: 0.7436 - val_loss: 0.5675 - val_accuracy: 0.7205\n",
            "Epoch 59/150\n",
            "52/52 [==============================] - 0s 2ms/step - loss: 0.5423 - accuracy: 0.7535 - val_loss: 0.5559 - val_accuracy: 0.7205\n",
            "Epoch 60/150\n",
            "52/52 [==============================] - 0s 2ms/step - loss: 0.5338 - accuracy: 0.7601 - val_loss: 0.5556 - val_accuracy: 0.7165\n",
            "Epoch 61/150\n",
            "52/52 [==============================] - 0s 2ms/step - loss: 0.5564 - accuracy: 0.7288 - val_loss: 0.5727 - val_accuracy: 0.7008\n",
            "Epoch 62/150\n",
            "52/52 [==============================] - 0s 2ms/step - loss: 0.5480 - accuracy: 0.7212 - val_loss: 0.5622 - val_accuracy: 0.7047\n",
            "Epoch 63/150\n",
            "52/52 [==============================] - 0s 2ms/step - loss: 0.5789 - accuracy: 0.6782 - val_loss: 0.5548 - val_accuracy: 0.7087\n",
            "Epoch 64/150\n",
            "52/52 [==============================] - 0s 2ms/step - loss: 0.5325 - accuracy: 0.7506 - val_loss: 0.5598 - val_accuracy: 0.7047\n",
            "Epoch 65/150\n",
            "52/52 [==============================] - 0s 2ms/step - loss: 0.5558 - accuracy: 0.7298 - val_loss: 0.5568 - val_accuracy: 0.7047\n",
            "Epoch 66/150\n",
            "52/52 [==============================] - 0s 2ms/step - loss: 0.5260 - accuracy: 0.7580 - val_loss: 0.5552 - val_accuracy: 0.7126\n",
            "Epoch 67/150\n",
            "52/52 [==============================] - 0s 2ms/step - loss: 0.5534 - accuracy: 0.7294 - val_loss: 0.5529 - val_accuracy: 0.7244\n",
            "Epoch 68/150\n",
            "52/52 [==============================] - 0s 2ms/step - loss: 0.5588 - accuracy: 0.7434 - val_loss: 0.5508 - val_accuracy: 0.7244\n",
            "Epoch 69/150\n",
            "52/52 [==============================] - 0s 2ms/step - loss: 0.5869 - accuracy: 0.7060 - val_loss: 0.5556 - val_accuracy: 0.7283\n",
            "Epoch 70/150\n",
            "52/52 [==============================] - 0s 2ms/step - loss: 0.5332 - accuracy: 0.7227 - val_loss: 0.5537 - val_accuracy: 0.7126\n",
            "Epoch 71/150\n",
            "52/52 [==============================] - 0s 2ms/step - loss: 0.5914 - accuracy: 0.6879 - val_loss: 0.5515 - val_accuracy: 0.7205\n",
            "Epoch 72/150\n",
            "52/52 [==============================] - 0s 2ms/step - loss: 0.5394 - accuracy: 0.7537 - val_loss: 0.5487 - val_accuracy: 0.7244\n",
            "Epoch 73/150\n",
            "52/52 [==============================] - 0s 2ms/step - loss: 0.5525 - accuracy: 0.7247 - val_loss: 0.5513 - val_accuracy: 0.7205\n",
            "Epoch 74/150\n",
            "52/52 [==============================] - 0s 2ms/step - loss: 0.5250 - accuracy: 0.7397 - val_loss: 0.5474 - val_accuracy: 0.7283\n",
            "Epoch 75/150\n",
            "52/52 [==============================] - 0s 2ms/step - loss: 0.5420 - accuracy: 0.7424 - val_loss: 0.5520 - val_accuracy: 0.7283\n",
            "Epoch 76/150\n",
            "52/52 [==============================] - 0s 3ms/step - loss: 0.5395 - accuracy: 0.7484 - val_loss: 0.5885 - val_accuracy: 0.7087\n",
            "Epoch 77/150\n",
            "52/52 [==============================] - 0s 2ms/step - loss: 0.5578 - accuracy: 0.7279 - val_loss: 0.5521 - val_accuracy: 0.7165\n",
            "Epoch 78/150\n",
            "52/52 [==============================] - 0s 2ms/step - loss: 0.5112 - accuracy: 0.7669 - val_loss: 0.5664 - val_accuracy: 0.7205\n",
            "Epoch 79/150\n",
            "52/52 [==============================] - 0s 2ms/step - loss: 0.5519 - accuracy: 0.7357 - val_loss: 0.5506 - val_accuracy: 0.7205\n",
            "Epoch 80/150\n",
            "52/52 [==============================] - 0s 2ms/step - loss: 0.5223 - accuracy: 0.7584 - val_loss: 0.5642 - val_accuracy: 0.7008\n",
            "Epoch 81/150\n",
            "52/52 [==============================] - 0s 2ms/step - loss: 0.5246 - accuracy: 0.7420 - val_loss: 0.5506 - val_accuracy: 0.7323\n",
            "Epoch 82/150\n",
            "52/52 [==============================] - 0s 2ms/step - loss: 0.5529 - accuracy: 0.7165 - val_loss: 0.5505 - val_accuracy: 0.7205\n",
            "Epoch 83/150\n",
            "52/52 [==============================] - 0s 2ms/step - loss: 0.5516 - accuracy: 0.7241 - val_loss: 0.5605 - val_accuracy: 0.7126\n",
            "Epoch 84/150\n",
            "52/52 [==============================] - 0s 2ms/step - loss: 0.5313 - accuracy: 0.7362 - val_loss: 0.5503 - val_accuracy: 0.7323\n",
            "Epoch 85/150\n",
            "52/52 [==============================] - 0s 2ms/step - loss: 0.5300 - accuracy: 0.7558 - val_loss: 0.5488 - val_accuracy: 0.7362\n",
            "Epoch 86/150\n",
            "52/52 [==============================] - 0s 2ms/step - loss: 0.5454 - accuracy: 0.7542 - val_loss: 0.5521 - val_accuracy: 0.7244\n",
            "Epoch 87/150\n",
            "52/52 [==============================] - 0s 2ms/step - loss: 0.5387 - accuracy: 0.7197 - val_loss: 0.5467 - val_accuracy: 0.7244\n",
            "Epoch 88/150\n",
            "52/52 [==============================] - 0s 2ms/step - loss: 0.5155 - accuracy: 0.7668 - val_loss: 0.5510 - val_accuracy: 0.7244\n",
            "Epoch 89/150\n",
            "52/52 [==============================] - 0s 2ms/step - loss: 0.4916 - accuracy: 0.7682 - val_loss: 0.5562 - val_accuracy: 0.7126\n",
            "Epoch 90/150\n",
            "52/52 [==============================] - 0s 2ms/step - loss: 0.5150 - accuracy: 0.7529 - val_loss: 0.5542 - val_accuracy: 0.7087\n",
            "Epoch 91/150\n",
            "52/52 [==============================] - 0s 2ms/step - loss: 0.5103 - accuracy: 0.7451 - val_loss: 0.5454 - val_accuracy: 0.7323\n",
            "Epoch 92/150\n",
            "52/52 [==============================] - 0s 2ms/step - loss: 0.5463 - accuracy: 0.7234 - val_loss: 0.5454 - val_accuracy: 0.7402\n",
            "Epoch 93/150\n",
            "52/52 [==============================] - 0s 2ms/step - loss: 0.5374 - accuracy: 0.7438 - val_loss: 0.5455 - val_accuracy: 0.7480\n",
            "Epoch 94/150\n",
            "52/52 [==============================] - 0s 2ms/step - loss: 0.5263 - accuracy: 0.7427 - val_loss: 0.5546 - val_accuracy: 0.7244\n",
            "Epoch 95/150\n",
            "52/52 [==============================] - 0s 2ms/step - loss: 0.5217 - accuracy: 0.7489 - val_loss: 0.5489 - val_accuracy: 0.7283\n",
            "Epoch 96/150\n",
            "52/52 [==============================] - 0s 2ms/step - loss: 0.5133 - accuracy: 0.7559 - val_loss: 0.5533 - val_accuracy: 0.7205\n",
            "Epoch 97/150\n",
            "52/52 [==============================] - 0s 2ms/step - loss: 0.5191 - accuracy: 0.7444 - val_loss: 0.5521 - val_accuracy: 0.7205\n",
            "Epoch 98/150\n",
            "52/52 [==============================] - 0s 2ms/step - loss: 0.5342 - accuracy: 0.7497 - val_loss: 0.5470 - val_accuracy: 0.7402\n",
            "Epoch 99/150\n",
            "52/52 [==============================] - 0s 2ms/step - loss: 0.5416 - accuracy: 0.7180 - val_loss: 0.5551 - val_accuracy: 0.7165\n",
            "Epoch 100/150\n",
            "52/52 [==============================] - 0s 2ms/step - loss: 0.5408 - accuracy: 0.7402 - val_loss: 0.5717 - val_accuracy: 0.6850\n",
            "Epoch 101/150\n",
            "52/52 [==============================] - 0s 2ms/step - loss: 0.5604 - accuracy: 0.7315 - val_loss: 0.5467 - val_accuracy: 0.7362\n",
            "Epoch 102/150\n",
            "52/52 [==============================] - 0s 2ms/step - loss: 0.5462 - accuracy: 0.7117 - val_loss: 0.5449 - val_accuracy: 0.7362\n",
            "Epoch 103/150\n",
            "52/52 [==============================] - 0s 2ms/step - loss: 0.5007 - accuracy: 0.7602 - val_loss: 0.5439 - val_accuracy: 0.7441\n",
            "Epoch 104/150\n",
            "52/52 [==============================] - 0s 2ms/step - loss: 0.4868 - accuracy: 0.8068 - val_loss: 0.5570 - val_accuracy: 0.7244\n",
            "Epoch 105/150\n",
            "52/52 [==============================] - 0s 2ms/step - loss: 0.5538 - accuracy: 0.7427 - val_loss: 0.5554 - val_accuracy: 0.6969\n",
            "Epoch 106/150\n",
            "52/52 [==============================] - 0s 2ms/step - loss: 0.5402 - accuracy: 0.7249 - val_loss: 0.5471 - val_accuracy: 0.7402\n",
            "Epoch 107/150\n",
            "52/52 [==============================] - 0s 2ms/step - loss: 0.5549 - accuracy: 0.7173 - val_loss: 0.5397 - val_accuracy: 0.7441\n",
            "Epoch 108/150\n",
            "52/52 [==============================] - 0s 2ms/step - loss: 0.5450 - accuracy: 0.7082 - val_loss: 0.5489 - val_accuracy: 0.7283\n",
            "Epoch 109/150\n",
            "52/52 [==============================] - 0s 2ms/step - loss: 0.5316 - accuracy: 0.7522 - val_loss: 0.5435 - val_accuracy: 0.7480\n",
            "Epoch 110/150\n",
            "52/52 [==============================] - 0s 2ms/step - loss: 0.5577 - accuracy: 0.7316 - val_loss: 0.5430 - val_accuracy: 0.7559\n",
            "Epoch 111/150\n",
            "52/52 [==============================] - 0s 2ms/step - loss: 0.4952 - accuracy: 0.7727 - val_loss: 0.5526 - val_accuracy: 0.7323\n",
            "Epoch 112/150\n",
            "52/52 [==============================] - 0s 2ms/step - loss: 0.5033 - accuracy: 0.7693 - val_loss: 0.5494 - val_accuracy: 0.7402\n",
            "Epoch 113/150\n",
            "52/52 [==============================] - 0s 2ms/step - loss: 0.4985 - accuracy: 0.7572 - val_loss: 0.5468 - val_accuracy: 0.7244\n",
            "Epoch 114/150\n",
            "52/52 [==============================] - 0s 2ms/step - loss: 0.5457 - accuracy: 0.7224 - val_loss: 0.5394 - val_accuracy: 0.7598\n",
            "Epoch 115/150\n",
            "52/52 [==============================] - 0s 2ms/step - loss: 0.4959 - accuracy: 0.7481 - val_loss: 0.5423 - val_accuracy: 0.7441\n",
            "Epoch 116/150\n",
            "52/52 [==============================] - 0s 2ms/step - loss: 0.5328 - accuracy: 0.7194 - val_loss: 0.5399 - val_accuracy: 0.7520\n",
            "Epoch 117/150\n",
            "52/52 [==============================] - 0s 2ms/step - loss: 0.4985 - accuracy: 0.7795 - val_loss: 0.5366 - val_accuracy: 0.7638\n",
            "Epoch 118/150\n",
            "52/52 [==============================] - 0s 2ms/step - loss: 0.5428 - accuracy: 0.7410 - val_loss: 0.5399 - val_accuracy: 0.7559\n",
            "Epoch 119/150\n",
            "52/52 [==============================] - 0s 2ms/step - loss: 0.5189 - accuracy: 0.7662 - val_loss: 0.5364 - val_accuracy: 0.7520\n",
            "Epoch 120/150\n",
            "52/52 [==============================] - 0s 2ms/step - loss: 0.5209 - accuracy: 0.7522 - val_loss: 0.5458 - val_accuracy: 0.7244\n",
            "Epoch 121/150\n",
            "52/52 [==============================] - 0s 2ms/step - loss: 0.5061 - accuracy: 0.7741 - val_loss: 0.5374 - val_accuracy: 0.7559\n",
            "Epoch 122/150\n",
            "52/52 [==============================] - 0s 2ms/step - loss: 0.5313 - accuracy: 0.7557 - val_loss: 0.5404 - val_accuracy: 0.7559\n",
            "Epoch 123/150\n",
            "52/52 [==============================] - 0s 2ms/step - loss: 0.5342 - accuracy: 0.7474 - val_loss: 0.5429 - val_accuracy: 0.7480\n",
            "Epoch 124/150\n",
            "52/52 [==============================] - 0s 2ms/step - loss: 0.5140 - accuracy: 0.7501 - val_loss: 0.5382 - val_accuracy: 0.7520\n",
            "Epoch 125/150\n",
            "52/52 [==============================] - 0s 2ms/step - loss: 0.5036 - accuracy: 0.7735 - val_loss: 0.5505 - val_accuracy: 0.7283\n",
            "Epoch 126/150\n",
            "52/52 [==============================] - 0s 2ms/step - loss: 0.5101 - accuracy: 0.7629 - val_loss: 0.5382 - val_accuracy: 0.7598\n",
            "Epoch 127/150\n",
            "52/52 [==============================] - 0s 2ms/step - loss: 0.5051 - accuracy: 0.7516 - val_loss: 0.5362 - val_accuracy: 0.7520\n",
            "Epoch 128/150\n",
            "52/52 [==============================] - 0s 2ms/step - loss: 0.5111 - accuracy: 0.7544 - val_loss: 0.5379 - val_accuracy: 0.7559\n",
            "Epoch 129/150\n",
            "52/52 [==============================] - 0s 2ms/step - loss: 0.4970 - accuracy: 0.7646 - val_loss: 0.5570 - val_accuracy: 0.7126\n",
            "Epoch 130/150\n",
            "52/52 [==============================] - 0s 2ms/step - loss: 0.4853 - accuracy: 0.7867 - val_loss: 0.5418 - val_accuracy: 0.7480\n",
            "Epoch 131/150\n",
            "52/52 [==============================] - 0s 2ms/step - loss: 0.5087 - accuracy: 0.7605 - val_loss: 0.5339 - val_accuracy: 0.7520\n",
            "Epoch 132/150\n",
            "52/52 [==============================] - 0s 2ms/step - loss: 0.4943 - accuracy: 0.7943 - val_loss: 0.5305 - val_accuracy: 0.7598\n",
            "Epoch 133/150\n",
            "52/52 [==============================] - 0s 2ms/step - loss: 0.4820 - accuracy: 0.7940 - val_loss: 0.5307 - val_accuracy: 0.7677\n",
            "Epoch 134/150\n",
            "52/52 [==============================] - 0s 2ms/step - loss: 0.5623 - accuracy: 0.7400 - val_loss: 0.5351 - val_accuracy: 0.7638\n",
            "Epoch 135/150\n",
            "52/52 [==============================] - 0s 2ms/step - loss: 0.5187 - accuracy: 0.7427 - val_loss: 0.5449 - val_accuracy: 0.7441\n",
            "Epoch 136/150\n",
            "52/52 [==============================] - 0s 2ms/step - loss: 0.4669 - accuracy: 0.7803 - val_loss: 0.5895 - val_accuracy: 0.6732\n",
            "Epoch 137/150\n",
            "52/52 [==============================] - 0s 2ms/step - loss: 0.5293 - accuracy: 0.7434 - val_loss: 0.5305 - val_accuracy: 0.7677\n",
            "Epoch 138/150\n",
            "52/52 [==============================] - 0s 2ms/step - loss: 0.5040 - accuracy: 0.7422 - val_loss: 0.5358 - val_accuracy: 0.7362\n",
            "Epoch 139/150\n",
            "52/52 [==============================] - 0s 2ms/step - loss: 0.4974 - accuracy: 0.7625 - val_loss: 0.5270 - val_accuracy: 0.7677\n",
            "Epoch 140/150\n",
            "52/52 [==============================] - 0s 2ms/step - loss: 0.4885 - accuracy: 0.7711 - val_loss: 0.5361 - val_accuracy: 0.7598\n",
            "Epoch 141/150\n",
            "52/52 [==============================] - 0s 2ms/step - loss: 0.5034 - accuracy: 0.7547 - val_loss: 0.5320 - val_accuracy: 0.7559\n",
            "Epoch 142/150\n",
            "52/52 [==============================] - 0s 2ms/step - loss: 0.4892 - accuracy: 0.7701 - val_loss: 0.5748 - val_accuracy: 0.6969\n",
            "Epoch 143/150\n",
            "52/52 [==============================] - 0s 2ms/step - loss: 0.5298 - accuracy: 0.7496 - val_loss: 0.5335 - val_accuracy: 0.7520\n",
            "Epoch 144/150\n",
            "52/52 [==============================] - 0s 2ms/step - loss: 0.5070 - accuracy: 0.7537 - val_loss: 0.5604 - val_accuracy: 0.6969\n",
            "Epoch 145/150\n",
            "52/52 [==============================] - 0s 2ms/step - loss: 0.5314 - accuracy: 0.7284 - val_loss: 0.5313 - val_accuracy: 0.7559\n",
            "Epoch 146/150\n",
            "52/52 [==============================] - 0s 2ms/step - loss: 0.5304 - accuracy: 0.7373 - val_loss: 0.5337 - val_accuracy: 0.7559\n",
            "Epoch 147/150\n",
            "52/52 [==============================] - 0s 2ms/step - loss: 0.4924 - accuracy: 0.7582 - val_loss: 0.5393 - val_accuracy: 0.7441\n",
            "Epoch 148/150\n",
            "52/52 [==============================] - 0s 2ms/step - loss: 0.5115 - accuracy: 0.7522 - val_loss: 0.5283 - val_accuracy: 0.7638\n",
            "Epoch 149/150\n",
            "52/52 [==============================] - 0s 2ms/step - loss: 0.5652 - accuracy: 0.7226 - val_loss: 0.5273 - val_accuracy: 0.7559\n",
            "Epoch 150/150\n",
            "52/52 [==============================] - 0s 2ms/step - loss: 0.5104 - accuracy: 0.7604 - val_loss: 0.5241 - val_accuracy: 0.7677\n",
            "dict_keys(['loss', 'accuracy', 'val_loss', 'val_accuracy'])\n"
          ],
          "name": "stdout"
        }
      ]
    },
    {
      "cell_type": "code",
      "metadata": {
        "id": "xA0cQQd8cOs6",
        "colab": {
          "base_uri": "https://localhost:8080/",
          "height": 573
        },
        "outputId": "301cf6d7-ac68-4279-a4fa-1a259d268e22"
      },
      "source": [
        "# summarize history for accuracy\n",
        "plt.plot(history.history['accuracy'])\n",
        "plt.plot(history.history['val_accuracy'])\n",
        "plt.title('model accuracy')\n",
        "plt.ylabel('accuracy')\n",
        "plt.xlabel('epoch')\n",
        "plt.legend(['train', 'test'], loc='upper left')\n",
        "plt.show()\n",
        "# summarize history for loss\n",
        "plt.plot(history.history['loss'])\n",
        "plt.plot(history.history['val_loss'])\n",
        "plt.title('model loss')\n",
        "plt.ylabel('loss')\n",
        "plt.xlabel('epoch')\n",
        "plt.legend(['train', 'test'], loc='upper left')\n",
        "plt.show()"
      ],
      "execution_count": 14,
      "outputs": [
        {
          "output_type": "display_data",
          "data": {
            "image/png": "[encoded data removed]",
            "text/plain": [
              "<Figure size 432x288 with 1 Axes>"
            ]
          },
          "metadata": {
            "tags": [],
            "needs_background": "light"
          }
        },
        {
          "output_type": "display_data",
          "data": {
            "image/png": "[encoded data removed]",
            "text/plain": [
              "<Figure size 432x288 with 1 Axes>"
            ]
          },
          "metadata": {
            "tags": [],
            "needs_background": "light"
          }
        }
      ]
    }
  ]
}