{
  "nbformat": 4,
  "nbformat_minor": 0,
  "metadata": {
    "colab": {
      "name": "diabetes-pandas.ipynb",
      "provenance": [],
      "collapsed_sections": [],
      "include_colab_link": true
    },
    "kernelspec": {
      "name": "python3",
      "display_name": "Python 3"
    }
  },
  "cells": [
    {
      "cell_type": "markdown",
      "metadata": {
        "id": "view-in-github",
        "colab_type": "text"
      },
      "source": [
        "<a href=\"https://colab.research.google.com/github/ckraju/mits/blob/master/marks-spa.ipynb\" target=\"_parent\"><img src=\"https://colab.research.google.com/assets/colab-badge.svg\" alt=\"Open In Colab\"/></a>"
      ]
    },
    {
      "cell_type": "code",
      "metadata": {
        "id": "ZYUuODpIbHpu",
        "colab": {
          "resources": {
            "http://localhost:8080/nbextensions/google.colab/files.js": {
              "data": "Ly8gQ29weXJpZ2h0IDIwMTcgR29vZ2xlIExMQwovLwovLyBMaWNlbnNlZCB1bmRlciB0aGUgQXBhY2hlIExpY2Vuc2UsIFZlcnNpb24gMi4wICh0aGUgIkxpY2Vuc2UiKTsKLy8geW91IG1heSBub3QgdXNlIHRoaXMgZmlsZSBleGNlcHQgaW4gY29tcGxpYW5jZSB3aXRoIHRoZSBMaWNlbnNlLgovLyBZb3UgbWF5IG9idGFpbiBhIGNvcHkgb2YgdGhlIExpY2Vuc2UgYXQKLy8KLy8gICAgICBodHRwOi8vd3d3LmFwYWNoZS5vcmcvbGljZW5zZXMvTElDRU5TRS0yLjAKLy8KLy8gVW5sZXNzIHJlcXVpcmVkIGJ5IGFwcGxpY2FibGUgbGF3IG9yIGFncmVlZCB0byBpbiB3cml0aW5nLCBzb2Z0d2FyZQovLyBkaXN0cmlidXRlZCB1bmRlciB0aGUgTGljZW5zZSBpcyBkaXN0cmlidXRlZCBvbiBhbiAiQVMgSVMiIEJBU0lTLAovLyBXSVRIT1VUIFdBUlJBTlRJRVMgT1IgQ09ORElUSU9OUyBPRiBBTlkgS0lORCwgZWl0aGVyIGV4cHJlc3Mgb3IgaW1wbGllZC4KLy8gU2VlIHRoZSBMaWNlbnNlIGZvciB0aGUgc3BlY2lmaWMgbGFuZ3VhZ2UgZ292ZXJuaW5nIHBlcm1pc3Npb25zIGFuZAovLyBsaW1pdGF0aW9ucyB1bmRlciB0aGUgTGljZW5zZS4KCi8qKgogKiBAZmlsZW92ZXJ2aWV3IEhlbHBlcnMgZm9yIGdvb2dsZS5jb2xhYiBQeXRob24gbW9kdWxlLgogKi8KKGZ1bmN0aW9uKHNjb3BlKSB7CmZ1bmN0aW9uIHNwYW4odGV4dCwgc3R5bGVBdHRyaWJ1dGVzID0ge30pIHsKICBjb25zdCBlbGVtZW50ID0gZG9jdW1lbnQuY3JlYXRlRWxlbWVudCgnc3BhbicpOwogIGVsZW1lbnQudGV4dENvbnRlbnQgPSB0ZXh0OwogIGZvciAoY29uc3Qga2V5IG9mIE9iamVjdC5rZXlzKHN0eWxlQXR0cmlidXRlcykpIHsKICAgIGVsZW1lbnQuc3R5bGVba2V5XSA9IHN0eWxlQXR0cmlidXRlc1trZXldOwogIH0KICByZXR1cm4gZWxlbWVudDsKfQoKLy8gTWF4IG51bWJlciBvZiBieXRlcyB3aGljaCB3aWxsIGJlIHVwbG9hZGVkIGF0IGEgdGltZS4KY29uc3QgTUFYX1BBWUxPQURfU0laRSA9IDEwMCAqIDEwMjQ7CgpmdW5jdGlvbiBfdXBsb2FkRmlsZXMoaW5wdXRJZCwgb3V0cHV0SWQpIHsKICBjb25zdCBzdGVwcyA9IHVwbG9hZEZpbGVzU3RlcChpbnB1dElkLCBvdXRwdXRJZCk7CiAgY29uc3Qgb3V0cHV0RWxlbWVudCA9IGRvY3VtZW50LmdldEVsZW1lbnRCeUlkKG91dHB1dElkKTsKICAvLyBDYWNoZSBzdGVwcyBvbiB0aGUgb3V0cHV0RWxlbWVudCB0byBtYWtlIGl0IGF2YWlsYWJsZSBmb3IgdGhlIG5leHQgY2FsbAogIC8vIHRvIHVwbG9hZEZpbGVzQ29udGludWUgZnJvbSBQeXRob24uCiAgb3V0cHV0RWxlbWVudC5zdGVwcyA9IHN0ZXBzOwoKICByZXR1cm4gX3VwbG9hZEZpbGVzQ29udGludWUob3V0cHV0SWQpOwp9CgovLyBUaGlzIGlzIHJvdWdobHkgYW4gYXN5bmMgZ2VuZXJhdG9yIChub3Qgc3VwcG9ydGVkIGluIHRoZSBicm93c2VyIHlldCksCi8vIHdoZXJlIHRoZXJlIGFyZSBtdWx0aXBsZSBhc3luY2hyb25vdXMgc3RlcHMgYW5kIHRoZSBQeXRob24gc2lkZSBpcyBnb2luZwovLyB0byBwb2xsIGZvciBjb21wbGV0aW9uIG9mIGVhY2ggc3RlcC4KLy8gVGhpcyB1c2VzIGEgUHJvbWlzZSB0byBibG9jayB0aGUgcHl0aG9uIHNpZGUgb24gY29tcGxldGlvbiBvZiBlYWNoIHN0ZXAsCi8vIHRoZW4gcGFzc2VzIHRoZSByZXN1bHQgb2YgdGhlIHByZXZpb3VzIHN0ZXAgYXMgdGhlIGlucHV0IHRvIHRoZSBuZXh0IHN0ZXAuCmZ1bmN0aW9uIF91cGxvYWRGaWxlc0NvbnRpbnVlKG91dHB1dElkKSB7CiAgY29uc3Qgb3V0cHV0RWxlbWVudCA9IGRvY3VtZW50LmdldEVsZW1lbnRCeUlkKG91dHB1dElkKTsKICBjb25zdCBzdGVwcyA9IG91dHB1dEVsZW1lbnQuc3RlcHM7CgogIGNvbnN0IG5leHQgPSBzdGVwcy5uZXh0KG91dHB1dEVsZW1lbnQubGFzdFByb21pc2VWYWx1ZSk7CiAgcmV0dXJuIFByb21pc2UucmVzb2x2ZShuZXh0LnZhbHVlLnByb21pc2UpLnRoZW4oKHZhbHVlKSA9PiB7CiAgICAvLyBDYWNoZSB0aGUgbGFzdCBwcm9taXNlIHZhbHVlIHRvIG1ha2UgaXQgYXZhaWxhYmxlIHRvIHRoZSBuZXh0CiAgICAvLyBzdGVwIG9mIHRoZSBnZW5lcmF0b3IuCiAgICBvdXRwdXRFbGVtZW50Lmxhc3RQcm9taXNlVmFsdWUgPSB2YWx1ZTsKICAgIHJldHVybiBuZXh0LnZhbHVlLnJlc3BvbnNlOwogIH0pOwp9CgovKioKICogR2VuZXJhdG9yIGZ1bmN0aW9uIHdoaWNoIGlzIGNhbGxlZCBiZXR3ZWVuIGVhY2ggYXN5bmMgc3RlcCBvZiB0aGUgdXBsb2FkCiAqIHByb2Nlc3MuCiAqIEBwYXJhbSB7c3RyaW5nfSBpbnB1dElkIEVsZW1lbnQgSUQgb2YgdGhlIGlucHV0IGZpbGUgcGlja2VyIGVsZW1lbnQuCiAqIEBwYXJhbSB7c3RyaW5nfSBvdXRwdXRJZCBFbGVtZW50IElEIG9mIHRoZSBvdXRwdXQgZGlzcGxheS4KICogQHJldHVybiB7IUl0ZXJhYmxlPCFPYmplY3Q+fSBJdGVyYWJsZSBvZiBuZXh0IHN0ZXBzLgogKi8KZnVuY3Rpb24qIHVwbG9hZEZpbGVzU3RlcChpbnB1dElkLCBvdXRwdXRJZCkgewogIGNvbnN0IGlucHV0RWxlbWVudCA9IGRvY3VtZW50LmdldEVsZW1lbnRCeUlkKGlucHV0SWQpOwogIGlucHV0RWxlbWVudC5kaXNhYmxlZCA9IGZhbHNlOwoKICBjb25zdCBvdXRwdXRFbGVtZW50ID0gZG9jdW1lbnQuZ2V0RWxlbWVudEJ5SWQob3V0cHV0SWQpOwogIG91dHB1dEVsZW1lbnQuaW5uZXJIVE1MID0gJyc7CgogIGNvbnN0IHBpY2tlZFByb21pc2UgPSBuZXcgUHJvbWlzZSgocmVzb2x2ZSkgPT4gewogICAgaW5wdXRFbGVtZW50LmFkZEV2ZW50TGlzdGVuZXIoJ2NoYW5nZScsIChlKSA9PiB7CiAgICAgIHJlc29sdmUoZS50YXJnZXQuZmlsZXMpOwogICAgfSk7CiAgfSk7CgogIGNvbnN0IGNhbmNlbCA9IGRvY3VtZW50LmNyZWF0ZUVsZW1lbnQoJ2J1dHRvbicpOwogIGlucHV0RWxlbWVudC5wYXJlbnRFbGVtZW50LmFwcGVuZENoaWxkKGNhbmNlbCk7CiAgY2FuY2VsLnRleHRDb250ZW50ID0gJ0NhbmNlbCB1cGxvYWQnOwogIGNvbnN0IGNhbmNlbFByb21pc2UgPSBuZXcgUHJvbWlzZSgocmVzb2x2ZSkgPT4gewogICAgY2FuY2VsLm9uY2xpY2sgPSAoKSA9PiB7CiAgICAgIHJlc29sdmUobnVsbCk7CiAgICB9OwogIH0pOwoKICAvLyBXYWl0IGZvciB0aGUgdXNlciB0byBwaWNrIHRoZSBmaWxlcy4KICBjb25zdCBmaWxlcyA9IHlpZWxkIHsKICAgIHByb21pc2U6IFByb21pc2UucmFjZShbcGlja2VkUHJvbWlzZSwgY2FuY2VsUHJvbWlzZV0pLAogICAgcmVzcG9uc2U6IHsKICAgICAgYWN0aW9uOiAnc3RhcnRpbmcnLAogICAgfQogIH07CgogIGNhbmNlbC5yZW1vdmUoKTsKCiAgLy8gRGlzYWJsZSB0aGUgaW5wdXQgZWxlbWVudCBzaW5jZSBmdXJ0aGVyIHBpY2tzIGFyZSBub3QgYWxsb3dlZC4KICBpbnB1dEVsZW1lbnQuZGlzYWJsZWQgPSB0cnVlOwoKICBpZiAoIWZpbGVzKSB7CiAgICByZXR1cm4gewogICAgICByZXNwb25zZTogewogICAgICAgIGFjdGlvbjogJ2NvbXBsZXRlJywKICAgICAgfQogICAgfTsKICB9CgogIGZvciAoY29uc3QgZmlsZSBvZiBmaWxlcykgewogICAgY29uc3QgbGkgPSBkb2N1bWVudC5jcmVhdGVFbGVtZW50KCdsaScpOwogICAgbGkuYXBwZW5kKHNwYW4oZmlsZS5uYW1lLCB7Zm9udFdlaWdodDogJ2JvbGQnfSkpOwogICAgbGkuYXBwZW5kKHNwYW4oCiAgICAgICAgYCgke2ZpbGUudHlwZSB8fCAnbi9hJ30pIC0gJHtmaWxlLnNpemV9IGJ5dGVzLCBgICsKICAgICAgICBgbGFzdCBtb2RpZmllZDogJHsKICAgICAgICAgICAgZmlsZS5sYXN0TW9kaWZpZWREYXRlID8gZmlsZS5sYXN0TW9kaWZpZWREYXRlLnRvTG9jYWxlRGF0ZVN0cmluZygpIDoKICAgICAgICAgICAgICAgICAgICAgICAgICAgICAgICAgICAgJ24vYSd9IC0gYCkpOwogICAgY29uc3QgcGVyY2VudCA9IHNwYW4oJzAlIGRvbmUnKTsKICAgIGxpLmFwcGVuZENoaWxkKHBlcmNlbnQpOwoKICAgIG91dHB1dEVsZW1lbnQuYXBwZW5kQ2hpbGQobGkpOwoKICAgIGNvbnN0IGZpbGVEYXRhUHJvbWlzZSA9IG5ldyBQcm9taXNlKChyZXNvbHZlKSA9PiB7CiAgICAgIGNvbnN0IHJlYWRlciA9IG5ldyBGaWxlUmVhZGVyKCk7CiAgICAgIHJlYWRlci5vbmxvYWQgPSAoZSkgPT4gewogICAgICAgIHJlc29sdmUoZS50YXJnZXQucmVzdWx0KTsKICAgICAgfTsKICAgICAgcmVhZGVyLnJlYWRBc0FycmF5QnVmZmVyKGZpbGUpOwogICAgfSk7CiAgICAvLyBXYWl0IGZvciB0aGUgZGF0YSB0byBiZSByZWFkeS4KICAgIGxldCBmaWxlRGF0YSA9IHlpZWxkIHsKICAgICAgcHJvbWlzZTogZmlsZURhdGFQcm9taXNlLAogICAgICByZXNwb25zZTogewogICAgICAgIGFjdGlvbjogJ2NvbnRpbnVlJywKICAgICAgfQogICAgfTsKCiAgICAvLyBVc2UgYSBjaHVua2VkIHNlbmRpbmcgdG8gYXZvaWQgbWVzc2FnZSBzaXplIGxpbWl0cy4gU2VlIGIvNjIxMTU2NjAuCiAgICBsZXQgcG9zaXRpb24gPSAwOwogICAgd2hpbGUgKHBvc2l0aW9uIDwgZmlsZURhdGEuYnl0ZUxlbmd0aCkgewogICAgICBjb25zdCBsZW5ndGggPSBNYXRoLm1pbihmaWxlRGF0YS5ieXRlTGVuZ3RoIC0gcG9zaXRpb24sIE1BWF9QQVlMT0FEX1NJWkUpOwogICAgICBjb25zdCBjaHVuayA9IG5ldyBVaW50OEFycmF5KGZpbGVEYXRhLCBwb3NpdGlvbiwgbGVuZ3RoKTsKICAgICAgcG9zaXRpb24gKz0gbGVuZ3RoOwoKICAgICAgY29uc3QgYmFzZTY0ID0gYnRvYShTdHJpbmcuZnJvbUNoYXJDb2RlLmFwcGx5KG51bGwsIGNodW5rKSk7CiAgICAgIHlpZWxkIHsKICAgICAgICByZXNwb25zZTogewogICAgICAgICAgYWN0aW9uOiAnYXBwZW5kJywKICAgICAgICAgIGZpbGU6IGZpbGUubmFtZSwKICAgICAgICAgIGRhdGE6IGJhc2U2NCwKICAgICAgICB9LAogICAgICB9OwogICAgICBwZXJjZW50LnRleHRDb250ZW50ID0KICAgICAgICAgIGAke01hdGgucm91bmQoKHBvc2l0aW9uIC8gZmlsZURhdGEuYnl0ZUxlbmd0aCkgKiAxMDApfSUgZG9uZWA7CiAgICB9CiAgfQoKICAvLyBBbGwgZG9uZS4KICB5aWVsZCB7CiAgICByZXNwb25zZTogewogICAgICBhY3Rpb246ICdjb21wbGV0ZScsCiAgICB9CiAgfTsKfQoKc2NvcGUuZ29vZ2xlID0gc2NvcGUuZ29vZ2xlIHx8IHt9OwpzY29wZS5nb29nbGUuY29sYWIgPSBzY29wZS5nb29nbGUuY29sYWIgfHwge307CnNjb3BlLmdvb2dsZS5jb2xhYi5fZmlsZXMgPSB7CiAgX3VwbG9hZEZpbGVzLAogIF91cGxvYWRGaWxlc0NvbnRpbnVlLAp9Owp9KShzZWxmKTsK",
              "ok": true,
              "headers": [
                [
                  "content-type",
                  "application/javascript"
                ]
              ],
              "status": 200,
              "status_text": "OK"
            }
          },
          "base_uri": "https://localhost:8080/",
          "height": 81
        },
        "outputId": "fc87becd-9088-48dd-e32a-cdff221f6040"
      },
      "source": [
        "from google.colab import files\n",
        "uploaded = files.upload()"
      ],
      "execution_count": 1,
      "outputs": [
        {
          "output_type": "display_data",
          "data": {
            "text/html": [
              "\n",
              "     <input type=\"file\" id=\"files-1900c8e7-68ae-4f19-ab42-8c0a3b31f08c\" name=\"files[]\" multiple disabled\n",
              "        style=\"border:none\" />\n",
              "     <output id=\"result-1900c8e7-68ae-4f19-ab42-8c0a3b31f08c\">\n",
              "      Upload widget is only available when the cell has been executed in the\n",
              "      current browser session. Please rerun this cell to enable.\n",
              "      </output>\n",
              "      <script src=\"/nbextensions/google.colab/files.js\"></script> "
            ],
            "text/plain": [
              "<IPython.core.display.HTML object>"
            ]
          },
          "metadata": {
            "tags": []
          }
        },
        {
          "output_type": "stream",
          "text": [
            "Saving spa.csv to spa.csv\n"
          ],
          "name": "stdout"
        }
      ]
    },
    {
      "cell_type": "code",
      "metadata": {
        "id": "vZbF5toObZ4t"
      },
      "source": [
        "import pandas as pd\n",
        "import matplotlib.pyplot as plt\n",
        "import numpy\n",
        "from sklearn import datasets, linear_model\n",
        "from sklearn.metrics import mean_squared_error, r2_score\n"
      ],
      "execution_count": 2,
      "outputs": []
    },
    {
      "cell_type": "code",
      "metadata": {
        "id": "DAIabSxIbcrT"
      },
      "source": [
        "import io\n",
        "\n",
        "df2 = pd.read_csv(io.BytesIO(uploaded['spa.csv']))\n",
        "\n",
        "# Dataset is now stored in a Pandas Dataframe"
      ],
      "execution_count": 3,
      "outputs": []
    },
    {
      "cell_type": "code",
      "metadata": {
        "id": "HHS62jEQkUHI",
        "outputId": "2cc62dcb-082b-47f5-ce8b-923806bae267",
        "colab": {
          "base_uri": "https://localhost:8080/",
          "height": 424
        }
      },
      "source": [
        "df2"
      ],
      "execution_count": 4,
      "outputs": [
        {
          "output_type": "execute_result",
          "data": {
            "text/html": [
              "<div>\n",
              "<style scoped>\n",
              "    .dataframe tbody tr th:only-of-type {\n",
              "        vertical-align: middle;\n",
              "    }\n",
              "\n",
              "    .dataframe tbody tr th {\n",
              "        vertical-align: top;\n",
              "    }\n",
              "\n",
              "    .dataframe thead th {\n",
              "        text-align: right;\n",
              "    }\n",
              "</style>\n",
              "<table border=\"1\" class=\"dataframe\">\n",
              "  <thead>\n",
              "    <tr style=\"text-align: right;\">\n",
              "      <th></th>\n",
              "      <th>85</th>\n",
              "      <th>54</th>\n",
              "      <th>63</th>\n",
              "      <th>1</th>\n",
              "      <th>76</th>\n",
              "      <th>5</th>\n",
              "    </tr>\n",
              "  </thead>\n",
              "  <tbody>\n",
              "    <tr>\n",
              "      <th>0</th>\n",
              "      <td>85</td>\n",
              "      <td>66</td>\n",
              "      <td>75</td>\n",
              "      <td>1</td>\n",
              "      <td>71</td>\n",
              "      <td>5</td>\n",
              "    </tr>\n",
              "    <tr>\n",
              "      <th>1</th>\n",
              "      <td>85</td>\n",
              "      <td>74</td>\n",
              "      <td>87</td>\n",
              "      <td>1</td>\n",
              "      <td>82</td>\n",
              "      <td>6</td>\n",
              "    </tr>\n",
              "    <tr>\n",
              "      <th>2</th>\n",
              "      <td>55</td>\n",
              "      <td>32</td>\n",
              "      <td>67</td>\n",
              "      <td>1</td>\n",
              "      <td>78</td>\n",
              "      <td>5</td>\n",
              "    </tr>\n",
              "    <tr>\n",
              "      <th>3</th>\n",
              "      <td>88</td>\n",
              "      <td>76</td>\n",
              "      <td>93</td>\n",
              "      <td>1</td>\n",
              "      <td>82</td>\n",
              "      <td>6</td>\n",
              "    </tr>\n",
              "    <tr>\n",
              "      <th>4</th>\n",
              "      <td>90</td>\n",
              "      <td>81</td>\n",
              "      <td>91</td>\n",
              "      <td>1</td>\n",
              "      <td>86</td>\n",
              "      <td>6</td>\n",
              "    </tr>\n",
              "    <tr>\n",
              "      <th>...</th>\n",
              "      <td>...</td>\n",
              "      <td>...</td>\n",
              "      <td>...</td>\n",
              "      <td>...</td>\n",
              "      <td>...</td>\n",
              "      <td>...</td>\n",
              "    </tr>\n",
              "    <tr>\n",
              "      <th>922</th>\n",
              "      <td>70</td>\n",
              "      <td>56</td>\n",
              "      <td>54</td>\n",
              "      <td>1</td>\n",
              "      <td>0</td>\n",
              "      <td>1</td>\n",
              "    </tr>\n",
              "    <tr>\n",
              "      <th>923</th>\n",
              "      <td>70</td>\n",
              "      <td>70</td>\n",
              "      <td>77</td>\n",
              "      <td>1</td>\n",
              "      <td>78</td>\n",
              "      <td>5</td>\n",
              "    </tr>\n",
              "    <tr>\n",
              "      <th>924</th>\n",
              "      <td>60</td>\n",
              "      <td>0</td>\n",
              "      <td>56</td>\n",
              "      <td>1</td>\n",
              "      <td>55</td>\n",
              "      <td>3</td>\n",
              "    </tr>\n",
              "    <tr>\n",
              "      <th>925</th>\n",
              "      <td>40</td>\n",
              "      <td>0</td>\n",
              "      <td>45</td>\n",
              "      <td>1</td>\n",
              "      <td>0</td>\n",
              "      <td>1</td>\n",
              "    </tr>\n",
              "    <tr>\n",
              "      <th>926</th>\n",
              "      <td>40</td>\n",
              "      <td>0</td>\n",
              "      <td>47</td>\n",
              "      <td>2</td>\n",
              "      <td>42</td>\n",
              "      <td>2</td>\n",
              "    </tr>\n",
              "  </tbody>\n",
              "</table>\n",
              "<p>927 rows × 6 columns</p>\n",
              "</div>"
            ],
            "text/plain": [
              "     85  54  63  1  76  5\n",
              "0    85  66  75  1  71  5\n",
              "1    85  74  87  1  82  6\n",
              "2    55  32  67  1  78  5\n",
              "3    88  76  93  1  82  6\n",
              "4    90  81  91  1  86  6\n",
              "..   ..  ..  .. ..  .. ..\n",
              "922  70  56  54  1   0  1\n",
              "923  70  70  77  1  78  5\n",
              "924  60   0  56  1  55  3\n",
              "925  40   0  45  1   0  1\n",
              "926  40   0  47  2  42  2\n",
              "\n",
              "[927 rows x 6 columns]"
            ]
          },
          "metadata": {
            "tags": []
          },
          "execution_count": 4
        }
      ]
    },
    {
      "cell_type": "code",
      "metadata": {
        "id": "NcJ-5VKGT1lz"
      },
      "source": [
        "# fix random seed for reproducibility\n",
        "seed = 8\n",
        "numpy.random.seed(seed)\n",
        "# load pima indians dataset\n",
        "dataset = numpy.loadtxt(\"spa.csv\", delimiter=\",\")\n",
        "# split into input (X) and output (Y) variables\n",
        "X = dataset[:,0:4]\n",
        "Y = dataset[:,5]"
      ],
      "execution_count": 5,
      "outputs": []
    },
    {
      "cell_type": "code",
      "metadata": {
        "id": "N7uSH19SUF0Y",
        "outputId": "49dba6b3-f772-4dff-f942-9902f61edad9",
        "colab": {
          "base_uri": "https://localhost:8080/"
        }
      },
      "source": [
        "X"
      ],
      "execution_count": 6,
      "outputs": [
        {
          "output_type": "execute_result",
          "data": {
            "text/plain": [
              "array([[85., 54., 63.,  1.],\n",
              "       [85., 66., 75.,  1.],\n",
              "       [85., 74., 87.,  1.],\n",
              "       ...,\n",
              "       [60.,  0., 56.,  1.],\n",
              "       [40.,  0., 45.,  1.],\n",
              "       [40.,  0., 47.,  2.]])"
            ]
          },
          "metadata": {
            "tags": []
          },
          "execution_count": 6
        }
      ]
    },
    {
      "cell_type": "code",
      "metadata": {
        "id": "aQ7z3vh_UHCT",
        "outputId": "05b93307-7c1d-486d-8b13-7fff45c02067",
        "colab": {
          "base_uri": "https://localhost:8080/"
        }
      },
      "source": [
        "Y"
      ],
      "execution_count": 7,
      "outputs": [
        {
          "output_type": "execute_result",
          "data": {
            "text/plain": [
              "array([5., 5., 6., 5., 6., 6., 7., 7., 5., 6., 5., 5., 6., 6., 6., 5., 5.,\n",
              "       6., 6., 7., 6., 6., 7., 5., 5., 5., 4., 5., 6., 6., 7., 7., 4., 5.,\n",
              "       6., 6., 6., 5., 1., 5., 6., 5., 5., 6., 5., 5., 7., 6., 5., 6., 6.,\n",
              "       6., 6., 6., 7., 6., 6., 6., 6., 5., 2., 7., 4., 7., 4., 6., 5., 7.,\n",
              "       2., 7., 3., 4., 7., 6., 1., 7., 4., 7., 7., 7., 4., 7., 7., 6., 7.,\n",
              "       5., 7., 5., 7., 4., 5., 6., 7., 6., 6., 7., 6., 1., 6., 4., 3., 6.,\n",
              "       4., 4., 5., 4., 7., 5., 5., 5., 7., 3., 7., 6., 2., 5., 7., 4., 7.,\n",
              "       6., 2., 4., 7., 6., 4., 4., 6., 6., 7., 4., 4., 5., 3., 4., 7., 4.,\n",
              "       5., 5., 4., 1., 3., 3., 3., 4., 1., 7., 7., 3., 6., 7., 5., 3., 7.,\n",
              "       4., 1., 5., 5., 4., 4., 6., 4., 4., 7., 1., 3., 4., 5., 1., 3., 7.,\n",
              "       5., 4., 4., 1., 7., 6., 6., 5., 5., 7., 5., 5., 5., 7., 7., 7., 6.,\n",
              "       5., 7., 7., 5., 7., 5., 5., 5., 7., 5., 7., 7., 6., 5., 5., 7., 7.,\n",
              "       6., 7., 7., 7., 7., 5., 7., 5., 6., 6., 7., 7., 5., 7., 7., 7., 7.,\n",
              "       7., 7., 7., 1., 6., 7., 1., 7., 6., 1., 2., 1., 4., 4., 1., 6., 6.,\n",
              "       6., 6., 4., 7., 3., 2., 4., 7., 5., 4., 1., 4., 6., 7., 4., 6., 3.,\n",
              "       2., 2., 1., 1., 3., 3., 3., 7., 7., 1., 1., 4., 4., 1., 4., 2., 1.,\n",
              "       5., 4., 3., 5., 2., 3., 2., 3., 2., 5., 4., 6., 5., 1., 6., 5., 5.,\n",
              "       4., 5., 1., 3., 6., 4., 6., 5., 5., 4., 7., 2., 6., 4., 4., 6., 4.,\n",
              "       1., 6., 3., 6., 7., 6., 4., 6., 6., 6., 7., 6., 6., 5., 6., 3., 4.,\n",
              "       6., 6., 2., 5., 6., 5., 3., 6., 3., 1., 5., 4., 4., 2., 5., 7., 5.,\n",
              "       5., 6., 6., 4., 6., 4., 1., 5., 7., 1., 5., 4., 2., 2., 5., 4., 4.,\n",
              "       5., 5., 5., 7., 1., 5., 5., 1., 1., 6., 4., 5., 3., 4., 1., 1., 5.,\n",
              "       3., 4., 1., 6., 6., 3., 7., 7., 5., 3., 5., 2., 1., 4., 3., 3., 3.,\n",
              "       5., 2., 1., 5., 1., 3., 2., 4., 2., 1., 5., 5., 4., 3., 1., 6., 5.,\n",
              "       5., 3., 2., 5., 1., 1., 3., 6., 6., 5., 3., 1., 5., 1., 2., 2., 1.,\n",
              "       1., 3., 6., 4., 4., 5., 3., 2., 3., 5., 6., 4., 6., 5., 5., 4., 2.,\n",
              "       3., 1., 2., 1., 5., 6., 1., 4., 6., 3., 5., 6., 4., 6., 1., 4., 3.,\n",
              "       1., 5., 2., 1., 1., 4., 6., 4., 2., 4., 6., 6., 4., 5., 6., 3., 1.,\n",
              "       5., 5., 4., 3., 1., 5., 6., 6., 5., 6., 4., 4., 3., 2., 2., 3., 5.,\n",
              "       3., 6., 7., 2., 2., 4., 4., 3., 5., 1., 2., 5., 4., 4., 3., 4., 4.,\n",
              "       2., 4., 1., 5., 5., 5., 5., 4., 6., 5., 5., 5., 5., 1., 2., 5., 3.,\n",
              "       4., 3., 3., 1., 6., 1., 5., 3., 2., 5., 2., 2., 1., 3., 4., 5., 4.,\n",
              "       2., 5., 5., 5., 6., 5., 5., 4., 6., 2., 3., 5., 5., 2., 2., 5., 4.,\n",
              "       2., 4., 3., 2., 4., 3., 4., 1., 3., 5., 4., 4., 5., 5., 1., 5., 4.,\n",
              "       1., 4., 5., 3., 6., 5., 2., 2., 4., 4., 5., 4., 4., 5., 5., 1., 4.,\n",
              "       4., 3., 1., 5., 4., 4., 3., 5., 1., 3., 5., 3., 3., 1., 6., 6., 3.,\n",
              "       7., 6., 4., 2., 6., 2., 1., 3., 3., 3., 2., 5., 1., 1., 6., 1., 3.,\n",
              "       2., 4., 1., 1., 4., 5., 4., 3., 1., 7., 4., 4., 3., 3., 6., 4., 3.,\n",
              "       4., 6., 6., 6., 4., 1., 6., 3., 4., 4., 4., 4., 5., 6., 4., 5., 6.,\n",
              "       5., 2., 6., 6., 6., 5., 6., 6., 5., 6., 1., 3., 1., 3., 3., 5., 7.,\n",
              "       4., 5., 6., 4., 5., 6., 4., 4., 1., 4., 4., 1., 6., 4., 1., 4., 6.,\n",
              "       5., 4., 4., 5., 7., 7., 5., 6., 7., 3., 1., 6., 7., 5., 5., 2., 7.,\n",
              "       7., 7., 5., 7., 4., 6., 6., 1., 1., 3., 6., 3., 7., 7., 2., 2., 3.,\n",
              "       5., 2., 5., 1., 2., 7., 5., 2., 3., 3., 6., 6., 4., 1., 5., 4., 6.,\n",
              "       3., 3., 7., 6., 6., 5., 3., 2., 4., 5., 3., 7., 3., 5., 4., 7., 1.,\n",
              "       6., 5., 4., 7., 4., 2., 4., 6., 6., 7., 7., 3., 7., 5., 7., 7., 6.,\n",
              "       7., 5., 7., 1., 2., 6., 6., 1., 4., 4., 4., 2., 5., 1., 1., 5., 3.,\n",
              "       2., 2., 2., 6., 6., 4., 6., 6., 2., 1., 6., 1., 6., 7., 3., 7., 6.,\n",
              "       2., 2., 6., 6., 6., 5., 5., 5., 7., 3., 4., 5., 5., 1., 6., 2., 6.,\n",
              "       3., 5., 1., 2., 4., 3., 4., 1., 7., 7., 3., 7., 7., 5., 2., 7., 3.,\n",
              "       1., 6., 3., 4., 3., 7., 2., 2., 7., 2., 3., 1., 6., 2., 1., 7., 6.,\n",
              "       5., 4., 1., 5., 5., 5., 2., 1., 6., 3., 3., 3., 6., 6., 4., 4., 1.,\n",
              "       5., 3., 4., 3., 1., 2., 4., 7., 6., 4., 6., 4., 2., 5., 7., 6., 3.,\n",
              "       7., 7., 6., 6., 1., 2., 2., 4., 2., 5., 7., 3., 5., 7., 5., 5., 6.,\n",
              "       1., 5., 1., 4., 5., 1., 5., 3., 1., 2.])"
            ]
          },
          "metadata": {
            "tags": []
          },
          "execution_count": 7
        }
      ]
    },
    {
      "cell_type": "code",
      "metadata": {
        "id": "JVlDc58yfOId",
        "colab": {
          "base_uri": "https://localhost:8080/"
        },
        "outputId": "82277e6c-bbec-49ef-ec43-c894ada5007c"
      },
      "source": [
        "X"
      ],
      "execution_count": 8,
      "outputs": [
        {
          "output_type": "execute_result",
          "data": {
            "text/plain": [
              "array([[85., 54., 63.,  1.],\n",
              "       [85., 66., 75.,  1.],\n",
              "       [85., 74., 87.,  1.],\n",
              "       ...,\n",
              "       [60.,  0., 56.,  1.],\n",
              "       [40.,  0., 45.,  1.],\n",
              "       [40.,  0., 47.,  2.]])"
            ]
          },
          "metadata": {
            "tags": []
          },
          "execution_count": 8
        }
      ]
    },
    {
      "cell_type": "code",
      "metadata": {
        "id": "eGQF_zdq8IGI"
      },
      "source": [
        "X = (X-X.min())/(X.max()-X.min())"
      ],
      "execution_count": 9,
      "outputs": []
    },
    {
      "cell_type": "code",
      "metadata": {
        "id": "ikFvQfoz8S-4",
        "outputId": "1c03e77a-9280-4109-a2d8-f4754b2d790f",
        "colab": {
          "base_uri": "https://localhost:8080/"
        }
      },
      "source": [
        "X"
      ],
      "execution_count": 10,
      "outputs": [
        {
          "output_type": "execute_result",
          "data": {
            "text/plain": [
              "array([[0.86111111, 0.57407407, 0.65740741, 0.08333333],\n",
              "       [0.86111111, 0.68518519, 0.76851852, 0.08333333],\n",
              "       [0.86111111, 0.75925926, 0.87962963, 0.08333333],\n",
              "       ...,\n",
              "       [0.62962963, 0.07407407, 0.59259259, 0.08333333],\n",
              "       [0.44444444, 0.07407407, 0.49074074, 0.08333333],\n",
              "       [0.44444444, 0.07407407, 0.50925926, 0.09259259]])"
            ]
          },
          "metadata": {
            "tags": []
          },
          "execution_count": 10
        }
      ]
    },
    {
      "cell_type": "code",
      "metadata": {
        "id": "eKIfHEqOfTzR",
        "colab": {
          "base_uri": "https://localhost:8080/"
        },
        "outputId": "72f41fbb-7990-4236-e368-6c0dda0bec1b"
      },
      "source": [
        "Y"
      ],
      "execution_count": 11,
      "outputs": [
        {
          "output_type": "execute_result",
          "data": {
            "text/plain": [
              "array([5., 5., 6., 5., 6., 6., 7., 7., 5., 6., 5., 5., 6., 6., 6., 5., 5.,\n",
              "       6., 6., 7., 6., 6., 7., 5., 5., 5., 4., 5., 6., 6., 7., 7., 4., 5.,\n",
              "       6., 6., 6., 5., 1., 5., 6., 5., 5., 6., 5., 5., 7., 6., 5., 6., 6.,\n",
              "       6., 6., 6., 7., 6., 6., 6., 6., 5., 2., 7., 4., 7., 4., 6., 5., 7.,\n",
              "       2., 7., 3., 4., 7., 6., 1., 7., 4., 7., 7., 7., 4., 7., 7., 6., 7.,\n",
              "       5., 7., 5., 7., 4., 5., 6., 7., 6., 6., 7., 6., 1., 6., 4., 3., 6.,\n",
              "       4., 4., 5., 4., 7., 5., 5., 5., 7., 3., 7., 6., 2., 5., 7., 4., 7.,\n",
              "       6., 2., 4., 7., 6., 4., 4., 6., 6., 7., 4., 4., 5., 3., 4., 7., 4.,\n",
              "       5., 5., 4., 1., 3., 3., 3., 4., 1., 7., 7., 3., 6., 7., 5., 3., 7.,\n",
              "       4., 1., 5., 5., 4., 4., 6., 4., 4., 7., 1., 3., 4., 5., 1., 3., 7.,\n",
              "       5., 4., 4., 1., 7., 6., 6., 5., 5., 7., 5., 5., 5., 7., 7., 7., 6.,\n",
              "       5., 7., 7., 5., 7., 5., 5., 5., 7., 5., 7., 7., 6., 5., 5., 7., 7.,\n",
              "       6., 7., 7., 7., 7., 5., 7., 5., 6., 6., 7., 7., 5., 7., 7., 7., 7.,\n",
              "       7., 7., 7., 1., 6., 7., 1., 7., 6., 1., 2., 1., 4., 4., 1., 6., 6.,\n",
              "       6., 6., 4., 7., 3., 2., 4., 7., 5., 4., 1., 4., 6., 7., 4., 6., 3.,\n",
              "       2., 2., 1., 1., 3., 3., 3., 7., 7., 1., 1., 4., 4., 1., 4., 2., 1.,\n",
              "       5., 4., 3., 5., 2., 3., 2., 3., 2., 5., 4., 6., 5., 1., 6., 5., 5.,\n",
              "       4., 5., 1., 3., 6., 4., 6., 5., 5., 4., 7., 2., 6., 4., 4., 6., 4.,\n",
              "       1., 6., 3., 6., 7., 6., 4., 6., 6., 6., 7., 6., 6., 5., 6., 3., 4.,\n",
              "       6., 6., 2., 5., 6., 5., 3., 6., 3., 1., 5., 4., 4., 2., 5., 7., 5.,\n",
              "       5., 6., 6., 4., 6., 4., 1., 5., 7., 1., 5., 4., 2., 2., 5., 4., 4.,\n",
              "       5., 5., 5., 7., 1., 5., 5., 1., 1., 6., 4., 5., 3., 4., 1., 1., 5.,\n",
              "       3., 4., 1., 6., 6., 3., 7., 7., 5., 3., 5., 2., 1., 4., 3., 3., 3.,\n",
              "       5., 2., 1., 5., 1., 3., 2., 4., 2., 1., 5., 5., 4., 3., 1., 6., 5.,\n",
              "       5., 3., 2., 5., 1., 1., 3., 6., 6., 5., 3., 1., 5., 1., 2., 2., 1.,\n",
              "       1., 3., 6., 4., 4., 5., 3., 2., 3., 5., 6., 4., 6., 5., 5., 4., 2.,\n",
              "       3., 1., 2., 1., 5., 6., 1., 4., 6., 3., 5., 6., 4., 6., 1., 4., 3.,\n",
              "       1., 5., 2., 1., 1., 4., 6., 4., 2., 4., 6., 6., 4., 5., 6., 3., 1.,\n",
              "       5., 5., 4., 3., 1., 5., 6., 6., 5., 6., 4., 4., 3., 2., 2., 3., 5.,\n",
              "       3., 6., 7., 2., 2., 4., 4., 3., 5., 1., 2., 5., 4., 4., 3., 4., 4.,\n",
              "       2., 4., 1., 5., 5., 5., 5., 4., 6., 5., 5., 5., 5., 1., 2., 5., 3.,\n",
              "       4., 3., 3., 1., 6., 1., 5., 3., 2., 5., 2., 2., 1., 3., 4., 5., 4.,\n",
              "       2., 5., 5., 5., 6., 5., 5., 4., 6., 2., 3., 5., 5., 2., 2., 5., 4.,\n",
              "       2., 4., 3., 2., 4., 3., 4., 1., 3., 5., 4., 4., 5., 5., 1., 5., 4.,\n",
              "       1., 4., 5., 3., 6., 5., 2., 2., 4., 4., 5., 4., 4., 5., 5., 1., 4.,\n",
              "       4., 3., 1., 5., 4., 4., 3., 5., 1., 3., 5., 3., 3., 1., 6., 6., 3.,\n",
              "       7., 6., 4., 2., 6., 2., 1., 3., 3., 3., 2., 5., 1., 1., 6., 1., 3.,\n",
              "       2., 4., 1., 1., 4., 5., 4., 3., 1., 7., 4., 4., 3., 3., 6., 4., 3.,\n",
              "       4., 6., 6., 6., 4., 1., 6., 3., 4., 4., 4., 4., 5., 6., 4., 5., 6.,\n",
              "       5., 2., 6., 6., 6., 5., 6., 6., 5., 6., 1., 3., 1., 3., 3., 5., 7.,\n",
              "       4., 5., 6., 4., 5., 6., 4., 4., 1., 4., 4., 1., 6., 4., 1., 4., 6.,\n",
              "       5., 4., 4., 5., 7., 7., 5., 6., 7., 3., 1., 6., 7., 5., 5., 2., 7.,\n",
              "       7., 7., 5., 7., 4., 6., 6., 1., 1., 3., 6., 3., 7., 7., 2., 2., 3.,\n",
              "       5., 2., 5., 1., 2., 7., 5., 2., 3., 3., 6., 6., 4., 1., 5., 4., 6.,\n",
              "       3., 3., 7., 6., 6., 5., 3., 2., 4., 5., 3., 7., 3., 5., 4., 7., 1.,\n",
              "       6., 5., 4., 7., 4., 2., 4., 6., 6., 7., 7., 3., 7., 5., 7., 7., 6.,\n",
              "       7., 5., 7., 1., 2., 6., 6., 1., 4., 4., 4., 2., 5., 1., 1., 5., 3.,\n",
              "       2., 2., 2., 6., 6., 4., 6., 6., 2., 1., 6., 1., 6., 7., 3., 7., 6.,\n",
              "       2., 2., 6., 6., 6., 5., 5., 5., 7., 3., 4., 5., 5., 1., 6., 2., 6.,\n",
              "       3., 5., 1., 2., 4., 3., 4., 1., 7., 7., 3., 7., 7., 5., 2., 7., 3.,\n",
              "       1., 6., 3., 4., 3., 7., 2., 2., 7., 2., 3., 1., 6., 2., 1., 7., 6.,\n",
              "       5., 4., 1., 5., 5., 5., 2., 1., 6., 3., 3., 3., 6., 6., 4., 4., 1.,\n",
              "       5., 3., 4., 3., 1., 2., 4., 7., 6., 4., 6., 4., 2., 5., 7., 6., 3.,\n",
              "       7., 7., 6., 6., 1., 2., 2., 4., 2., 5., 7., 3., 5., 7., 5., 5., 6.,\n",
              "       1., 5., 1., 4., 5., 1., 5., 3., 1., 2.])"
            ]
          },
          "metadata": {
            "tags": []
          },
          "execution_count": 11
        }
      ]
    },
    {
      "cell_type": "code",
      "metadata": {
        "id": "IRVCNALRmwT4"
      },
      "source": [
        ""
      ],
      "execution_count": 11,
      "outputs": []
    },
    {
      "cell_type": "code",
      "metadata": {
        "id": "cygkQKn_ml6Q",
        "outputId": "24acee0c-131a-4725-beb2-52c1b5a56846",
        "colab": {
          "base_uri": "https://localhost:8080/"
        }
      },
      "source": [
        "# Split the data into training/testing sets\n",
        "diabetes_X_train = X[:-20]\n",
        "diabetes_X_test = X[-20:]\n",
        "\n",
        "# Split the targets into training/testing sets\n",
        "diabetes_y_train = Y[:-20]\n",
        "diabetes_y_test = Y[-20:]\n",
        "\n",
        "# Create linear regression object\n",
        "regr = linear_model.LinearRegression()\n",
        "\n",
        "# Train the model using the training sets\n",
        "regr.fit(diabetes_X_train, diabetes_y_train)\n",
        "\n",
        "# Make predictions using the training set\n",
        "diabetes_y_pred = regr.predict(diabetes_X_train)\n",
        "\n",
        "# Make predictions using the testing set\n",
        "diabetes_y_pred = regr.predict(diabetes_X_test)\n",
        "\n",
        "# Make predictions using the testing set\n",
        "diabetes_y_pred = regr.predict(diabetes_X_test)\n",
        "# Use score method to get accuracy of model\n",
        "score = regr.score(diabetes_X_test, diabetes_y_test)\n",
        "print(score)"
      ],
      "execution_count": 12,
      "outputs": [
        {
          "output_type": "stream",
          "text": [
            "0.9189931483912768\n"
          ],
          "name": "stdout"
        }
      ]
    }
  ]
}