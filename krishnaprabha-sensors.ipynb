{
  "nbformat": 4,
  "nbformat_minor": 0,
  "metadata": {
    "colab": {
      "name": "diabetes-pandas.ipynb",
      "provenance": [],
      "collapsed_sections": [],
      "include_colab_link": true
    },
    "kernelspec": {
      "name": "python3",
      "display_name": "Python 3"
    }
  },
  "cells": [
    {
      "cell_type": "markdown",
      "metadata": {
        "id": "view-in-github",
        "colab_type": "text"
      },
      "source": [
        "<a href=\"https://colab.research.google.com/github/ckraju/mits/blob/master/krishnaprabha-sensors.ipynb\" target=\"_parent\"><img src=\"https://colab.research.google.com/assets/colab-badge.svg\" alt=\"Open In Colab\"/></a>"
      ]
    },
    {
      "cell_type": "code",
      "metadata": {
        "id": "ZYUuODpIbHpu",
        "colab_type": "code",
        "outputId": "778f91e2-2d9d-4267-8a8c-ffa68b415151",
        "colab": {
          "resources": {
            "http://localhost:8080/nbextensions/google.colab/files.js": {
              "data": "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",
              "ok": true,
              "headers": [
                [
                  "content-type",
                  "application/javascript"
                ]
              ],
              "status": 200,
              "status_text": "OK"
            }
          },
          "base_uri": "https://localhost:8080/",
          "height": 87
        }
      },
      "source": [
        "from google.colab import files\n",
        "uploaded = files.upload()"
      ],
      "execution_count": 1,
      "outputs": [
        {
          "output_type": "display_data",
          "data": {
            "text/html": [
              "\n",
              "     <input type=\"file\" id=\"files-d84752de-2c25-4d6a-b032-9e87fd939ac8\" name=\"files[]\" multiple disabled />\n",
              "     <output id=\"result-d84752de-2c25-4d6a-b032-9e87fd939ac8\">\n",
              "      Upload widget is only available when the cell has been executed in the\n",
              "      current browser session. Please rerun this cell to enable.\n",
              "      </output>\n",
              "      <script src=\"/nbextensions/google.colab/files.js\"></script> "
            ],
            "text/plain": [
              "<IPython.core.display.HTML object>"
            ]
          },
          "metadata": {
            "tags": []
          }
        },
        {
          "output_type": "stream",
          "text": [
            "Saving train.csv to train.csv\n"
          ],
          "name": "stdout"
        }
      ]
    },
    {
      "cell_type": "code",
      "metadata": {
        "id": "vZbF5toObZ4t",
        "colab_type": "code",
        "colab": {}
      },
      "source": [
        "import pandas as pd\n"
      ],
      "execution_count": 0,
      "outputs": []
    },
    {
      "cell_type": "code",
      "metadata": {
        "id": "DAIabSxIbcrT",
        "colab_type": "code",
        "colab": {}
      },
      "source": [
        "import io\n",
        "\n",
        "df2 = pd.read_csv(io.BytesIO(uploaded['train.csv']))\n",
        "\n",
        "# Dataset is now stored in a Pandas Dataframe"
      ],
      "execution_count": 0,
      "outputs": []
    },
    {
      "cell_type": "markdown",
      "metadata": {
        "id": "UtpPyoEKch6B",
        "colab_type": "text"
      },
      "source": [
        ""
      ]
    },
    {
      "cell_type": "code",
      "metadata": {
        "id": "Ai24xiVNelLZ",
        "colab_type": "code",
        "colab": {
          "base_uri": "https://localhost:8080/",
          "height": 81
        },
        "outputId": "96373144-a7c1-4dba-c8e9-b20c97dd522e"
      },
      "source": [
        "# Visualize training history\n",
        "from keras.models import Sequential\n",
        "from keras.layers import Dense\n",
        "import matplotlib.pyplot as plt\n",
        "import numpy\n",
        "from keras.utils import to_categorical"
      ],
      "execution_count": 7,
      "outputs": [
        {
          "output_type": "stream",
          "text": [
            "Using TensorFlow backend.\n"
          ],
          "name": "stderr"
        },
        {
          "output_type": "display_data",
          "data": {
            "text/html": [
              "<p style=\"color: red;\">\n",
              "The default version of TensorFlow in Colab will soon switch to TensorFlow 2.x.<br>\n",
              "We recommend you <a href=\"https://www.tensorflow.org/guide/migrate\" target=\"_blank\">upgrade</a> now \n",
              "or ensure your notebook will continue to use TensorFlow 1.x via the <code>%tensorflow_version 1.x</code> magic:\n",
              "<a href=\"https://colab.research.google.com/notebooks/tensorflow_version.ipynb\" target=\"_blank\">more info</a>.</p>\n"
            ],
            "text/plain": [
              "<IPython.core.display.HTML object>"
            ]
          },
          "metadata": {
            "tags": []
          }
        }
      ]
    },
    {
      "cell_type": "code",
      "metadata": {
        "id": "HKPD3qUQeoDe",
        "colab_type": "code",
        "colab": {}
      },
      "source": [
        "# fix random seed for reproducibility\n",
        "#seed = 5\n",
        "#numpy.random.seed(seed)\n",
        "# load pima indians dataset\n",
        "dataset = numpy.loadtxt(\"train.csv\", delimiter=\" \")\n",
        "# split into input (X) and output (Y) variables\n",
        "X = dataset[:,0:561]\n",
        "Y = dataset[:,561]"
      ],
      "execution_count": 0,
      "outputs": []
    },
    {
      "cell_type": "code",
      "metadata": {
        "id": "JVlDc58yfOId",
        "colab_type": "code",
        "outputId": "11eae34f-2f32-425a-cbf3-1fdacd79d765",
        "colab": {
          "base_uri": "https://localhost:8080/",
          "height": 243
        }
      },
      "source": [
        "X"
      ],
      "execution_count": 19,
      "outputs": [
        {
          "output_type": "execute_result",
          "data": {
            "text/plain": [
              "array([[ 0.28858451, -0.02029417, -0.13290514, ..., -0.84124676,\n",
              "         0.17994061, -0.05862692],\n",
              "       [ 0.27841883, -0.01641057, -0.12352019, ..., -0.8447876 ,\n",
              "         0.18028889, -0.05431672],\n",
              "       [ 0.27965306, -0.01946716, -0.11346169, ..., -0.84893347,\n",
              "         0.18063731, -0.04911782],\n",
              "       ...,\n",
              "       [ 0.27338737, -0.01701062, -0.04502183, ..., -0.77913261,\n",
              "         0.24914484,  0.04081119],\n",
              "       [ 0.28965416, -0.01884304, -0.15828059, ..., -0.78518142,\n",
              "         0.24643223,  0.02533948],\n",
              "       [ 0.35150347, -0.01242312, -0.20386717, ..., -0.78326693,\n",
              "         0.24680852,  0.03669484]])"
            ]
          },
          "metadata": {
            "tags": []
          },
          "execution_count": 19
        }
      ]
    },
    {
      "cell_type": "code",
      "metadata": {
        "id": "eKIfHEqOfTzR",
        "colab_type": "code",
        "outputId": "0bf4b768-075c-4478-f4a2-fed9b02a4366",
        "colab": {
          "base_uri": "https://localhost:8080/",
          "height": 34
        }
      },
      "source": [
        "Y"
      ],
      "execution_count": 20,
      "outputs": [
        {
          "output_type": "execute_result",
          "data": {
            "text/plain": [
              "array([5., 5., 5., ..., 2., 2., 2.])"
            ]
          },
          "metadata": {
            "tags": []
          },
          "execution_count": 20
        }
      ]
    },
    {
      "cell_type": "code",
      "metadata": {
        "id": "AKyDFB9OoYAD",
        "colab_type": "code",
        "outputId": "36450608-8d7c-4305-9527-3827afdd87be",
        "colab": {
          "base_uri": "https://localhost:8080/",
          "height": 34
        }
      },
      "source": [
        "Y.shape"
      ],
      "execution_count": 11,
      "outputs": [
        {
          "output_type": "execute_result",
          "data": {
            "text/plain": [
              "(7352,)"
            ]
          },
          "metadata": {
            "tags": []
          },
          "execution_count": 11
        }
      ]
    },
    {
      "cell_type": "code",
      "metadata": {
        "id": "TU0Q5A5oodtV",
        "colab_type": "code",
        "outputId": "66a550a8-10e8-4277-9079-337f600af7d8",
        "colab": {
          "base_uri": "https://localhost:8080/",
          "height": 34
        }
      },
      "source": [
        "X.shape"
      ],
      "execution_count": 12,
      "outputs": [
        {
          "output_type": "execute_result",
          "data": {
            "text/plain": [
              "(7352, 561)"
            ]
          },
          "metadata": {
            "tags": []
          },
          "execution_count": 12
        }
      ]
    },
    {
      "cell_type": "code",
      "metadata": {
        "id": "ydsfY1E2eqoy",
        "colab_type": "code",
        "colab": {}
      },
      "source": [
        "# create model\n",
        "model = Sequential()\n",
        "model.add(Dense(60, input_dim=561, activation='sigmoid'))\n",
        "model.add(Dense(30, activation='sigmoid'))\n",
        "model.add(Dense(7, activation='softmax'))"
      ],
      "execution_count": 0,
      "outputs": []
    },
    {
      "cell_type": "code",
      "metadata": {
        "id": "CNSU3u6OmWHX",
        "colab_type": "code",
        "outputId": "a492f4fb-3330-4929-82b0-8e9303c70095",
        "colab": {
          "base_uri": "https://localhost:8080/",
          "height": 260
        }
      },
      "source": [
        "model.summary()"
      ],
      "execution_count": 22,
      "outputs": [
        {
          "output_type": "stream",
          "text": [
            "Model: \"sequential_2\"\n",
            "_________________________________________________________________\n",
            "Layer (type)                 Output Shape              Param #   \n",
            "=================================================================\n",
            "dense_4 (Dense)              (None, 60)                33720     \n",
            "_________________________________________________________________\n",
            "dense_5 (Dense)              (None, 30)                1830      \n",
            "_________________________________________________________________\n",
            "dense_6 (Dense)              (None, 7)                 217       \n",
            "=================================================================\n",
            "Total params: 35,767\n",
            "Trainable params: 35,767\n",
            "Non-trainable params: 0\n",
            "_________________________________________________________________\n"
          ],
          "name": "stdout"
        }
      ]
    },
    {
      "cell_type": "code",
      "metadata": {
        "id": "ftQMCmNrmvnX",
        "colab_type": "code",
        "colab": {}
      },
      "source": [
        "model.compile(loss='categorical_crossentropy', optimizer='adam', metrics=['accuracy'])"
      ],
      "execution_count": 0,
      "outputs": []
    },
    {
      "cell_type": "code",
      "metadata": {
        "id": "MOUiHiQ3mzEm",
        "colab_type": "code",
        "colab": {}
      },
      "source": [
        "from keras.utils import to_categorical\n",
        "\n",
        "Y_cat = to_categorical(Y)\n",
        "\n",
        "\n"
      ],
      "execution_count": 0,
      "outputs": []
    },
    {
      "cell_type": "code",
      "metadata": {
        "id": "4RB2e-3bnhjK",
        "colab_type": "code",
        "outputId": "f7eae6e9-fd4d-4824-f168-b365a5faf3f5",
        "colab": {
          "base_uri": "https://localhost:8080/",
          "height": 34
        }
      },
      "source": [
        "Y_cat.shape"
      ],
      "execution_count": 25,
      "outputs": [
        {
          "output_type": "execute_result",
          "data": {
            "text/plain": [
              "(7352, 7)"
            ]
          },
          "metadata": {
            "tags": []
          },
          "execution_count": 25
        }
      ]
    },
    {
      "cell_type": "code",
      "metadata": {
        "id": "-CuyVa1SqCdz",
        "colab_type": "code",
        "outputId": "92a12b85-36c4-4901-87b5-50c46e247270",
        "colab": {
          "base_uri": "https://localhost:8080/",
          "height": 139
        }
      },
      "source": [
        "Y_cat"
      ],
      "execution_count": 27,
      "outputs": [
        {
          "output_type": "execute_result",
          "data": {
            "text/plain": [
              "array([[0., 0., 0., ..., 0., 1., 0.],\n",
              "       [0., 0., 0., ..., 0., 1., 0.],\n",
              "       [0., 0., 0., ..., 0., 1., 0.],\n",
              "       ...,\n",
              "       [0., 0., 1., ..., 0., 0., 0.],\n",
              "       [0., 0., 1., ..., 0., 0., 0.],\n",
              "       [0., 0., 1., ..., 0., 0., 0.]], dtype=float32)"
            ]
          },
          "metadata": {
            "tags": []
          },
          "execution_count": 27
        }
      ]
    },
    {
      "cell_type": "code",
      "metadata": {
        "id": "mzgAC0seeu19",
        "colab_type": "code",
        "outputId": "22b0e143-86fb-4ca6-a86a-ca4fff91d082",
        "colab": {
          "base_uri": "https://localhost:8080/",
          "height": 1000
        }
      },
      "source": [
        "# Fit the model\n",
        "history = model.fit(X, Y_cat, validation_split=0.25, epochs=100)\n",
        "# list all data in history\n",
        "print(history.history.keys())"
      ],
      "execution_count": 28,
      "outputs": [
        {
          "output_type": "stream",
          "text": [
            "WARNING:tensorflow:From /usr/local/lib/python3.6/dist-packages/tensorflow_core/python/ops/math_grad.py:1424: where (from tensorflow.python.ops.array_ops) is deprecated and will be removed in a future version.\n",
            "Instructions for updating:\n",
            "Use tf.where in 2.0, which has the same broadcast rule as np.where\n",
            "WARNING:tensorflow:From /usr/local/lib/python3.6/dist-packages/keras/backend/tensorflow_backend.py:1033: The name tf.assign_add is deprecated. Please use tf.compat.v1.assign_add instead.\n",
            "\n",
            "WARNING:tensorflow:From /usr/local/lib/python3.6/dist-packages/keras/backend/tensorflow_backend.py:1020: The name tf.assign is deprecated. Please use tf.compat.v1.assign instead.\n",
            "\n",
            "WARNING:tensorflow:From /usr/local/lib/python3.6/dist-packages/keras/backend/tensorflow_backend.py:3005: The name tf.Session is deprecated. Please use tf.compat.v1.Session instead.\n",
            "\n",
            "Train on 5514 samples, validate on 1838 samples\n",
            "Epoch 1/100\n",
            "WARNING:tensorflow:From /usr/local/lib/python3.6/dist-packages/keras/backend/tensorflow_backend.py:190: The name tf.get_default_session is deprecated. Please use tf.compat.v1.get_default_session instead.\n",
            "\n",
            "WARNING:tensorflow:From /usr/local/lib/python3.6/dist-packages/keras/backend/tensorflow_backend.py:197: The name tf.ConfigProto is deprecated. Please use tf.compat.v1.ConfigProto instead.\n",
            "\n",
            "WARNING:tensorflow:From /usr/local/lib/python3.6/dist-packages/keras/backend/tensorflow_backend.py:207: The name tf.global_variables is deprecated. Please use tf.compat.v1.global_variables instead.\n",
            "\n",
            "WARNING:tensorflow:From /usr/local/lib/python3.6/dist-packages/keras/backend/tensorflow_backend.py:216: The name tf.is_variable_initialized is deprecated. Please use tf.compat.v1.is_variable_initialized instead.\n",
            "\n",
            "WARNING:tensorflow:From /usr/local/lib/python3.6/dist-packages/keras/backend/tensorflow_backend.py:223: The name tf.variables_initializer is deprecated. Please use tf.compat.v1.variables_initializer instead.\n",
            "\n",
            "5514/5514 [==============================] - 1s 184us/step - loss: 1.3617 - acc: 0.4764 - val_loss: 0.9768 - val_acc: 0.6251\n",
            "Epoch 2/100\n",
            "5514/5514 [==============================] - 0s 65us/step - loss: 0.7402 - acc: 0.7989 - val_loss: 0.5453 - val_acc: 0.9168\n",
            "Epoch 3/100\n",
            "5514/5514 [==============================] - 0s 63us/step - loss: 0.4352 - acc: 0.8896 - val_loss: 0.3364 - val_acc: 0.9407\n",
            "Epoch 4/100\n",
            "5514/5514 [==============================] - 0s 63us/step - loss: 0.2897 - acc: 0.9215 - val_loss: 0.2310 - val_acc: 0.9467\n",
            "Epoch 5/100\n",
            "5514/5514 [==============================] - 0s 62us/step - loss: 0.2098 - acc: 0.9405 - val_loss: 0.1867 - val_acc: 0.9478\n",
            "Epoch 6/100\n",
            "5514/5514 [==============================] - 0s 63us/step - loss: 0.1698 - acc: 0.9476 - val_loss: 0.1685 - val_acc: 0.9440\n",
            "Epoch 7/100\n",
            "5514/5514 [==============================] - 0s 63us/step - loss: 0.1261 - acc: 0.9623 - val_loss: 0.1408 - val_acc: 0.9532\n",
            "Epoch 8/100\n",
            "5514/5514 [==============================] - 0s 62us/step - loss: 0.1083 - acc: 0.9670 - val_loss: 0.1227 - val_acc: 0.9554\n",
            "Epoch 9/100\n",
            "5514/5514 [==============================] - 0s 62us/step - loss: 0.0870 - acc: 0.9739 - val_loss: 0.1229 - val_acc: 0.9499\n",
            "Epoch 10/100\n",
            "5514/5514 [==============================] - 0s 66us/step - loss: 0.0761 - acc: 0.9770 - val_loss: 0.1188 - val_acc: 0.9548\n",
            "Epoch 11/100\n",
            "5514/5514 [==============================] - 0s 64us/step - loss: 0.0704 - acc: 0.9773 - val_loss: 0.1046 - val_acc: 0.9587\n",
            "Epoch 12/100\n",
            "5514/5514 [==============================] - 0s 62us/step - loss: 0.0626 - acc: 0.9791 - val_loss: 0.1049 - val_acc: 0.9597\n",
            "Epoch 13/100\n",
            "5514/5514 [==============================] - 0s 66us/step - loss: 0.0592 - acc: 0.9811 - val_loss: 0.1032 - val_acc: 0.9614\n",
            "Epoch 14/100\n",
            "5514/5514 [==============================] - 0s 66us/step - loss: 0.0535 - acc: 0.9833 - val_loss: 0.1081 - val_acc: 0.9576\n",
            "Epoch 15/100\n",
            "5514/5514 [==============================] - 0s 62us/step - loss: 0.0579 - acc: 0.9810 - val_loss: 0.2051 - val_acc: 0.9287\n",
            "Epoch 16/100\n",
            "5514/5514 [==============================] - 0s 63us/step - loss: 0.0503 - acc: 0.9837 - val_loss: 0.1221 - val_acc: 0.9559\n",
            "Epoch 17/100\n",
            "5514/5514 [==============================] - 0s 63us/step - loss: 0.0512 - acc: 0.9811 - val_loss: 0.1016 - val_acc: 0.9608\n",
            "Epoch 18/100\n",
            "5514/5514 [==============================] - 0s 64us/step - loss: 0.0485 - acc: 0.9824 - val_loss: 0.1056 - val_acc: 0.9559\n",
            "Epoch 19/100\n",
            "5514/5514 [==============================] - 0s 66us/step - loss: 0.0436 - acc: 0.9849 - val_loss: 0.1231 - val_acc: 0.9592\n",
            "Epoch 20/100\n",
            "5514/5514 [==============================] - 0s 62us/step - loss: 0.0434 - acc: 0.9844 - val_loss: 0.1006 - val_acc: 0.9608\n",
            "Epoch 21/100\n",
            "5514/5514 [==============================] - 0s 63us/step - loss: 0.0428 - acc: 0.9840 - val_loss: 0.0945 - val_acc: 0.9630\n",
            "Epoch 22/100\n",
            "5514/5514 [==============================] - 0s 63us/step - loss: 0.0376 - acc: 0.9869 - val_loss: 0.1098 - val_acc: 0.9587\n",
            "Epoch 23/100\n",
            "5514/5514 [==============================] - 0s 63us/step - loss: 0.0470 - acc: 0.9819 - val_loss: 0.1237 - val_acc: 0.9592\n",
            "Epoch 24/100\n",
            "5514/5514 [==============================] - 0s 63us/step - loss: 0.0372 - acc: 0.9869 - val_loss: 0.1168 - val_acc: 0.9614\n",
            "Epoch 25/100\n",
            "5514/5514 [==============================] - 0s 61us/step - loss: 0.0354 - acc: 0.9869 - val_loss: 0.1268 - val_acc: 0.9587\n",
            "Epoch 26/100\n",
            "5514/5514 [==============================] - 0s 63us/step - loss: 0.0351 - acc: 0.9878 - val_loss: 0.1067 - val_acc: 0.9641\n",
            "Epoch 27/100\n",
            "5514/5514 [==============================] - 0s 63us/step - loss: 0.0410 - acc: 0.9846 - val_loss: 0.1289 - val_acc: 0.9521\n",
            "Epoch 28/100\n",
            "5514/5514 [==============================] - 0s 63us/step - loss: 0.0324 - acc: 0.9893 - val_loss: 0.1162 - val_acc: 0.9603\n",
            "Epoch 29/100\n",
            "5514/5514 [==============================] - 0s 62us/step - loss: 0.0333 - acc: 0.9882 - val_loss: 0.1216 - val_acc: 0.9543\n",
            "Epoch 30/100\n",
            "5514/5514 [==============================] - 0s 61us/step - loss: 0.0394 - acc: 0.9846 - val_loss: 0.1166 - val_acc: 0.9608\n",
            "Epoch 31/100\n",
            "5514/5514 [==============================] - 0s 63us/step - loss: 0.0318 - acc: 0.9902 - val_loss: 0.1369 - val_acc: 0.9570\n",
            "Epoch 32/100\n",
            "5514/5514 [==============================] - 0s 64us/step - loss: 0.0338 - acc: 0.9866 - val_loss: 0.1169 - val_acc: 0.9635\n",
            "Epoch 33/100\n",
            "5514/5514 [==============================] - 0s 65us/step - loss: 0.0290 - acc: 0.9898 - val_loss: 0.1104 - val_acc: 0.9619\n",
            "Epoch 34/100\n",
            "5514/5514 [==============================] - 0s 64us/step - loss: 0.0298 - acc: 0.9898 - val_loss: 0.1106 - val_acc: 0.9608\n",
            "Epoch 35/100\n",
            "5514/5514 [==============================] - 0s 62us/step - loss: 0.0286 - acc: 0.9889 - val_loss: 0.1278 - val_acc: 0.9576\n",
            "Epoch 36/100\n",
            "5514/5514 [==============================] - 0s 63us/step - loss: 0.0361 - acc: 0.9855 - val_loss: 0.1372 - val_acc: 0.9527\n",
            "Epoch 37/100\n",
            "5514/5514 [==============================] - 0s 62us/step - loss: 0.0262 - acc: 0.9900 - val_loss: 0.1785 - val_acc: 0.9467\n",
            "Epoch 38/100\n",
            "5514/5514 [==============================] - 0s 62us/step - loss: 0.0278 - acc: 0.9900 - val_loss: 0.1415 - val_acc: 0.9570\n",
            "Epoch 39/100\n",
            "5514/5514 [==============================] - 0s 66us/step - loss: 0.0270 - acc: 0.9908 - val_loss: 0.1141 - val_acc: 0.9619\n",
            "Epoch 40/100\n",
            "5514/5514 [==============================] - 0s 62us/step - loss: 0.0269 - acc: 0.9898 - val_loss: 0.1135 - val_acc: 0.9625\n",
            "Epoch 41/100\n",
            "5514/5514 [==============================] - 0s 64us/step - loss: 0.0287 - acc: 0.9897 - val_loss: 0.1227 - val_acc: 0.9614\n",
            "Epoch 42/100\n",
            "5514/5514 [==============================] - 0s 64us/step - loss: 0.0232 - acc: 0.9931 - val_loss: 0.1614 - val_acc: 0.9554\n",
            "Epoch 43/100\n",
            "5514/5514 [==============================] - 0s 64us/step - loss: 0.0224 - acc: 0.9911 - val_loss: 0.1054 - val_acc: 0.9663\n",
            "Epoch 44/100\n",
            "5514/5514 [==============================] - 0s 62us/step - loss: 0.0230 - acc: 0.9929 - val_loss: 0.1152 - val_acc: 0.9608\n",
            "Epoch 45/100\n",
            "5514/5514 [==============================] - 0s 63us/step - loss: 0.0217 - acc: 0.9933 - val_loss: 0.1078 - val_acc: 0.9652\n",
            "Epoch 46/100\n",
            "5514/5514 [==============================] - 0s 61us/step - loss: 0.0218 - acc: 0.9933 - val_loss: 0.1605 - val_acc: 0.9576\n",
            "Epoch 47/100\n",
            "5514/5514 [==============================] - 0s 62us/step - loss: 0.0261 - acc: 0.9902 - val_loss: 0.1032 - val_acc: 0.9657\n",
            "Epoch 48/100\n",
            "5514/5514 [==============================] - 0s 62us/step - loss: 0.0226 - acc: 0.9920 - val_loss: 0.1165 - val_acc: 0.9657\n",
            "Epoch 49/100\n",
            "5514/5514 [==============================] - 0s 63us/step - loss: 0.0311 - acc: 0.9886 - val_loss: 0.1327 - val_acc: 0.9608\n",
            "Epoch 50/100\n",
            "5514/5514 [==============================] - 0s 64us/step - loss: 0.0202 - acc: 0.9927 - val_loss: 0.1153 - val_acc: 0.9641\n",
            "Epoch 51/100\n",
            "5514/5514 [==============================] - 0s 65us/step - loss: 0.0172 - acc: 0.9940 - val_loss: 0.1205 - val_acc: 0.9652\n",
            "Epoch 52/100\n",
            "5514/5514 [==============================] - 0s 67us/step - loss: 0.0176 - acc: 0.9927 - val_loss: 0.1123 - val_acc: 0.9652\n",
            "Epoch 53/100\n",
            "5514/5514 [==============================] - 0s 65us/step - loss: 0.0177 - acc: 0.9937 - val_loss: 0.1209 - val_acc: 0.9630\n",
            "Epoch 54/100\n",
            "5514/5514 [==============================] - 0s 63us/step - loss: 0.0205 - acc: 0.9917 - val_loss: 0.1697 - val_acc: 0.9521\n",
            "Epoch 55/100\n",
            "5514/5514 [==============================] - 0s 64us/step - loss: 0.0228 - acc: 0.9911 - val_loss: 0.1304 - val_acc: 0.9614\n",
            "Epoch 56/100\n",
            "5514/5514 [==============================] - 0s 65us/step - loss: 0.0167 - acc: 0.9944 - val_loss: 0.1138 - val_acc: 0.9663\n",
            "Epoch 57/100\n",
            "5514/5514 [==============================] - 0s 63us/step - loss: 0.0145 - acc: 0.9956 - val_loss: 0.1090 - val_acc: 0.9663\n",
            "Epoch 58/100\n",
            "5514/5514 [==============================] - 0s 63us/step - loss: 0.0180 - acc: 0.9940 - val_loss: 0.1054 - val_acc: 0.9663\n",
            "Epoch 59/100\n",
            "5514/5514 [==============================] - 0s 67us/step - loss: 0.0163 - acc: 0.9946 - val_loss: 0.1238 - val_acc: 0.9641\n",
            "Epoch 60/100\n",
            "5514/5514 [==============================] - 0s 63us/step - loss: 0.0111 - acc: 0.9964 - val_loss: 0.2560 - val_acc: 0.9347\n",
            "Epoch 61/100\n",
            "5514/5514 [==============================] - 0s 63us/step - loss: 0.0198 - acc: 0.9929 - val_loss: 0.1406 - val_acc: 0.9625\n",
            "Epoch 62/100\n",
            "5514/5514 [==============================] - 0s 63us/step - loss: 0.0139 - acc: 0.9946 - val_loss: 0.1054 - val_acc: 0.9690\n",
            "Epoch 63/100\n",
            "5514/5514 [==============================] - 0s 66us/step - loss: 0.0144 - acc: 0.9947 - val_loss: 0.1223 - val_acc: 0.9668\n",
            "Epoch 64/100\n",
            "5514/5514 [==============================] - 0s 62us/step - loss: 0.0132 - acc: 0.9946 - val_loss: 0.1179 - val_acc: 0.9668\n",
            "Epoch 65/100\n",
            "5514/5514 [==============================] - 0s 64us/step - loss: 0.0146 - acc: 0.9949 - val_loss: 0.1064 - val_acc: 0.9679\n",
            "Epoch 66/100\n",
            "5514/5514 [==============================] - 0s 63us/step - loss: 0.0117 - acc: 0.9962 - val_loss: 0.1896 - val_acc: 0.9543\n",
            "Epoch 67/100\n",
            "5514/5514 [==============================] - 0s 62us/step - loss: 0.0105 - acc: 0.9958 - val_loss: 0.1245 - val_acc: 0.9663\n",
            "Epoch 68/100\n",
            "5514/5514 [==============================] - 0s 63us/step - loss: 0.0085 - acc: 0.9976 - val_loss: 0.1241 - val_acc: 0.9663\n",
            "Epoch 69/100\n",
            "5514/5514 [==============================] - 0s 60us/step - loss: 0.0122 - acc: 0.9949 - val_loss: 0.1494 - val_acc: 0.9587\n",
            "Epoch 70/100\n",
            "5514/5514 [==============================] - 0s 64us/step - loss: 0.0081 - acc: 0.9976 - val_loss: 0.1195 - val_acc: 0.9663\n",
            "Epoch 71/100\n",
            "5514/5514 [==============================] - 0s 66us/step - loss: 0.0107 - acc: 0.9964 - val_loss: 0.1292 - val_acc: 0.9668\n",
            "Epoch 72/100\n",
            "5514/5514 [==============================] - 0s 64us/step - loss: 0.0081 - acc: 0.9975 - val_loss: 0.1454 - val_acc: 0.9652\n",
            "Epoch 73/100\n",
            "5514/5514 [==============================] - 0s 65us/step - loss: 0.0159 - acc: 0.9938 - val_loss: 0.1636 - val_acc: 0.9576\n",
            "Epoch 74/100\n",
            "5514/5514 [==============================] - 0s 63us/step - loss: 0.0104 - acc: 0.9962 - val_loss: 0.1206 - val_acc: 0.9690\n",
            "Epoch 75/100\n",
            "5514/5514 [==============================] - 0s 65us/step - loss: 0.0102 - acc: 0.9960 - val_loss: 0.1389 - val_acc: 0.9641\n",
            "Epoch 76/100\n",
            "5514/5514 [==============================] - 0s 63us/step - loss: 0.0078 - acc: 0.9975 - val_loss: 0.1264 - val_acc: 0.9641\n",
            "Epoch 77/100\n",
            "5514/5514 [==============================] - 0s 62us/step - loss: 0.0068 - acc: 0.9975 - val_loss: 0.1544 - val_acc: 0.9581\n",
            "Epoch 78/100\n",
            "5514/5514 [==============================] - 0s 62us/step - loss: 0.0058 - acc: 0.9984 - val_loss: 0.1253 - val_acc: 0.9679\n",
            "Epoch 79/100\n",
            "5514/5514 [==============================] - 0s 64us/step - loss: 0.0098 - acc: 0.9969 - val_loss: 0.1498 - val_acc: 0.9581\n",
            "Epoch 80/100\n",
            "5514/5514 [==============================] - 0s 65us/step - loss: 0.0263 - acc: 0.9911 - val_loss: 0.1424 - val_acc: 0.9625\n",
            "Epoch 81/100\n",
            "5514/5514 [==============================] - 0s 63us/step - loss: 0.0068 - acc: 0.9978 - val_loss: 0.1445 - val_acc: 0.9625\n",
            "Epoch 82/100\n",
            "5514/5514 [==============================] - 0s 62us/step - loss: 0.0055 - acc: 0.9985 - val_loss: 0.1442 - val_acc: 0.9641\n",
            "Epoch 83/100\n",
            "5514/5514 [==============================] - 0s 61us/step - loss: 0.0063 - acc: 0.9984 - val_loss: 0.1760 - val_acc: 0.9592\n",
            "Epoch 84/100\n",
            "5514/5514 [==============================] - 0s 64us/step - loss: 0.0058 - acc: 0.9978 - val_loss: 0.1435 - val_acc: 0.9619\n",
            "Epoch 85/100\n",
            "5514/5514 [==============================] - 0s 65us/step - loss: 0.0105 - acc: 0.9960 - val_loss: 0.1340 - val_acc: 0.9652\n",
            "Epoch 86/100\n",
            "5514/5514 [==============================] - 0s 64us/step - loss: 0.0042 - acc: 0.9991 - val_loss: 0.1796 - val_acc: 0.9597\n",
            "Epoch 87/100\n",
            "5514/5514 [==============================] - 0s 67us/step - loss: 0.0047 - acc: 0.9987 - val_loss: 0.1300 - val_acc: 0.9652\n",
            "Epoch 88/100\n",
            "5514/5514 [==============================] - 0s 62us/step - loss: 0.0040 - acc: 0.9995 - val_loss: 0.1592 - val_acc: 0.9570\n",
            "Epoch 89/100\n",
            "5514/5514 [==============================] - 0s 64us/step - loss: 0.0057 - acc: 0.9978 - val_loss: 0.1624 - val_acc: 0.9597\n",
            "Epoch 90/100\n",
            "5514/5514 [==============================] - 0s 63us/step - loss: 0.0066 - acc: 0.9978 - val_loss: 0.1553 - val_acc: 0.9614\n",
            "Epoch 91/100\n",
            "5514/5514 [==============================] - 0s 63us/step - loss: 0.0044 - acc: 0.9991 - val_loss: 0.1540 - val_acc: 0.9625\n",
            "Epoch 92/100\n",
            "5514/5514 [==============================] - 0s 62us/step - loss: 0.0046 - acc: 0.9984 - val_loss: 0.1450 - val_acc: 0.9635\n",
            "Epoch 93/100\n",
            "5514/5514 [==============================] - 0s 66us/step - loss: 0.0053 - acc: 0.9987 - val_loss: 0.1551 - val_acc: 0.9635\n",
            "Epoch 94/100\n",
            "5514/5514 [==============================] - 0s 62us/step - loss: 0.0022 - acc: 0.9995 - val_loss: 0.1618 - val_acc: 0.9635\n",
            "Epoch 95/100\n",
            "5514/5514 [==============================] - 0s 63us/step - loss: 0.0024 - acc: 0.9998 - val_loss: 0.1696 - val_acc: 0.9630\n",
            "Epoch 96/100\n",
            "5514/5514 [==============================] - 0s 63us/step - loss: 0.0042 - acc: 0.9987 - val_loss: 0.1702 - val_acc: 0.9625\n",
            "Epoch 97/100\n",
            "5514/5514 [==============================] - 0s 62us/step - loss: 0.0037 - acc: 0.9984 - val_loss: 0.1366 - val_acc: 0.9646\n",
            "Epoch 98/100\n",
            "5514/5514 [==============================] - 0s 62us/step - loss: 0.0073 - acc: 0.9973 - val_loss: 0.1573 - val_acc: 0.9619\n",
            "Epoch 99/100\n",
            "5514/5514 [==============================] - 0s 66us/step - loss: 0.0069 - acc: 0.9973 - val_loss: 0.1720 - val_acc: 0.9614\n",
            "Epoch 100/100\n",
            "5514/5514 [==============================] - 0s 63us/step - loss: 0.0028 - acc: 0.9995 - val_loss: 0.1866 - val_acc: 0.9587\n",
            "dict_keys(['val_loss', 'val_acc', 'loss', 'acc'])\n"
          ],
          "name": "stdout"
        }
      ]
    },
    {
      "cell_type": "code",
      "metadata": {
        "id": "xA0cQQd8cOs6",
        "colab_type": "code",
        "outputId": "deb20905-8cbb-43f1-9b4a-42a36265a146",
        "colab": {
          "base_uri": "https://localhost:8080/",
          "height": 573
        }
      },
      "source": [
        "# summarize history for accuracy\n",
        "plt.plot(history.history['acc'])\n",
        "plt.plot(history.history['val_acc'])\n",
        "plt.title('model accuracy')\n",
        "plt.ylabel('accuracy')\n",
        "plt.xlabel('epoch')\n",
        "plt.legend(['train', 'test'], loc='upper left')\n",
        "plt.show()\n",
        "# summarize history for loss\n",
        "plt.plot(history.history['loss'])\n",
        "plt.plot(history.history['val_loss'])\n",
        "plt.title('model loss')\n",
        "plt.ylabel('loss')\n",
        "plt.xlabel('epoch')\n",
        "plt.legend(['train', 'test'], loc='upper left')\n",
        "plt.show()"
      ],
      "execution_count": 29,
      "outputs": [
        {
          "output_type": "display_data",
          "data": {
            "image/png": "[encoded data removed]",
            "text/plain": [
              "<Figure size 432x288 with 1 Axes>"
            ]
          },
          "metadata": {
            "tags": []
          }
        },
        {
          "output_type": "display_data",
          "data": {
            "image/png": "[encoded data removed]",
            "text/plain": [
              "<Figure size 432x288 with 1 Axes>"
            ]
          },
          "metadata": {
            "tags": []
          }
        }
      ]
    }
  ]
}