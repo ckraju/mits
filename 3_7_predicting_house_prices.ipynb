{
  "nbformat": 4,
  "nbformat_minor": 0,
  "metadata": {
    "kernelspec": {
      "display_name": "Python 3",
      "language": "python",
      "name": "python3"
    },
    "language_info": {
      "codemirror_mode": {
        "name": "ipython",
        "version": 3
      },
      "file_extension": ".py",
      "mimetype": "text/x-python",
      "name": "python",
      "nbconvert_exporter": "python",
      "pygments_lexer": "ipython3",
      "version": "3.5.2"
    },
    "colab": {
      "name": "3.7-predicting-house-prices.ipynb",
      "provenance": [],
      "include_colab_link": true
    }
  },
  "cells": [
    {
      "cell_type": "markdown",
      "metadata": {
        "id": "view-in-github",
        "colab_type": "text"
      },
      "source": [
        "<a href=\"https://colab.research.google.com/github/ckraju/mits/blob/master/3_7_predicting_house_prices.ipynb\" target=\"_parent\"><img src=\"https://colab.research.google.com/assets/colab-badge.svg\" alt=\"Open In Colab\"/></a>"
      ]
    },
    {
      "cell_type": "code",
      "metadata": {
        "colab": {
          "base_uri": "https://localhost:8080/",
          "height": 35
        },
        "id": "-ghArIEMz0xT",
        "outputId": "5ae8c2d1-db69-46a4-e973-d32e0caba92a"
      },
      "source": [
        "import keras\n",
        "keras.__version__"
      ],
      "execution_count": 1,
      "outputs": [
        {
          "output_type": "execute_result",
          "data": {
            "application/vnd.google.colaboratory.intrinsic+json": {
              "type": "string"
            },
            "text/plain": [
              "'2.4.3'"
            ]
          },
          "metadata": {
            "tags": []
          },
          "execution_count": 1
        }
      ]
    },
    {
      "cell_type": "markdown",
      "metadata": {
        "id": "KBlJrYYkz0xf"
      },
      "source": [
        "# Predicting house prices: a regression example\n",
        "\n",
        "This notebook contains the code samples found in Chapter 3, Section 6 of [Deep Learning with Python](https://www.manning.com/books/deep-learning-with-python?a_aid=keras&a_bid=76564dff). Note that the original text features far more content, in particular further explanations and figures: in this notebook, you will only find source code and related comments.\n",
        "\n",
        "----\n",
        "\n",
        "\n",
        "In our two previous examples, we were considering classification problems, where the goal was to predict a single discrete label of an \n",
        "input data point. Another common type of machine learning problem is \"regression\", which consists of predicting a continuous value instead \n",
        "of a discrete label. For instance, predicting the temperature tomorrow, given meteorological data, or predicting the time that a \n",
        "software project will take to complete, given its specifications.\n",
        "\n",
        "Do not mix up \"regression\" with the algorithm \"logistic regression\": confusingly, \"logistic regression\" is not a regression algorithm, \n",
        "it is a classification algorithm."
      ]
    },
    {
      "cell_type": "markdown",
      "metadata": {
        "id": "lcZX40tbz0xg"
      },
      "source": [
        "## The Boston Housing Price dataset\n",
        "\n",
        "\n",
        "We will be attempting to predict the median price of homes in a given Boston suburb in the mid-1970s, given a few data points about the \n",
        "suburb at the time, such as the crime rate, the local property tax rate, etc.\n",
        "\n",
        "The dataset we will be using has another interesting difference from our two previous examples: it has very few data points, only 506 in \n",
        "total, split between 404 training samples and 102 test samples, and each \"feature\" in the input data (e.g. the crime rate is a feature) has \n",
        "a different scale. For instance some values are proportions, which take a values between 0 and 1, others take values between 1 and 12, \n",
        "others between 0 and 100...\n",
        "\n",
        "Let's take a look at the data:"
      ]
    },
    {
      "cell_type": "code",
      "metadata": {
        "collapsed": true,
        "colab": {
          "base_uri": "https://localhost:8080/"
        },
        "id": "1Du6qs8hz0xh",
        "outputId": "7fb716b7-ce1b-4179-9a03-f5c74fbc329a"
      },
      "source": [
        "from keras.datasets import boston_housing\n",
        "\n",
        "(train_data, train_targets), (test_data, test_targets) =  boston_housing.load_data()"
      ],
      "execution_count": 2,
      "outputs": [
        {
          "output_type": "stream",
          "text": [
            "Downloading data from https://storage.googleapis.com/tensorflow/tf-keras-datasets/boston_housing.npz\n",
            "57344/57026 [==============================] - 0s 0us/step\n"
          ],
          "name": "stdout"
        }
      ]
    },
    {
      "cell_type": "code",
      "metadata": {
        "colab": {
          "base_uri": "https://localhost:8080/"
        },
        "id": "sBoKdVKLz0xi",
        "outputId": "0cfe9e34-c7ea-4384-c935-a5e37642ed17"
      },
      "source": [
        "train_data.shape"
      ],
      "execution_count": 3,
      "outputs": [
        {
          "output_type": "execute_result",
          "data": {
            "text/plain": [
              "(404, 13)"
            ]
          },
          "metadata": {
            "tags": []
          },
          "execution_count": 3
        }
      ]
    },
    {
      "cell_type": "code",
      "metadata": {
        "colab": {
          "base_uri": "https://localhost:8080/"
        },
        "id": "V9Vo36OGz0xj",
        "outputId": "e099d46c-c6bd-4072-d51f-aeb18c1bc9c3"
      },
      "source": [
        "test_data.shape"
      ],
      "execution_count": 4,
      "outputs": [
        {
          "output_type": "execute_result",
          "data": {
            "text/plain": [
              "(102, 13)"
            ]
          },
          "metadata": {
            "tags": []
          },
          "execution_count": 4
        }
      ]
    },
    {
      "cell_type": "markdown",
      "metadata": {
        "id": "egCjHy_Nz0xk"
      },
      "source": [
        "\n",
        "As you can see, we have 404 training samples and 102 test samples. The data comprises 13 features. The 13 features in the input data are as \n",
        "follow:\n",
        "\n",
        "1. Per capita crime rate.\n",
        "2. Proportion of residential land zoned for lots over 25,000 square feet.\n",
        "3. Proportion of non-retail business acres per town.\n",
        "4. Charles River dummy variable (= 1 if tract bounds river; 0 otherwise).\n",
        "5. Nitric oxides concentration (parts per 10 million).\n",
        "6. Average number of rooms per dwelling.\n",
        "7. Proportion of owner-occupied units built prior to 1940.\n",
        "8. Weighted distances to five Boston employment centres.\n",
        "9. Index of accessibility to radial highways.\n",
        "10. Full-value property-tax rate per $10,000.\n",
        "11. Pupil-teacher ratio by town.\n",
        "12. 1000 * (Bk - 0.63) ** 2 where Bk is the proportion of Black people by town.\n",
        "13. % lower status of the population.\n",
        "\n",
        "The targets are the median values of owner-occupied homes, in thousands of dollars:"
      ]
    },
    {
      "cell_type": "code",
      "metadata": {
        "colab": {
          "base_uri": "https://localhost:8080/"
        },
        "id": "R4D5-5JDz0xl",
        "outputId": "e2a9dbf6-1ecb-4d03-bf56-e227a9d0ae00"
      },
      "source": [
        "train_targets"
      ],
      "execution_count": 5,
      "outputs": [
        {
          "output_type": "execute_result",
          "data": {
            "text/plain": [
              "array([15.2, 42.3, 50. , 21.1, 17.7, 18.5, 11.3, 15.6, 15.6, 14.4, 12.1,\n",
              "       17.9, 23.1, 19.9, 15.7,  8.8, 50. , 22.5, 24.1, 27.5, 10.9, 30.8,\n",
              "       32.9, 24. , 18.5, 13.3, 22.9, 34.7, 16.6, 17.5, 22.3, 16.1, 14.9,\n",
              "       23.1, 34.9, 25. , 13.9, 13.1, 20.4, 20. , 15.2, 24.7, 22.2, 16.7,\n",
              "       12.7, 15.6, 18.4, 21. , 30.1, 15.1, 18.7,  9.6, 31.5, 24.8, 19.1,\n",
              "       22. , 14.5, 11. , 32. , 29.4, 20.3, 24.4, 14.6, 19.5, 14.1, 14.3,\n",
              "       15.6, 10.5,  6.3, 19.3, 19.3, 13.4, 36.4, 17.8, 13.5, 16.5,  8.3,\n",
              "       14.3, 16. , 13.4, 28.6, 43.5, 20.2, 22. , 23. , 20.7, 12.5, 48.5,\n",
              "       14.6, 13.4, 23.7, 50. , 21.7, 39.8, 38.7, 22.2, 34.9, 22.5, 31.1,\n",
              "       28.7, 46. , 41.7, 21. , 26.6, 15. , 24.4, 13.3, 21.2, 11.7, 21.7,\n",
              "       19.4, 50. , 22.8, 19.7, 24.7, 36.2, 14.2, 18.9, 18.3, 20.6, 24.6,\n",
              "       18.2,  8.7, 44. , 10.4, 13.2, 21.2, 37. , 30.7, 22.9, 20. , 19.3,\n",
              "       31.7, 32. , 23.1, 18.8, 10.9, 50. , 19.6,  5. , 14.4, 19.8, 13.8,\n",
              "       19.6, 23.9, 24.5, 25. , 19.9, 17.2, 24.6, 13.5, 26.6, 21.4, 11.9,\n",
              "       22.6, 19.6,  8.5, 23.7, 23.1, 22.4, 20.5, 23.6, 18.4, 35.2, 23.1,\n",
              "       27.9, 20.6, 23.7, 28. , 13.6, 27.1, 23.6, 20.6, 18.2, 21.7, 17.1,\n",
              "        8.4, 25.3, 13.8, 22.2, 18.4, 20.7, 31.6, 30.5, 20.3,  8.8, 19.2,\n",
              "       19.4, 23.1, 23. , 14.8, 48.8, 22.6, 33.4, 21.1, 13.6, 32.2, 13.1,\n",
              "       23.4, 18.9, 23.9, 11.8, 23.3, 22.8, 19.6, 16.7, 13.4, 22.2, 20.4,\n",
              "       21.8, 26.4, 14.9, 24.1, 23.8, 12.3, 29.1, 21. , 19.5, 23.3, 23.8,\n",
              "       17.8, 11.5, 21.7, 19.9, 25. , 33.4, 28.5, 21.4, 24.3, 27.5, 33.1,\n",
              "       16.2, 23.3, 48.3, 22.9, 22.8, 13.1, 12.7, 22.6, 15. , 15.3, 10.5,\n",
              "       24. , 18.5, 21.7, 19.5, 33.2, 23.2,  5. , 19.1, 12.7, 22.3, 10.2,\n",
              "       13.9, 16.3, 17. , 20.1, 29.9, 17.2, 37.3, 45.4, 17.8, 23.2, 29. ,\n",
              "       22. , 18. , 17.4, 34.6, 20.1, 25. , 15.6, 24.8, 28.2, 21.2, 21.4,\n",
              "       23.8, 31. , 26.2, 17.4, 37.9, 17.5, 20. ,  8.3, 23.9,  8.4, 13.8,\n",
              "        7.2, 11.7, 17.1, 21.6, 50. , 16.1, 20.4, 20.6, 21.4, 20.6, 36.5,\n",
              "        8.5, 24.8, 10.8, 21.9, 17.3, 18.9, 36.2, 14.9, 18.2, 33.3, 21.8,\n",
              "       19.7, 31.6, 24.8, 19.4, 22.8,  7.5, 44.8, 16.8, 18.7, 50. , 50. ,\n",
              "       19.5, 20.1, 50. , 17.2, 20.8, 19.3, 41.3, 20.4, 20.5, 13.8, 16.5,\n",
              "       23.9, 20.6, 31.5, 23.3, 16.8, 14. , 33.8, 36.1, 12.8, 18.3, 18.7,\n",
              "       19.1, 29. , 30.1, 50. , 50. , 22. , 11.9, 37.6, 50. , 22.7, 20.8,\n",
              "       23.5, 27.9, 50. , 19.3, 23.9, 22.6, 15.2, 21.7, 19.2, 43.8, 20.3,\n",
              "       33.2, 19.9, 22.5, 32.7, 22. , 17.1, 19. , 15. , 16.1, 25.1, 23.7,\n",
              "       28.7, 37.2, 22.6, 16.4, 25. , 29.8, 22.1, 17.4, 18.1, 30.3, 17.5,\n",
              "       24.7, 12.6, 26.5, 28.7, 13.3, 10.4, 24.4, 23. , 20. , 17.8,  7. ,\n",
              "       11.8, 24.4, 13.8, 19.4, 25.2, 19.4, 19.4, 29.1])"
            ]
          },
          "metadata": {
            "tags": []
          },
          "execution_count": 5
        }
      ]
    },
    {
      "cell_type": "markdown",
      "metadata": {
        "id": "tqJH78l8z0xm"
      },
      "source": [
        "\n",
        "The prices are typically between \\$10,000 and \\$50,000. If that sounds cheap, remember this was the mid-1970s, and these prices are not \n",
        "inflation-adjusted."
      ]
    },
    {
      "cell_type": "markdown",
      "metadata": {
        "id": "Yjas2EJEz0xm"
      },
      "source": [
        "## Preparing the data\n",
        "\n",
        "\n",
        "It would be problematic to feed into a neural network values that all take wildly different ranges. The network might be able to \n",
        "automatically adapt to such heterogeneous data, but it would definitely make learning more difficult. A widespread best practice to deal \n",
        "with such data is to do feature-wise normalization: for each feature in the input data (a column in the input data matrix), we \n",
        "will subtract the mean of the feature and divide by the standard deviation, so that the feature will be centered around 0 and will have a \n",
        "unit standard deviation. This is easily done in Numpy:"
      ]
    },
    {
      "cell_type": "code",
      "metadata": {
        "collapsed": true,
        "id": "jAePbWr_z0xm"
      },
      "source": [
        "mean = train_data.mean(axis=0)\n",
        "train_data -= mean\n",
        "std = train_data.std(axis=0)\n",
        "train_data /= std\n",
        "\n",
        "test_data -= mean\n",
        "test_data /= std"
      ],
      "execution_count": 6,
      "outputs": []
    },
    {
      "cell_type": "markdown",
      "metadata": {
        "id": "qK0sgf0Jz0xo"
      },
      "source": [
        "\n",
        "Note that the quantities that we use for normalizing the test data have been computed using the training data. We should never use in our \n",
        "workflow any quantity computed on the test data, even for something as simple as data normalization."
      ]
    },
    {
      "cell_type": "markdown",
      "metadata": {
        "id": "RuFg6Ujpz0xo"
      },
      "source": [
        "## Building our network\n",
        "\n",
        "\n",
        "Because so few samples are available, we will be using a very small network with two \n",
        "hidden layers, each with 64 units. In general, the less training data you have, the worse overfitting will be, and using \n",
        "a small network is one way to mitigate overfitting."
      ]
    },
    {
      "cell_type": "code",
      "metadata": {
        "collapsed": true,
        "id": "-76J3fTmz0xo"
      },
      "source": [
        "from keras import models\n",
        "from keras import layers\n",
        "\n",
        "def build_model():\n",
        "    # Because we will need to instantiate\n",
        "    # the same model multiple times,\n",
        "    # we use a function to construct it.\n",
        "    model = models.Sequential()\n",
        "    model.add(layers.Dense(64, activation='relu',\n",
        "                           input_shape=(train_data.shape[1],)))\n",
        "    model.add(layers.Dense(64, activation='relu'))\n",
        "    model.add(layers.Dense(1))\n",
        "    model.compile(optimizer='rmsprop', loss='mse', metrics=['mae'])\n",
        "    return model"
      ],
      "execution_count": 7,
      "outputs": []
    },
    {
      "cell_type": "markdown",
      "metadata": {
        "id": "67T4QvE0z0xp"
      },
      "source": [
        "\n",
        "Our network ends with a single unit, and no activation (i.e. it will be linear layer). \n",
        "This is a typical setup for scalar regression (i.e. regression where we are trying to predict a single continuous value). \n",
        "Applying an activation function would constrain the range that the output can take; for instance if \n",
        "we applied a `sigmoid` activation function to our last layer, the network could only learn to predict values between 0 and 1. Here, because \n",
        "the last layer is purely linear, the network is free to learn to predict values in any range.\n",
        "\n",
        "Note that we are compiling the network with the `mse` loss function -- Mean Squared Error, the square of the difference between the \n",
        "predictions and the targets, a widely used loss function for regression problems.\n",
        "\n",
        "We are also monitoring a new metric during training: `mae`. This stands for Mean Absolute Error. It is simply the absolute value of the \n",
        "difference between the predictions and the targets. For instance, a MAE of 0.5 on this problem would mean that our predictions are off by \n",
        "\\$500 on average."
      ]
    },
    {
      "cell_type": "markdown",
      "metadata": {
        "id": "ArhF_tNNz0xp"
      },
      "source": [
        "## Validating our approach using K-fold validation\n",
        "\n",
        "\n",
        "To evaluate our network while we keep adjusting its parameters (such as the number of epochs used for training), we could simply split the \n",
        "data into a training set and a validation set, as we were doing in our previous examples. However, because we have so few data points, the \n",
        "validation set would end up being very small (e.g. about 100 examples). A consequence is that our validation scores may change a lot \n",
        "depending on _which_ data points we choose to use for validation and which we choose for training, i.e. the validation scores may have a \n",
        "high _variance_ with regard to the validation split. This would prevent us from reliably evaluating our model.\n",
        "\n",
        "The best practice in such situations is to use K-fold cross-validation. It consists of splitting the available data into K partitions \n",
        "(typically K=4 or 5), then instantiating K identical models, and training each one on K-1 partitions while evaluating on the remaining \n",
        "partition. The validation score for the model used would then be the average of the K validation scores obtained."
      ]
    },
    {
      "cell_type": "markdown",
      "metadata": {
        "id": "YbB2jmc1z0xq"
      },
      "source": [
        "In terms of code, this is straightforward:"
      ]
    },
    {
      "cell_type": "code",
      "metadata": {
        "colab": {
          "base_uri": "https://localhost:8080/"
        },
        "id": "hOwTcBofz0xq",
        "outputId": "df27ee59-d031-4072-816a-6a8e33fc13d8"
      },
      "source": [
        "import numpy as np\n",
        "\n",
        "k = 4\n",
        "num_val_samples = len(train_data) // k\n",
        "num_epochs = 100\n",
        "all_scores = []\n",
        "for i in range(k):\n",
        "    print('processing fold #', i)\n",
        "    # Prepare the validation data: data from partition # k\n",
        "    val_data = train_data[i * num_val_samples: (i + 1) * num_val_samples]\n",
        "    val_targets = train_targets[i * num_val_samples: (i + 1) * num_val_samples]\n",
        "\n",
        "    # Prepare the training data: data from all other partitions\n",
        "    partial_train_data = np.concatenate(\n",
        "        [train_data[:i * num_val_samples],\n",
        "         train_data[(i + 1) * num_val_samples:]],\n",
        "        axis=0)\n",
        "    partial_train_targets = np.concatenate(\n",
        "        [train_targets[:i * num_val_samples],\n",
        "         train_targets[(i + 1) * num_val_samples:]],\n",
        "        axis=0)\n",
        "\n",
        "    # Build the Keras model (already compiled)\n",
        "    model = build_model()\n",
        "    # Train the model (in silent mode, verbose=0)\n",
        "    model.fit(partial_train_data, partial_train_targets,\n",
        "              epochs=num_epochs, batch_size=1, verbose=0)\n",
        "    # Evaluate the model on the validation data\n",
        "    val_mse, val_mae = model.evaluate(val_data, val_targets, verbose=0)\n",
        "    all_scores.append(val_mae)"
      ],
      "execution_count": 8,
      "outputs": [
        {
          "output_type": "stream",
          "text": [
            "processing fold # 0\n",
            "processing fold # 1\n",
            "processing fold # 2\n",
            "processing fold # 3\n"
          ],
          "name": "stdout"
        }
      ]
    },
    {
      "cell_type": "code",
      "metadata": {
        "colab": {
          "base_uri": "https://localhost:8080/"
        },
        "id": "fNkWlNmsz0xq",
        "outputId": "4f954326-20f0-4476-d9c8-f0718f092c9e"
      },
      "source": [
        "all_scores"
      ],
      "execution_count": 9,
      "outputs": [
        {
          "output_type": "execute_result",
          "data": {
            "text/plain": [
              "[2.1349716186523438, 2.3490190505981445, 2.663242816925049, 2.5893750190734863]"
            ]
          },
          "metadata": {
            "tags": []
          },
          "execution_count": 9
        }
      ]
    },
    {
      "cell_type": "code",
      "metadata": {
        "colab": {
          "base_uri": "https://localhost:8080/"
        },
        "id": "AwUJ2z_Az0xr",
        "outputId": "96d03f4c-a52d-48cd-f9ee-a1e333ef53ba"
      },
      "source": [
        "np.mean(all_scores)"
      ],
      "execution_count": 10,
      "outputs": [
        {
          "output_type": "execute_result",
          "data": {
            "text/plain": [
              "2.434152126312256"
            ]
          },
          "metadata": {
            "tags": []
          },
          "execution_count": 10
        }
      ]
    },
    {
      "cell_type": "markdown",
      "metadata": {
        "id": "aL3-uQMUz0xr"
      },
      "source": [
        "\n",
        "As you can notice, the different runs do indeed show rather different validation scores, from 2.1 to 2.9. Their average (2.4) is a much more \n",
        "reliable metric than any single of these scores -- that's the entire point of K-fold cross-validation. In this case, we are off by \\$2,400 on \n",
        "average, which is still significant considering that the prices range from \\$10,000 to \\$50,000. \n",
        "\n",
        "Let's try training the network for a bit longer: 500 epochs. To keep a record of how well the model did at each epoch, we will modify our training loop \n",
        "to save the per-epoch validation score log:"
      ]
    },
    {
      "cell_type": "code",
      "metadata": {
        "collapsed": true,
        "id": "jmssEUKOz0xt"
      },
      "source": [
        "from keras import backend as K\n",
        "\n",
        "# Some memory clean-up\n",
        "K.clear_session()"
      ],
      "execution_count": 11,
      "outputs": []
    },
    {
      "cell_type": "code",
      "metadata": {
        "colab": {
          "base_uri": "https://localhost:8080/"
        },
        "id": "EYdRs1pcz0xt",
        "outputId": "99e62740-ad6b-45ac-a564-5fecc737ab30"
      },
      "source": [
        "#num_epochs = 500\n",
        "num_epochs = 10\n",
        "all_mae_histories = []\n",
        "for i in range(k):\n",
        "    print('processing fold #', i)\n",
        "    # Prepare the validation data: data from partition # k\n",
        "    val_data = train_data[i * num_val_samples: (i + 1) * num_val_samples]\n",
        "    val_targets = train_targets[i * num_val_samples: (i + 1) * num_val_samples]\n",
        "\n",
        "    # Prepare the training data: data from all other partitions\n",
        "    partial_train_data = np.concatenate(\n",
        "        [train_data[:i * num_val_samples],\n",
        "         train_data[(i + 1) * num_val_samples:]],\n",
        "        axis=0)\n",
        "    partial_train_targets = np.concatenate(\n",
        "        [train_targets[:i * num_val_samples],\n",
        "         train_targets[(i + 1) * num_val_samples:]],\n",
        "        axis=0)\n",
        "\n",
        "    # Build the Keras model (already compiled)\n",
        "    model = build_model()\n",
        "    # Train the model (in silent mode, verbose=0)\n",
        "    history = model.fit(partial_train_data, partial_train_targets,\n",
        "                        validation_data=(val_data, val_targets),\n",
        "                        epochs=num_epochs, batch_size=1, verbose=0)\n",
        "    #model.compile('sgd', metrics=[tf.keras.metrics.MeanAbsoluteError()])\n",
        "    #model.compile('sgd', metrics=['mean_absolute_error'])\n",
        "    #mae_history = history.history['val_mean_absolute_error']\n",
        "    mae_history = history.history['val_mae']\n",
        "    all_mae_histories.append(mae_history)"
      ],
      "execution_count": 17,
      "outputs": [
        {
          "output_type": "stream",
          "text": [
            "processing fold # 0\n",
            "processing fold # 1\n",
            "processing fold # 2\n",
            "processing fold # 3\n"
          ],
          "name": "stdout"
        }
      ]
    },
    {
      "cell_type": "markdown",
      "metadata": {
        "id": "dfbTc7Dez0xt"
      },
      "source": [
        "We can then compute the average of the per-epoch MAE scores for all folds:"
      ]
    },
    {
      "cell_type": "code",
      "metadata": {
        "collapsed": true,
        "id": "fOkYJ5K-z0xu"
      },
      "source": [
        "average_mae_history = [\n",
        "    np.mean([x[i] for x in all_mae_histories]) for i in range(num_epochs)]"
      ],
      "execution_count": 18,
      "outputs": []
    },
    {
      "cell_type": "markdown",
      "metadata": {
        "id": "4qaa2gsnz0xu"
      },
      "source": [
        "Let's plot this:"
      ]
    },
    {
      "cell_type": "code",
      "metadata": {
        "colab": {
          "base_uri": "https://localhost:8080/",
          "height": 279
        },
        "id": "ESsAQ7k6z0xu",
        "outputId": "26a2a4f3-c440-4fa3-e6d7-2187cb560040"
      },
      "source": [
        "import matplotlib.pyplot as plt\n",
        "\n",
        "plt.plot(range(1, len(average_mae_history) + 1), average_mae_history)\n",
        "plt.xlabel('Epochs')\n",
        "plt.ylabel('Validation MAE')\n",
        "plt.show()"
      ],
      "execution_count": 19,
      "outputs": [
        {
          "output_type": "display_data",
          "data": {
            "image/png": "[encoded data removed]",
            "text/plain": [
              "<Figure size 432x288 with 1 Axes>"
            ]
          },
          "metadata": {
            "tags": [],
            "needs_background": "light"
          }
        }
      ]
    },
    {
      "cell_type": "markdown",
      "metadata": {
        "id": "qDJEDI86z0xv"
      },
      "source": [
        "\n",
        "It may be a bit hard to see the plot due to scaling issues and relatively high variance. Let's:\n",
        "\n",
        "* Omit the first 10 data points, which are on a different scale from the rest of the curve.\n",
        "* Replace each point with an exponential moving average of the previous points, to obtain a smooth curve."
      ]
    },
    {
      "cell_type": "code",
      "metadata": {
        "id": "KOD0bVcgz0xv",
        "outputId": "b84851e5-5fa5-4ac3-aedc-36ce4d68a87e"
      },
      "source": [
        "def smooth_curve(points, factor=0.9):\n",
        "  smoothed_points = []\n",
        "  for point in points:\n",
        "    if smoothed_points:\n",
        "      previous = smoothed_points[-1]\n",
        "      smoothed_points.append(previous * factor + point * (1 - factor))\n",
        "    else:\n",
        "      smoothed_points.append(point)\n",
        "  return smoothed_points\n",
        "\n",
        "smooth_mae_history = smooth_curve(average_mae_history[10:])\n",
        "\n",
        "plt.plot(range(1, len(smooth_mae_history) + 1), smooth_mae_history)\n",
        "plt.xlabel('Epochs')\n",
        "plt.ylabel('Validation MAE')\n",
        "plt.show()"
      ],
      "execution_count": null,
      "outputs": [
        {
          "output_type": "display_data",
          "data": {
            "image/png": "[encoded data removed]",
            "text/plain": [
              "<matplotlib.figure.Figure at 0x7f5091305860>"
            ]
          },
          "metadata": {
            "tags": []
          }
        }
      ]
    },
    {
      "cell_type": "markdown",
      "metadata": {
        "id": "uIoqbewgz0xv"
      },
      "source": [
        "\n",
        "According to this plot, it seems that validation MAE stops improving significantly after 80 epochs. Past that point, we start overfitting.\n",
        "\n",
        "Once we are done tuning other parameters of our model (besides the number of epochs, we could also adjust the size of the hidden layers), we \n",
        "can train a final \"production\" model on all of the training data, with the best parameters, then look at its performance on the test data:"
      ]
    },
    {
      "cell_type": "code",
      "metadata": {
        "id": "5vnEAPDpz0xw",
        "outputId": "105792e9-c2f6-454a-c4b5-2495b7dfdde6"
      },
      "source": [
        "# Get a fresh, compiled model.\n",
        "model = build_model()\n",
        "# Train it on the entirety of the data.\n",
        "model.fit(train_data, train_targets,\n",
        "          epochs=80, batch_size=16, verbose=0)\n",
        "test_mse_score, test_mae_score = model.evaluate(test_data, test_targets)"
      ],
      "execution_count": null,
      "outputs": [
        {
          "output_type": "stream",
          "text": [
            "\r 32/102 [========>.....................] - ETA: 0s"
          ],
          "name": "stdout"
        }
      ]
    },
    {
      "cell_type": "code",
      "metadata": {
        "id": "LZ1qgXkFz0xx",
        "outputId": "8f6db005-72cf-4763-a897-08d8dea8b1a4"
      },
      "source": [
        "test_mae_score"
      ],
      "execution_count": null,
      "outputs": [
        {
          "output_type": "execute_result",
          "data": {
            "text/plain": [
              "2.5532484335057877"
            ]
          },
          "metadata": {
            "tags": []
          },
          "execution_count": 29
        }
      ]
    },
    {
      "cell_type": "markdown",
      "metadata": {
        "id": "ltvbrAN-z0xx"
      },
      "source": [
        "We are still off by about \\$2,550."
      ]
    },
    {
      "cell_type": "markdown",
      "metadata": {
        "id": "KnRcXfxNz0xx"
      },
      "source": [
        "## Wrapping up\n",
        "\n",
        "\n",
        "Here's what you should take away from this example:\n",
        "\n",
        "* Regression is done using different loss functions from classification; Mean Squared Error (MSE) is a commonly used loss function for \n",
        "regression.\n",
        "* Similarly, evaluation metrics to be used for regression differ from those used for classification; naturally the concept of \"accuracy\" \n",
        "does not apply for regression. A common regression metric is Mean Absolute Error (MAE).\n",
        "* When features in the input data have values in different ranges, each feature should be scaled independently as a preprocessing step.\n",
        "* When there is little data available, using K-Fold validation is a great way to reliably evaluate a model.\n",
        "* When little training data is available, it is preferable to use a small network with very few hidden layers (typically only one or two), \n",
        "in order to avoid severe overfitting.\n",
        "\n",
        "This example concludes our series of three introductory practical examples. You are now able to handle common types of problems with vector data input:\n",
        "\n",
        "* Binary (2-class) classification.\n",
        "* Multi-class, single-label classification.\n",
        "* Scalar regression.\n",
        "\n",
        "In the next chapter, you will acquire a more formal understanding of some of the concepts you have encountered in these first examples, \n",
        "such as data preprocessing, model evaluation, and overfitting."
      ]
    }
  ]
}